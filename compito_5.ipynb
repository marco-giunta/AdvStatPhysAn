{
 "cells": [
  {
   "cell_type": "markdown",
   "id": "3d912c11-f577-440f-baae-188d6f8acdb1",
   "metadata": {},
   "source": [
    "# name: Marco Giunta\n",
    "## Rlab04"
   ]
  },
  {
   "cell_type": "code",
   "execution_count": 1,
   "id": "e9aae1e3-eea9-4174-ad92-148e0d1fc8b2",
   "metadata": {},
   "outputs": [
    {
     "name": "stderr",
     "output_type": "stream",
     "text": [
      "-- \u001b[1mAttaching packages\u001b[22m ------------------------------------------------------------------------------- tidyverse 1.3.1 --\n",
      "\n",
      "\u001b[32mv\u001b[39m \u001b[34mggplot2\u001b[39m 3.3.3     \u001b[32mv\u001b[39m \u001b[34mpurrr  \u001b[39m 0.3.4\n",
      "\u001b[32mv\u001b[39m \u001b[34mtibble \u001b[39m 3.1.0     \u001b[32mv\u001b[39m \u001b[34mdplyr  \u001b[39m 1.0.5\n",
      "\u001b[32mv\u001b[39m \u001b[34mtidyr  \u001b[39m 1.1.3     \u001b[32mv\u001b[39m \u001b[34mstringr\u001b[39m 1.4.0\n",
      "\u001b[32mv\u001b[39m \u001b[34mreadr  \u001b[39m 1.4.0     \u001b[32mv\u001b[39m \u001b[34mforcats\u001b[39m 0.5.1\n",
      "\n",
      "-- \u001b[1mConflicts\u001b[22m ---------------------------------------------------------------------------------- tidyverse_conflicts() --\n",
      "\u001b[31mx\u001b[39m \u001b[34mdplyr\u001b[39m::\u001b[32mfilter()\u001b[39m masks \u001b[34mstats\u001b[39m::filter()\n",
      "\u001b[31mx\u001b[39m \u001b[34mdplyr\u001b[39m::\u001b[32mlag()\u001b[39m    masks \u001b[34mstats\u001b[39m::lag()\n",
      "\n"
     ]
    }
   ],
   "source": [
    "library(tidyverse)"
   ]
  },
  {
   "cell_type": "markdown",
   "id": "5ffc3176-122f-4852-8033-0c2c9f1e879f",
   "metadata": {},
   "source": [
    "# Exercise 1: newspaper inference\n",
    "## Introduction\n",
    "In order to apply Bayes' theorem to this problem we first need to setup a generative model for the data. Notice that each person either reads the journal or doesn't; if we suppose that for any given person the former happens with probability $p$ then this process can be modelled as a Bernoulli trial.\n",
    "\n",
    "**a)** Due to the above if we sample a population of multiple people the process as a whole can be modelled with a *binomial* distribution - parametrized by an unknown value of $p$.   \n",
    "\n",
    "**b)** Bayes' theorem states that:\n",
    "\\begin{equation}\n",
    "  \\text{posterior} = \\frac{\\text{likelihood}\\times\\text{prior}}{\\text{evidence}}\n",
    "\\end{equation}\n",
    "The denominator is just a constant normalization factor; if we assume a uniform prior then the prior itself equals a constant, too. This means that in our case\n",
    "\\begin{equation}\n",
    "  \\text{posterior} \\propto \\text{likelihood}\n",
    "\\end{equation}\n",
    "i.e. the posterior and the likelihood are the same function up to a change of scale needed to normalize the area.       \n",
    "\n",
    "**c)** The above points imply that the likelihood is $\\text{Binom}(k = 29, n = 150; p)$ - where $n$ and $k$ are fixed by the data, whereas $p$ is the only true (continuous) variable and target of the inference. Of course $p \\in [0,1]$; hence to normalize the likelihood wrt $p$ we need to integrate over $I=[0,1]$ i.e.\n",
    "\\begin{equation}\n",
    "  \\text{posterior} = \\frac{\\text{Binom}(k=29,n=150;p)}{\\int_0^1 \\text{Binom}(k=29,n=150;p)\\mathrm{d}p}\n",
    "\\end{equation}"
   ]
  },
  {
   "cell_type": "code",
   "execution_count": 40,
   "id": "eadedad2-6ed7-4979-8be7-0f4d09619b66",
   "metadata": {},
   "outputs": [
    {
     "data": {
      "image/png": "[encoded data removed]",
      "text/plain": [
       "Plot with title \"likelihood; area underneath =  0.00662251655631858\""
      ]
     },
     "metadata": {
      "image/png": {
       "height": 420,
       "width": 420
      }
     },
     "output_type": "display_data"
    },
    {
     "data": {
      "image/png": "[encoded data removed]",
      "text/plain": [
       "Plot with title \"posterior; area underneath =  0.999999999995894\""
      ]
     },
     "metadata": {
      "image/png": {
       "height": 420,
       "width": 420
      }
     },
     "output_type": "display_data"
    }
   ],
   "source": [
    "likelihood <- function(p) dbinom(x = 29, size = 150, prob = p) # explicit but equivalent function definition: function(p) p^29*(1-p)^(150-29) * choose(150,29)\n",
    "\n",
    "posterior <- function(p) likelihood(p)/integrate(likelihood, lower = 0, upper = 1)$value\n",
    "\n",
    "p.vector <- seq(0, 1, length.out = 500)\n",
    "\n",
    "plot(p.vector, likelihood(p.vector), type = \"l\", lwd = 3, col = \"deepskyblue\", xlab = \"p\", ylab = \"likelihood\", main = paste(\"likelihood; area underneath = \",integrate(likelihood, 0, 1)$value))\n",
    "abline(v = 29/150, col = \"red\")\n",
    "#lines(p.vector, posterior(p.vector), lwd = 3, col = \"blue\")\n",
    "plot(p.vector, posterior(p.vector), type = \"l\", lwd = 3, col = \"blue\", xlab = \"p\", ylab = \"posterior\", main = paste(\"posterior; area underneath = \", integrate(posterior, 0, 1)$value))\n",
    "abline(v = 29/150, col = \"red\")\n",
    "\n",
    "#df <- data.frame(p.vector, likelihood(p.vector), posterior(p.vector))\n",
    "#names(df) <- c(\"p\", \"likelihood\", \"posterior\")\n",
    "#g <- ggplot(data = df) + geom_line(aes(x = p, y = likelihood)) + geom_line(aes(x = p, y = posterior))\n",
    "#g"
   ]
  },
  {
   "cell_type": "markdown",
   "id": "a8064e98-b42a-4d28-95d6-5f926432ccc3",
   "metadata": {},
   "source": [
    "Notice that the mode is exactly at $29/150$. This makes sense: in absence of any pre-existing information (we picked a uniform prior) our best \"intuitive\" estimate for $p$ coming from the data should be $29/150$."
   ]
  },
  {
   "cell_type": "markdown",
   "id": "8badefe7-e997-486a-a094-6a5a4b2dac4b",
   "metadata": {},
   "source": [
    "# Exercise 2: concert hall inference"
   ]
  },
  {
   "cell_type": "code",
   "execution_count": null,
   "id": "5d73b07f-2fb6-4d34-acd0-55e3484c0561",
   "metadata": {},
   "outputs": [],
   "source": []
  },
  {
   "cell_type": "markdown",
   "id": "b9b55d16-fce6-4047-8a22-0759fbfd4ecb",
   "metadata": {},
   "source": [
    "# Exercise 3: coin flip inference"
   ]
  }
 ],
 "metadata": {
  "kernelspec": {
   "display_name": "R",
   "language": "R",
   "name": "ir"
  },
  "language_info": {
   "codemirror_mode": "r",
   "file_extension": ".r",
   "mimetype": "text/x-r-source",
   "name": "R",
   "pygments_lexer": "r",
   "version": "4.0.5"
  }
 },
 "nbformat": 4,
 "nbformat_minor": 5
}
