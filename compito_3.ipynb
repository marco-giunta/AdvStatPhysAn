{
 "cells": [
  {
   "cell_type": "markdown",
   "id": "78a697f2-e688-428b-a491-b2d990363ac8",
   "metadata": {},
   "source": [
    "name: Marco Giunta"
   ]
  },
  {
   "cell_type": "code",
   "execution_count": 2,
   "id": "d6b21584-1523-46f7-9b27-1ad3695a934f",
   "metadata": {},
   "outputs": [
    {
     "name": "stderr",
     "output_type": "stream",
     "text": [
      "-- \u001b[1mAttaching packages\u001b[22m ------------------------------------------------------------------------------- tidyverse 1.3.0 --\n",
      "\n",
      "\u001b[32mv\u001b[39m \u001b[34mggplot2\u001b[39m 3.3.3     \u001b[32mv\u001b[39m \u001b[34mpurrr  \u001b[39m 0.3.4\n",
      "\u001b[32mv\u001b[39m \u001b[34mtibble \u001b[39m 3.1.0     \u001b[32mv\u001b[39m \u001b[34mdplyr  \u001b[39m 1.0.5\n",
      "\u001b[32mv\u001b[39m \u001b[34mtidyr  \u001b[39m 1.1.3     \u001b[32mv\u001b[39m \u001b[34mstringr\u001b[39m 1.4.0\n",
      "\u001b[32mv\u001b[39m \u001b[34mreadr  \u001b[39m 1.4.0     \u001b[32mv\u001b[39m \u001b[34mforcats\u001b[39m 0.5.1\n",
      "\n",
      "-- \u001b[1mConflicts\u001b[22m ---------------------------------------------------------------------------------- tidyverse_conflicts() --\n",
      "\u001b[31mx\u001b[39m \u001b[34mdplyr\u001b[39m::\u001b[32mfilter()\u001b[39m masks \u001b[34mstats\u001b[39m::filter()\n",
      "\u001b[31mx\u001b[39m \u001b[34mdplyr\u001b[39m::\u001b[32mlag()\u001b[39m    masks \u001b[34mstats\u001b[39m::lag()\n",
      "\n"
     ]
    }
   ],
   "source": [
    "library(\"tidyverse\")"
   ]
  },
  {
   "cell_type": "markdown",
   "id": "440bc614-9659-44d4-aba8-ad5c07668127",
   "metadata": {},
   "source": [
    "# Exercise 1: the triangular distribution\n",
    "Our function is parametrized by three numbers $a \\leq c \\leq b$ and defined as:\n",
    "\\begin{equation}\n",
    "  f(x) =\n",
    "    \\left\\{\n",
    "      \\begin{array}\n",
    "        \\ \\frac{2(x-a)}{(b-a)(c-a)} \\ a\\leq x < c \\\\\n",
    "        \\ \\frac{2(b-x)}{(b-a)(b-c)} \\ c\\leq x \\leq b\\\\\n",
    "        \\ \\ 0 \\qquad \\text{otherwise}\n",
    "      \\end{array}\n",
    "    \\right.\n",
    "\\end{equation}\n",
    "This is easily implemented with a nested `ifelse`."
   ]
  },
  {
   "cell_type": "code",
   "execution_count": 1,
   "id": "381d3131-1f50-4b8e-b296-5ae1966d4d8d",
   "metadata": {},
   "outputs": [],
   "source": [
    "dtriang <- function(x, a, b, c, log = FALSE) {\n",
    "    y <- ifelse((a <= x & x < c), 2*(x-a)/((b-a)*(c-a)), ifelse((c <= x & x <= b), 2*(b-x)/((b-a)*(b-c)), 0))\n",
    "    if (log) y <- log(y)\n",
    "    return(y)\n",
    "}"
   ]
  },
  {
   "cell_type": "markdown",
   "id": "a4edee69-168b-481e-9dd4-159d56ad14b6",
   "metadata": {},
   "source": [
    "## 1.1: function plot\n",
    "If we choose 3 values for $a$, $b$ and $c$ we can easily plot our function."
   ]
  },
  {
   "cell_type": "code",
   "execution_count": 10,
   "id": "391dbcbf-bd56-4e43-b053-89cd765a867c",
   "metadata": {},
   "outputs": [
    {
     "data": {
      "image/png": "[encoded data removed]",
      "text/plain": [
       "Plot with title \"Triangular distribution\""
      ]
     },
     "metadata": {
      "image/png": {
       "height": 420,
       "width": 420
      }
     },
     "output_type": "display_data"
    }
   ],
   "source": [
    "# we pick a = 0, c = 0.5, b = 1 for simplicity.\n",
    "a <- 0; b <- 1; c <- 0.5\n",
    "x <- seq(a-0.25, b+0.25, length.out = 1000) # we include extra values to check it's zero outside [a,b]=[0,1]\n",
    "plot(x, dtriang(x, a, b, c), col = \"blue\", main = \"Triangular distribution\")"
   ]
  },
  {
   "cell_type": "markdown",
   "id": "f540c558-8422-458e-9c79-5f431a95cc27",
   "metadata": {},
   "source": [
    "## 1.2: Sampling from the triangular distribution\n",
    "### Inverse transform sampling\n",
    "As we know a simple algorithm to sample from an arbitrary distribution is via *inverse transform sampling*, which consists in applying the inverse CDF to random numbers sampled from $U[0,1]$; the difficult part is evaluating\n",
    "the inverse CDF, which in the simple case of a triangular distribution can actually be computed exactly.          \n",
    "We start by computing the CDF via its integral definition:\n",
    "\\begin{equation}\n",
    "F(x) = \\int_{-\\infty}^x f(x') \\ \\mathrm{d} x'\n",
    "\\end{equation}\n",
    "This integral can be evaluated numerically, but since later we'll need to make many calls to the cdf it's best not to be lazy and analitically integrate $f$ (which isn't very hard, since it's just a polynomial); otherwise everything will be uncecessarily slow.                 \n",
    "It's possible to show that the CDF $F(x)$ is:\n",
    "\\begin{equation}\n",
    "  F(x)=\n",
    "    \\left\\{\n",
    "      \\begin{array}\n",
    "       \\ 0 \\qquad \\qquad \\qquad \\qquad x \\leq a\\\\ \n",
    "       \\ \\frac{(x-a)^2}{(b-a)(c-a)} \\qquad \\qquad a \\leq x \\leq c \\\\\n",
    "       \\ \\frac{(b-c)^2-(b-x)^2}{(b-a)(b-c)} + \\frac{c-a}{b-a} \\ \\ c \\leq x \\leq b \\\\ \n",
    "       \\ 1 \\qquad \\qquad \\qquad \\qquad x \\geq b\n",
    "      \\end{array}\n",
    "    \\right.\n",
    "\\end{equation}\n",
    "Notice that we can use $\\leq$ everywhere with no need to distinguish where to include, say, $c$. This is true because since $f$ is continuous (even though not differentiable) and $F'(x)=f(x)$ by definition then it means that \n",
    "$F$ is both continuous and differentiable, and hence it must be possible to smoothly join the different parts of the curve (and even if we didn't consider this fact it's trivial to check continuity of the above function since limits of \n",
    "polynomials are trivial)."
   ]
  },
  {
   "cell_type": "code",
   "execution_count": null,
   "id": "58ab393e-f736-4a1f-9b3f-83c0f165d829",
   "metadata": {},
   "outputs": [],
   "source": [
    "# Function definition\n",
    "ptriang <- function(x, a, b, c, lower.tail = TRUE, log.p = FALSE) {\n",
    "    y <- ifelse((x <= a), 0, ifelse((x >= b), 1, ifelse((x < c), (x-a)^2/((b-a)*(c-a)), ((b-c)^2-(b-x)^2)/((b-a)*(b-c)) + (c-a)/(b-a)))) \n",
    "    # Note that if x is less than a the integral is trivially 0; similarly due to normaliz. it's 1 if x is greater than b.\n",
    "    # If neither of these holds then x is definitely in [a,b], and we only need to check whether it's less or greater than c.\n",
    "                   \n",
    "    if (lower.tail == FALSE) {y <- 1 - y}\n",
    "    if (log.p) {y <- log(y)}\n",
    "    return(y)    \n",
    "}"
   ]
  },
  {
   "cell_type": "code",
   "execution_count": 11,
   "id": "92a5a5b2-803e-4600-9626-f5d9244d0bf4",
   "metadata": {},
   "outputs": [],
   "source": [
    "# CDF definition\n",
    "# Note: usually I use ifelse in place of if to achieve vectorization, but since we have to define many cases I find it easier to type a function with many if and else's capable of accepting scalars only and then apply Vectorize\n",
    "ptriang <- function(x, a, b, c, lower.tail = TRUE, log.p = FALSE) {\n",
    "    # Note that if x is less than a the integral is trivially 0; similarly due to normaliz. it's 1 if x is greater than b.\n",
    "    # If neither of these holds then x is definitely in [a,b], and we only need to check whether it's less or greater than c.\n",
    "    if(x <= a) y <- 0\n",
    "    else {\n",
    "        if(x >= b) y <- 1\n",
    "        else {\n",
    "            if(x < c) y <- (x-a)^2/((b-a)*(c-a))\n",
    "            else y <- ((b-c)^2-(b-x)^2)/((b-a)*(b-c)) + (c-a)/(b-a)\n",
    "        }\n",
    "    }\n",
    "    if (lower.tail == FALSE) {y <- 1 - y}\n",
    "    if (log.p) {y <- log(y)}\n",
    "    return(y)    \n",
    "}\n",
    "\n",
    "ptriang <- Vectorize(ptriang)"
   ]
  },
  {
   "cell_type": "code",
   "execution_count": 37,
   "id": "6406cba4-48a5-47fe-a33d-7422561cde81",
   "metadata": {},
   "outputs": [
    {
     "data": {
      "image/png": "[encoded data removed]",
      "text/plain": [
       "Plot with title \"Triangular CDF with (a,b,c) = (0.00,1.00,0.50)\""
      ]
     },
     "metadata": {
      "image/png": {
       "height": 420,
       "width": 420
      }
     },
     "output_type": "display_data"
    }
   ],
   "source": [
    "# CDF Plot to check its shape\n",
    "# we pick a = 0, c = 0.5, b = 1 for simplicity.\n",
    "a <- 0; b <- 1; c <- 0.5\n",
    "x <- seq(a-0.25, b+0.25, length.out = 1000) # we include extra values to check it's zero outside [a,b]=[0,1]\n",
    "plot(x, ptriang(x, a, b, c), col = \"deepskyblue\", main = sprintf(\"Triangular CDF with (a,b,c) = (%.2f,%.2f,%.2f)\", a, b, c))"
   ]
  },
  {
   "cell_type": "code",
   "execution_count": 39,
   "id": "14715e4a-7c2c-4bca-889e-91d6b5540718",
   "metadata": {},
   "outputs": [
    {
     "data": {
      "image/png": "[encoded data removed]",
      "text/plain": [
       "plot without title"
      ]
     },
     "metadata": {
      "image/png": {
       "height": 420,
       "width": 420
      }
     },
     "output_type": "display_data"
    }
   ],
   "source": [
    "# To check everything works we compare the exact CDF with the one we can define via numerical integration as follows.\n",
    "ptriang.numerical <- function(x, a, b, c, lower.tail = TRUE, log.p = FALSE) {\n",
    "    f <- function(z) dtriang(z, a, b, c)\n",
    "    \n",
    "    # We apply Vectorize to a function which returns integrate's output, then evaluate the resulting function inside the ifelse\n",
    "    g <- Vectorize(function(z) integrate(f, a, z)$value) # it's enough to integrate \"above\" a since \"below\" a f is zero\n",
    "                   \n",
    "    y <- ifelse((x <= a), 0, ifelse((x >= b), 1, g(x))) # if x is less than a the integral is trivially 0; similarly due to normaliz. it's 1 if x is greater than b. Only in between do we actually need to compute an integral\n",
    "    # Technically the above step is not needed (we could just compute the integral for arbitrary x), but since this is just an approximation it's best to avoid it when the exact result is easily available;\n",
    "    # this way we both reduce numerical errors and speed up the computation of the function (when possible we exchange the computation of an integral with the function just returning a constant)\n",
    "                   \n",
    "    if (lower.tail == FALSE) {y <- 1 - y}\n",
    "    if (log.p) {y <- log(y)}\n",
    "    return(y)    \n",
    "}\n",
    "                   \n",
    "# Now we plot both of them via ggplot to check they produce indistinguishable curves.\n",
    "# we pick a = 0, c = 0.5, b = 1 for simplicity.\n",
    "a <- 0; b <- 1; c <- 0.5\n",
    "N <- 100 # numbers of points to compute\n",
    "x <- seq(a-0.25, b+0.25, length.out = N) # we include extra values to check it's zero outside [a,b]=[0,1]\n",
    "y <- c(ptriang(x, a, b, c), ptriang.numerical(x, a, b, c))\n",
    "computation.type <- c(rep(\"exact\", times = N), rep(\"numerical\", times = N))\n",
    "df <- data.frame(x, y, type)\n",
    "names(df) <- c(\"x\", \"ptriang\", \"computation type\")\n",
    "g <- ggplot(data = df) + geom_line(aes(x = x, y = ptriang, col = computation.type), size = 1.2) + ggtitle(\"CDFs comparison\")\n",
    "g # they definitely are the same function!"
   ]
  },
  {
   "cell_type": "markdown",
   "id": "9a5d45ec-a828-4c01-9fb4-ad7809e930a1",
   "metadata": {},
   "source": [
    "Now that we have the CDF we can invert it and apply its inverse to uniform random numbers as explained above; the only things that remains to do is to numerically invert the cdf."
   ]
  },
  {
   "cell_type": "code",
   "execution_count": 40,
   "id": "309052f4-d4bf-4db4-b1dd-3d8c1f078f36",
   "metadata": {},
   "outputs": [],
   "source": [
    "# (the following explanation of how I perform the numerical inversion of a monotonically increasing function with codomain = [0,1] has been copied and pasted from my previous homework)\n",
    "\n",
    "qtriang <- function(y, a, b, c, lower.tail = TRUE, log.p = FALSE) {\n",
    "    # by definition the quantile function Q(y) associated to the cdf F(x) returns the particular value of x such that F(x)=y; if F is a stricly monotonically increasing function then it holds that Q = F^-1.\n",
    "    # Since by definition the cdf returns a probability it must always hold that F maps its domain to the interval [0,1], and hence the quantile's domanin must be [0,1], too, and because of this we define qexamtime in\n",
    "    # such a way that it returns NA if the user tries to input a number not in [0,1].\n",
    "    \n",
    "    # Let's now say our user has inputted a number y in [0,1]; how do we compute Q(y)? If the cdf was a simpler function then we could compute its inverse analitically by solving the equation F(x) = y i.e.\n",
    "    # by inverting F exactly, but this isn't practical in our case. We already know our F(x) is a 3rd degree polynomial, and hence F(x) = y can technically be solved exactly - but with a complex formula! Even if we use \n",
    "    # numerical root finding routines we have the issue that the three roots are real and therefore we'd have to choose one.\n",
    "    # Because of this we turn towards a general method to numerically invert a monotonic function and proceed as follows.\n",
    "    \n",
    "    # Our task is to invert the function F(x) i.e. to solve the equation F(x) = y, which is equivalent to F(x)-y = 0. If we discretize our input values we can define a vector X, which represents every possible discrete input\n",
    "    # to be fed to F; this lets us immediately compute the vector Y holding the images of our discretized domain (trivial if the implementation of F is vectorized). Let's now say that we want to find which x in X was used\n",
    "    # to generate a certain y in Y; the x we're looking for is the one which solves F(x)-y=0, i.e. the component of F(X)-y which is closest to 0 (since by definition x's image is equal to y; we consider \"closest\" instead of \"equal\"\n",
    "    # to account for numerical errors). If F is monotonic then the solution to this equation is actually unique, because in order to find multiple x's with the same images our function would either need to be constant or\n",
    "    # to have a derivative with variable sign (neither of which is true for our cdf in its nontrivial interval).\n",
    "    # Our numerical inversion algorithm is hence as follows: \n",
    "    # - if the user input is not in ]0,1[ we return NA (0 ad 1 are not included because any x outside ]1,2[ has 0 or 1 as image, hence F is not invertible there). Otherwise:\n",
    "    # - we generate a grid X of interisting x values (i.e. between 1 and 2);\n",
    "    # - we compute the argmin of |F(X)-y| for user input y (via which.min);\n",
    "    # - we return the component of X of index equal to the above argmin.\n",
    "    \n",
    "    X <- seq(a, b, length.out = 1e4) # finer grid divisions may be chosen. Notice that we care about the generic [a,b] interval; outside of it f = 0 and the cdf is piecewise constant and hence not invertible\n",
    "    x <- ifelse((0 < y & y < 1), X[which.min(abs(ptriang(X, a, b, c,)-y))], NA)\n",
    "    if (lower.tail == FALSE) x <- 1-x\n",
    "    if (log.p) x <- log(x)\n",
    "    return(x)\n",
    "}\n",
    "\n",
    "# The above function is not vectorized and instead returns a constant vector of the x associated to the last component of the input (I'm not sure why); to fix this we use the Vectorize function.\n",
    "qtriang <- Vectorize(qtriang)\n",
    "# an alternative is to use something like map_dbl(x, qtriang)\n",
    "\n",
    "# random variate sampler via inverse transform sampling\n",
    "rtriang <- function(n, a, b, c) return(qtriang(runif(n), a, b, c)) # here we need qtriang to be fully vectorized!"
   ]
  },
  {
   "cell_type": "code",
   "execution_count": 44,
   "id": "73b123f4-e7f4-4508-b2e9-717ecbee22b6",
   "metadata": {},
   "outputs": [
    {
     "data": {
      "image/png": "[encoded data removed]",
      "text/plain": [
       "Plot with title \"Quantile of triangular distribution\""
      ]
     },
     "metadata": {
      "image/png": {
       "height": 420,
       "width": 420
      }
     },
     "output_type": "display_data"
    }
   ],
   "source": [
    "# Quantile function plot\n",
    "a <- 0; b <- 1; c <- 0.5\n",
    "qtriang.plot <- function(x) qtriang(x, a, b, c) # we fix the parameters in order to have a function of x only\n",
    "curve(qtriang.plot, col = \"firebrick\", main = \"Quantile of triangular distribution\") # This way we evaluate the quantile over n = 101 points (default value) between 0 and 1 (default values, exactly what we need)"
   ]
  },
  {
   "cell_type": "markdown",
   "id": "56ddd269-a12a-4b6a-b153-be867a78b349",
   "metadata": {},
   "source": [
    "### Accept-reject Montecarlo sampling"
   ]
  },
  {
   "cell_type": "code",
   "execution_count": 42,
   "id": "7ac35d35-cf3a-49a5-a851-e7d0875d76fa",
   "metadata": {},
   "outputs": [
    {
     "data": {
      "image/png": "[encoded data removed]",
      "text/plain": [
       "Plot with title \"Accept/reject sampling method for the triangular distribution\""
      ]
     },
     "metadata": {
      "image/png": {
       "height": 420,
       "width": 420
      }
     },
     "output_type": "display_data"
    }
   ],
   "source": [
    "set.seed(1234)\n",
    "# Parameters\n",
    "a <- 0; b <- 1; c <- 0.5\n",
    "n <- 400\n",
    "\n",
    "# Simulated points\n",
    "x <- runif(n, min = a, max = b)\n",
    "y <- runif(n, min = 0, max = dtriang(c, a, b, c))\n",
    "\n",
    "# Divisions of points into the three different sets we want to plot\n",
    "y.triang <- dtriang(x, a, b, c)\n",
    "ind <- y < y.triang\n",
    "\n",
    "x.accept <- x[ind]\n",
    "y.accept <- y[ind]\n",
    "\n",
    "x.reject <- x[!ind]\n",
    "y.reject <- y[!ind]\n",
    "\n",
    "x.sorted <- sort(x, index.return = TRUE)\n",
    "x.triang <- x.sorted$x # to plot a solid line for the pdf we need to sort our points along the x axis, otherwise the lines function will connect them as they are in the array (i.e. at random)\n",
    "y.triang <- y.triang[x.sorted$ix]\n",
    "\n",
    "# Plot\n",
    "plot(x.accept, y.accept, col = \"deepskyblue\", main = \"Accept/reject sampling method for the triangular distribution\", xlab = \"x\", ylab = \"y\")\n",
    "points(x.reject, y.reject, col = \"firebrick\")\n",
    "lines(x.triang, y.triang, col = \"black\")\n",
    "#plot(runif(n, min = a, max = b), runif(n, min = 0, max = dtriang(c, a, b, c)))\n",
    "#dtriang.plot <- function (x) dtriang(x, a, b, c)\n",
    "#curve(dtriang.plot, from = a, to = b, add = TRUE)"
   ]
  },
  {
   "cell_type": "code",
   "execution_count": 26,
   "id": "8d2ae6a5-f1e1-4537-a96e-0d04b504dd8b",
   "metadata": {},
   "outputs": [
    {
     "data": {
      "text/html": [
       "10000"
      ],
      "text/latex": [
       "10000"
      ],
      "text/markdown": [
       "10000"
      ],
      "text/plain": [
       "[1] 10000"
      ]
     },
     "metadata": {},
     "output_type": "display_data"
    }
   ],
   "source": [
    "a <- 0; b <- 1; c <- 0.5\n",
    "\n",
    "rtriang.ar <- function(n, a, b, c) {\n",
    "    x <- runif(n, min = a, max = b) \n",
    "    y1 <- runif(n, min = 0, max = dtriang(c, a, b, c))\n",
    "    y2 <- dtriang(x, a, b, c)\n",
    "    x.accepted <- x[y1 < y2]\n",
    "    return(x.accepted)\n",
    "}\n",
    "\n",
    "rtriang.ar.n <- function(n, a, b, c) {\n",
    "    x.accepted <- rtriang.ar(n, a, b, c)\n",
    "    while(length(x.accepted) < n) x.accepted <- c(x.accepted, rtriang.ar(n, a, b, c))\n",
    "    return(x.accepted[1:n])\n",
    "}\n",
    "\n",
    "set.seed(1234)\n",
    "v <- rtriang.ar.n(1e4, a, b, c)\n",
    "length(v)"
   ]
  },
  {
   "cell_type": "markdown",
   "id": "017b6251-bf07-4bfc-875d-269218ac1876",
   "metadata": {},
   "source": [
    "## 1.3: Comparison between the sampled population and the PDF\n",
    "Now we can actually sample a bunch of points from the triangular distribution; to do so we call the `rtriang` function, then we plot an histogram of them and superimpose the pdf made with the `dtriang` function."
   ]
  },
  {
   "cell_type": "code",
   "execution_count": 50,
   "id": "81b57d22-5b16-438a-a9d7-29b40adbe7a5",
   "metadata": {},
   "outputs": [
    {
     "data": {
      "image/png": "[encoded data removed]",
      "text/plain": [
       "Plot with title \"Histogram of x\""
      ]
     },
     "metadata": {
      "image/png": {
       "height": 420,
       "width": 420
      }
     },
     "output_type": "display_data"
    }
   ],
   "source": [
    "N <- 1e4 # points to sample from the distribution. Our implementation is somewhat slow, so we need to be careful with how large N is!\n",
    "# we pick a = 0, c = 0.5, b = 1 for simplicity.\n",
    "a <- 0; b <- 1; c <- 0.5\n",
    "x <- rtriang(N, a, b, c)\n",
    "hist(x)"
   ]
  },
  {
   "cell_type": "code",
   "execution_count": 27,
   "id": "904e9668-be5a-45de-a1e7-fa76d1662307",
   "metadata": {},
   "outputs": [
    {
     "data": {
      "image/png": "[encoded data removed]",
      "text/plain": [
       "Plot with title \"Histogram of x\""
      ]
     },
     "metadata": {
      "image/png": {
       "height": 420,
       "width": 420
      }
     },
     "output_type": "display_data"
    }
   ],
   "source": [
    "N <- 1e4 # points to sample from the distribution. Our implementation is somewhat slow, so we need to be careful with how large N is!\n",
    "# we pick a = 0, c = 0.5, b = 1 for simplicity.\n",
    "a <- 0; b <- 1; c <- 0.5\n",
    "x <- rtriang.ar.n(N, a, b, c)\n",
    "hist(x)"
   ]
  },
  {
   "cell_type": "code",
   "execution_count": 18,
   "id": "c9cce2c9-a7f3-4d84-a34d-0f2d4daa51c3",
   "metadata": {},
   "outputs": [
    {
     "data": {
      "text/html": [
       "100"
      ],
      "text/latex": [
       "100"
      ],
      "text/markdown": [
       "100"
      ],
      "text/plain": [
       "[1] 100"
      ]
     },
     "metadata": {},
     "output_type": "display_data"
    }
   ],
   "source": [
    "length(dtriang(1:n, a, b, c))"
   ]
  },
  {
   "cell_type": "markdown",
   "id": "e3b83f1b-d351-4d5d-9ea2-61c5c78f14de",
   "metadata": {},
   "source": [
    "# Exercise 2: Markov's inequality"
   ]
  },
  {
   "cell_type": "code",
   "execution_count": null,
   "id": "c9735d05-31c3-44ec-af2d-2ad264bb1204",
   "metadata": {},
   "outputs": [],
   "source": []
  },
  {
   "cell_type": "markdown",
   "id": "229295ed-8be7-41bd-ad0c-c5e14173a3dc",
   "metadata": {},
   "source": [
    "# Exercise 3: Chebyshev's inequality"
   ]
  },
  {
   "cell_type": "code",
   "execution_count": null,
   "id": "4daa700f-4653-4fc6-a547-75c4ce0f5510",
   "metadata": {},
   "outputs": [],
   "source": []
  },
  {
   "cell_type": "markdown",
   "id": "810daa56-166b-4d18-968e-d7fb20f4a532",
   "metadata": {},
   "source": [
    "# Exercise 4: Community mobility open data"
   ]
  },
  {
   "cell_type": "code",
   "execution_count": null,
   "id": "80739224-0503-4589-be8f-4b482ad9822a",
   "metadata": {},
   "outputs": [],
   "source": []
  }
 ],
 "metadata": {
  "kernelspec": {
   "display_name": "R",
   "language": "R",
   "name": "ir"
  },
  "language_info": {
   "codemirror_mode": "r",
   "file_extension": ".r",
   "mimetype": "text/x-r-source",
   "name": "R",
   "pygments_lexer": "r",
   "version": "4.0.4"
  }
 },
 "nbformat": 4,
 "nbformat_minor": 5
}
