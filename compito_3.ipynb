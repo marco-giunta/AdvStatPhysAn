{
 "cells": [
  {
   "cell_type": "markdown",
   "id": "78a697f2-e688-428b-a491-b2d990363ac8",
   "metadata": {},
   "source": [
    "name: Marco Giunta"
   ]
  },
  {
   "cell_type": "code",
   "execution_count": null,
   "id": "d6b21584-1523-46f7-9b27-1ad3695a934f",
   "metadata": {},
   "outputs": [],
   "source": [
    "library(\"tidyverse\")"
   ]
  },
  {
   "cell_type": "markdown",
   "id": "440bc614-9659-44d4-aba8-ad5c07668127",
   "metadata": {},
   "source": [
    "# Exercise 1: the triangular distribution\n",
    "Our function is parametrized by three numbers $a \\leq c \\leq b$ and defined as:\n",
    "\\begin{equation}\n",
    "  f(x) =\n",
    "    \\left\\{\n",
    "      \\begin{array}\n",
    "        \\ \\frac{2(x-a)}{(b-a)(c-a)} \\ a\\leq x < c \\\\\n",
    "        \\ \\frac{2(b-x)}{(b-a)(b-c)} \\ c\\leq x \\leq b\\\\\n",
    "        \\ \\ 0 \\qquad \\text{otherwise}\n",
    "      \\end{array}\n",
    "    \\right.\n",
    "\\end{equation}\n",
    "This is easily implemented with a nested `ifelse`."
   ]
  },
  {
   "cell_type": "code",
   "execution_count": 1,
   "id": "381d3131-1f50-4b8e-b296-5ae1966d4d8d",
   "metadata": {},
   "outputs": [],
   "source": [
    "dtriang <- function(x,a,b,c, log = FALSE) {\n",
    "    y <- ifelse((a <= x & x < c), 2*(x-a)/((b-a)*(c-a)), ifelse((c <= x & x <= b), 2*(b-x)/((b-a)*(b-c)), 0))\n",
    "    if (log) y <- log(y)\n",
    "    return(y)\n",
    "}"
   ]
  },
  {
   "cell_type": "markdown",
   "id": "a4edee69-168b-481e-9dd4-159d56ad14b6",
   "metadata": {},
   "source": [
    "## 1.1: function plot\n",
    "If we choose 3 values for $a$, $b$ and $c$ we can easily plot our function."
   ]
  },
  {
   "cell_type": "code",
   "execution_count": 9,
   "id": "391dbcbf-bd56-4e43-b053-89cd765a867c",
   "metadata": {},
   "outputs": [
    {
     "data": {
      "image/png": "[encoded data removed]",
      "text/plain": [
       "Plot with title \"Triangular distribution\""
      ]
     },
     "metadata": {
      "image/png": {
       "height": 420,
       "width": 420
      }
     },
     "output_type": "display_data"
    }
   ],
   "source": [
    "# we pick a = 0, c = 0.5, b = 1 for simplicity.\n",
    "a <- 0; b <- 1; c <- 0.5\n",
    "x <- seq(a-0.25, b+0.25, length.out = 1000) # we include extra value to check it's zero outside [a,b]=[0,1]\n",
    "plot(x, dtriang(x, a, b, c), col = \"blue\", main = \"Triangular distribution\")"
   ]
  },
  {
   "cell_type": "markdown",
   "id": "f540c558-8422-458e-9c79-5f431a95cc27",
   "metadata": {},
   "source": [
    "## 1.2: Sampling from the triangular distribution\n",
    "As we know a simple algorithm to sample from an arbitrary distribution is via *inverse transform sampling*, which consists in applying the inverse CDF to random numbers sampled from $U[0,1]$; the difficult part is evaluating\n",
    "the inverse CDF, which in the simple case of a triangular distribution can actually be computed exactly.          \n",
    "We start by computing the CDF via its integral definition:\n",
    "\\begin{equation}\n",
    "F(x) = \\int_{-\\infty}^x f(x') \\ \\mathrm{d} x'\n",
    "\\end{equation}"
   ]
  },
  {
   "cell_type": "markdown",
   "id": "e3b83f1b-d351-4d5d-9ea2-61c5c78f14de",
   "metadata": {},
   "source": [
    "# Exercise 2: Markov's inequality"
   ]
  },
  {
   "cell_type": "code",
   "execution_count": null,
   "id": "c9735d05-31c3-44ec-af2d-2ad264bb1204",
   "metadata": {},
   "outputs": [],
   "source": []
  },
  {
   "cell_type": "markdown",
   "id": "229295ed-8be7-41bd-ad0c-c5e14173a3dc",
   "metadata": {},
   "source": [
    "# Exercise 3: Chebyshev's inequality"
   ]
  },
  {
   "cell_type": "code",
   "execution_count": null,
   "id": "4daa700f-4653-4fc6-a547-75c4ce0f5510",
   "metadata": {},
   "outputs": [],
   "source": []
  },
  {
   "cell_type": "markdown",
   "id": "810daa56-166b-4d18-968e-d7fb20f4a532",
   "metadata": {},
   "source": [
    "# Exercise 4: Community mobility open data"
   ]
  },
  {
   "cell_type": "code",
   "execution_count": null,
   "id": "80739224-0503-4589-be8f-4b482ad9822a",
   "metadata": {},
   "outputs": [],
   "source": []
  }
 ],
 "metadata": {
  "kernelspec": {
   "display_name": "R",
   "language": "R",
   "name": "ir"
  },
  "language_info": {
   "codemirror_mode": "r",
   "file_extension": ".r",
   "mimetype": "text/x-r-source",
   "name": "R",
   "pygments_lexer": "r",
   "version": "4.0.4"
  }
 },
 "nbformat": 4,
 "nbformat_minor": 5
}
