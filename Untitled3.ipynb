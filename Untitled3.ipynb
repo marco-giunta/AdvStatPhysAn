{
 "cells": [
  {
   "cell_type": "markdown",
   "id": "096f66d1-d545-474b-ab3c-8b0dc9654b18",
   "metadata": {},
   "source": [
    "# name: Marco Giunta\n",
    "## Rlab04"
   ]
  },
  {
   "cell_type": "markdown",
   "id": "f813999d-3dcc-4ca5-bcbc-65ba3b0d0bfb",
   "metadata": {},
   "source": [
    "# Exercise 1: six boxes toy model with user input"
   ]
  },
  {
   "cell_type": "code",
   "execution_count": null,
   "id": "0621a81b-4825-43af-91d3-b1f1e28fd80e",
   "metadata": {},
   "outputs": [],
   "source": []
  }
 ],
 "metadata": {
  "kernelspec": {
   "display_name": "R",
   "language": "R",
   "name": "ir"
  },
  "language_info": {
   "codemirror_mode": "r",
   "file_extension": ".r",
   "mimetype": "text/x-r-source",
   "name": "R",
   "pygments_lexer": "r",
   "version": "4.0.5"
  }
 },
 "nbformat": 4,
 "nbformat_minor": 5
}
