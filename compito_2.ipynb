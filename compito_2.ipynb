{
 "cells": [
  {
   "cell_type": "markdown",
   "metadata": {},
   "source": [
    "name: Marco Giunta"
   ]
  },
  {
   "cell_type": "code",
   "execution_count": 1,
   "metadata": {},
   "outputs": [
    {
     "name": "stderr",
     "output_type": "stream",
     "text": [
      "-- \u001b[1mAttaching packages\u001b[22m ------------------------------------------------------------------------------- tidyverse 1.3.0 --\n",
      "\n",
      "\u001b[32mv\u001b[39m \u001b[34mggplot2\u001b[39m 3.3.3     \u001b[32mv\u001b[39m \u001b[34mpurrr  \u001b[39m 0.3.4\n",
      "\u001b[32mv\u001b[39m \u001b[34mtibble \u001b[39m 3.1.0     \u001b[32mv\u001b[39m \u001b[34mdplyr  \u001b[39m 1.0.5\n",
      "\u001b[32mv\u001b[39m \u001b[34mtidyr  \u001b[39m 1.1.3     \u001b[32mv\u001b[39m \u001b[34mstringr\u001b[39m 1.4.0\n",
      "\u001b[32mv\u001b[39m \u001b[34mreadr  \u001b[39m 1.4.0     \u001b[32mv\u001b[39m \u001b[34mforcats\u001b[39m 0.5.1\n",
      "\n",
      "-- \u001b[1mConflicts\u001b[22m ---------------------------------------------------------------------------------- tidyverse_conflicts() --\n",
      "\u001b[31mx\u001b[39m \u001b[34mdplyr\u001b[39m::\u001b[32mfilter()\u001b[39m masks \u001b[34mstats\u001b[39m::filter()\n",
      "\u001b[31mx\u001b[39m \u001b[34mdplyr\u001b[39m::\u001b[32mlag()\u001b[39m    masks \u001b[34mstats\u001b[39m::lag()\n",
      "\n"
     ]
    }
   ],
   "source": [
    "library(\"tidyverse\")"
   ]
  },
  {
   "cell_type": "markdown",
   "metadata": {},
   "source": [
    "# Exercise 1: expectation and variance for an empirically measured probability distribution\n",
    "The first thing we need to do is to import the 3 data vectors; then we can use the definitions of exp. value and variance to compute our targets."
   ]
  },
  {
   "cell_type": "code",
   "execution_count": 2,
   "metadata": {},
   "outputs": [
    {
     "data": {
      "text/html": [
       "<table class=\"dataframe\">\n",
       "<caption>A data.frame: 5 × 3</caption>\n",
       "<thead>\n",
       "\t<tr><th scope=col>x</th><th scope=col>p1</th><th scope=col>p2</th></tr>\n",
       "\t<tr><th scope=col>&lt;dbl&gt;</th><th scope=col>&lt;dbl&gt;</th><th scope=col>&lt;dbl&gt;</th></tr>\n",
       "</thead>\n",
       "<tbody>\n",
       "\t<tr><td>15.58</td><td>0.15</td><td>0.14</td></tr>\n",
       "\t<tr><td>15.90</td><td>0.21</td><td>0.05</td></tr>\n",
       "\t<tr><td>16.00</td><td>0.35</td><td>0.64</td></tr>\n",
       "\t<tr><td>16.10</td><td>0.15</td><td>0.08</td></tr>\n",
       "\t<tr><td>16.20</td><td>0.14</td><td>0.09</td></tr>\n",
       "</tbody>\n",
       "</table>\n"
      ],
      "text/latex": [
       "A data.frame: 5 × 3\n",
       "\\begin{tabular}{lll}\n",
       " x & p1 & p2\\\\\n",
       " <dbl> & <dbl> & <dbl>\\\\\n",
       "\\hline\n",
       "\t 15.58 & 0.15 & 0.14\\\\\n",
       "\t 15.90 & 0.21 & 0.05\\\\\n",
       "\t 16.00 & 0.35 & 0.64\\\\\n",
       "\t 16.10 & 0.15 & 0.08\\\\\n",
       "\t 16.20 & 0.14 & 0.09\\\\\n",
       "\\end{tabular}\n"
      ],
      "text/markdown": [
       "\n",
       "A data.frame: 5 × 3\n",
       "\n",
       "| x &lt;dbl&gt; | p1 &lt;dbl&gt; | p2 &lt;dbl&gt; |\n",
       "|---|---|---|\n",
       "| 15.58 | 0.15 | 0.14 |\n",
       "| 15.90 | 0.21 | 0.05 |\n",
       "| 16.00 | 0.35 | 0.64 |\n",
       "| 16.10 | 0.15 | 0.08 |\n",
       "| 16.20 | 0.14 | 0.09 |\n",
       "\n"
      ],
      "text/plain": [
       "  x     p1   p2  \n",
       "1 15.58 0.15 0.14\n",
       "2 15.90 0.21 0.05\n",
       "3 16.00 0.35 0.64\n",
       "4 16.10 0.15 0.08\n",
       "5 16.20 0.14 0.09"
      ]
     },
     "metadata": {},
     "output_type": "display_data"
    }
   ],
   "source": [
    "x <- c(15.58, 15.9, 16, 16.1, 16.2)\n",
    "p1 <- c(0.15, 0.21, 0.35, 0.15, 0.14)\n",
    "p2 <- c(0.14, 0.05, 0.64, 0.08, 0.09)\n",
    "prob.df <- data.frame(x, p1, p2)\n",
    "prob.df"
   ]
  },
  {
   "cell_type": "markdown",
   "metadata": {},
   "source": [
    "Now we can use the following formulae (which are *definitions* of these two quantities); given a discrete random variable $X$ with $k\\leq +\\infty$ possible values (each with its own probability $p_i$ of happening, i.e. that $X = x_i$) it holds that\n",
    "\\begin{equation}\n",
    "\\mathbb{E}(X) = \\sum_{i=1}^k x_i p_i = p_1 x_1 + \\dots + p_k x_k\n",
    "\\end{equation}\n",
    "and that\n",
    "\\begin{equation}\n",
    "\\mathrm{Var}(X) = \\mathbb{E}(X^2)-\\left(\\mathbb{E}(X)\\right)^2 = \\sum_{i=1}^k p_i x_i^2 - \\left(\\sum_{i=1}^k x_i p_i\\right)^2 = \\sum_{i=1}^k p_i x_i^2 - \\mu^2\n",
    "\\end{equation}\n",
    "These two quantities are readily computed using vectorized operation; in particular it suffices to compute the elementwise product of the `x` and `x^2` vectors with the `p1` and `p2` vectors."
   ]
  },
  {
   "cell_type": "code",
   "execution_count": 3,
   "metadata": {},
   "outputs": [
    {
     "name": "stdout",
     "output_type": "stream",
     "text": [
      "[1] \"Exp. value according to p1: 15.959000\"\n",
      "[1] \"Exp. value according to p2: 15.962200\"\n",
      "[1] \"Variance according to p1: 0.033979\"\n",
      "[1] \"Variance according to p2: 0.028167\"\n"
     ]
    }
   ],
   "source": [
    "E1 <- sum(x*p1) #this is a simple way to get our exp. value. We notice that E(X) is just the linear combination obtained by summing over the elementwise prod. of x and p1\n",
    "#E1 <- (x %*% p1)[1] #an alternative approach is to use the dot product, since E(X) can actually be interpreted as <x,p1>\n",
    "print(sprintf(\"Exp. value according to p1: %f\", E1))\n",
    "\n",
    "E2 <- sum(x*p2) #(x %*% p1)[1]\n",
    "print(sprintf(\"Exp. value according to p2: %f\", E2))\n",
    "\n",
    "E12 <- sum(x^2*p1) - E1^2\n",
    "E22 <- sum(x^2*p2) - E2^2\n",
    "\n",
    "print(sprintf(\"Variance according to p1: %f\",E12))\n",
    "print(sprintf(\"Variance according to p2: %f\",E22))\n",
    "\n",
    "#we notice that the 2 distributions yield almost identical values for both E(X) and Var(X)"
   ]
  },
  {
   "cell_type": "markdown",
   "metadata": {},
   "source": [
    "# Exercise 2: waiting time at the doctor's"
   ]
  },
  {
   "cell_type": "markdown",
   "metadata": {},
   "source": [
    "The problem tells us that the waiting time in minutes (i.e. the time any given person needs to wait) is an exponentially distributed random variable with rate equal to $1/30$; this means that if we call our random variable $t$ then $t$ is sampled according to \n",
    "\\begin{equation}\n",
    "f(t) = \\lambda \\mathrm{e}^{\\lambda t}, \\quad \\lambda > 0\n",
    "\\end{equation}\n",
    "where in our case the rate is $\\lambda = 1/30$."
   ]
  },
  {
   "cell_type": "markdown",
   "metadata": {},
   "source": [
    "## 2.1: Simulation of the waiting time of 50 people\n",
    "Since the exponential distribution is already defined in R's packages we simply need to use the `rexp` function to simulate the waiting time of $n=50$ people; after this is done it's trivial to produce an histogram."
   ]
  },
  {
   "cell_type": "code",
   "execution_count": 4,
   "metadata": {},
   "outputs": [
    {
     "data": {
      "image/png": "[encoded data removed]",
      "text/plain": [
       "Plot with title \"Histogram of 50 samples from exp. dist.\""
      ]
     },
     "metadata": {
      "image/png": {
       "height": 420,
       "width": 420
      }
     },
     "output_type": "display_data"
    }
   ],
   "source": [
    "set.seed(1234) # to ensure result reproducibility\n",
    "t <- rexp(50, rate = 1/30) # simulated set of people\n",
    "\n",
    "# if the freq argument of hist is TRUE then we obtain the usual histogram of counts, but if we set it to FALSE we obtain an histogram of densities (i.e. normalized to area = 1).\n",
    "# This is useful, because then we can stack the pdf and compare them (otherwise they don't have the same scale: the histogram has height > 70 whereas the pdf's height is < 1).\n",
    "hist(t, freq = F, main = \"Histogram of 50 samples from exp. dist.\", col = \"deepskyblue\")\n",
    "curve(dexp(x, rate = 1/30), add = T, col = \"blue\") # add = TRUE lets us stack the two plots"
   ]
  },
  {
   "cell_type": "markdown",
   "metadata": {},
   "source": [
    "## 2.2: Probability of having $t\\leq10$ minutes\n",
    "By definition the CDF $F(\\hat{t})$ computes the probability $P(t\\leq\\hat{t})$ that our random variable $t$ is bounded by some value $\\hat{t}$; given that this function is already defined in R (`pexp`) it suffices to evaluate it for $\\hat{t} = 10$ minutes.         \n",
    "Note: it's irrelevant whether we write $t<10$ or $t\\leq 10$, since $t=10$ occurs with probability 0 given that we're working with continuous distributions and the interval $[t,t]$ is always a measure zero set."
   ]
  },
  {
   "cell_type": "code",
   "execution_count": 5,
   "metadata": {},
   "outputs": [
    {
     "name": "stdout",
     "output_type": "stream",
     "text": [
      "[1] \"The probability of waiting for less than 10 minutes is 28.346869 percent\"\n"
     ]
    }
   ],
   "source": [
    "print(sprintf(\"The probability of waiting for less than 10 minutes is %f percent\", pexp(10, rate = 1/30)*100))"
   ]
  },
  {
   "cell_type": "markdown",
   "metadata": {},
   "source": [
    "## 2.3: average vs expectation value\n",
    "Let's say a given random variable $X$ is sampled from a known continuous probability distribution $f(x)$. Then by definition its *average*/*mean* and expectation value are respectively:\n",
    "\\begin{equation}\n",
    "\\langle X \\rangle = \\frac{1}{N} \\sum_{i=1}^N x_i, \\quad x_i \\sim f(x) \\ \\ \\forall i=1,\\dots,N\n",
    "\\end{equation}\n",
    "\\begin{equation}\n",
    "\\mathbb{E}(X) = \\int_{-\\infty}^{+\\infty} x f(x) \\ \\mathrm{d}x\n",
    "\\end{equation}\n",
    "where we assumed that we did an experiment where $X$ was sampled $N$ times and found to be equal to $x_1,x_2,\\dots,x_N$. These two values are connected: if $N\\to +\\infty$ they become equal (this result is quite intuitive if $X$ is discrete and we consider the frequentist definition of probability); this means that for example $\\mathbb{E}(X)$ can be used as a theoretical prediction of what the result $\\langle X \\rangle$ of an experiment will be (provided $N$ is large enough), and more in general that the 2 of them must agree for $N\\gg 1$.                       \n",
    "Given $f(t) = \\mathrm{Exp}(t)$ we compute 3 values:\n",
    "1) the exact expectation value;\n",
    "2) a numerical estimate of the expectation value;\n",
    "3) the mean over the population we can sample with `rexp`.\n",
    "**Exact expectation value**:\n",
    "It suffices to use the definitions of $\\mathbb{E}(X)$, $f(x)$ and the derivative under integral trick.\n",
    "\\begin{equation}\n",
    "f(x) = \\lambda \\mathrm{e}^{-\\lambda x}, \\ \\lambda>0, \\ x \\geq 0\n",
    "\\end{equation}\n",
    "\\begin{equation}\n",
    "\\mathbb{E}(X) = \\int_0^{+\\infty} x f(x) \\ \\mathrm{d} x = \\lambda \\int_0^{+\\infty} x \\mathrm{e}^{-\\lambda x} \\ \\mathrm{d}x = \\lambda \\int_0^{+\\infty} \\left(-\\frac{\\partial}{\\partial\\lambda}\\right) (\\mathrm{e}^{-\\lambda x}) \\ \\mathrm{d}x = -\\lambda \\frac{\\mathrm{d}}{\\mathrm{d}\\lambda}\\int_0^{+\\infty} \\mathrm{e}^{-\\lambda x} \\ \\mathrm{d}x = -\\lambda \\frac{\\mathrm{d}}{\\mathrm{d}\\lambda} \\left[ \\left(\\frac{\\mathrm{e}^{-\\lambda x}}{\\lambda}\\right)\\right]_0^{+\\infty} = -\\lambda \\frac{\\mathrm{d}}{\\mathrm{d}\\lambda} \\left( \\frac{1}{\\lambda} \\right) = -\\lambda \\frac{-1}{\\lambda^2} = \\frac{1}{\\lambda}\n",
    "\\end{equation}"
   ]
  },
  {
   "cell_type": "code",
   "execution_count": 6,
   "metadata": {},
   "outputs": [
    {
     "name": "stdout",
     "output_type": "stream",
     "text": [
      "[1] \"numerical estimate of expectation value:\"\n"
     ]
    },
    {
     "data": {
      "text/plain": [
       "30 with absolute error < 2.5e-05"
      ]
     },
     "metadata": {},
     "output_type": "display_data"
    }
   ],
   "source": [
    "exp.exact <- 30\n",
    "exp.numerical <- integrate(function(x){x*dexp(x, rate = 1/30)}, 0, Inf)\n",
    "print(\"numerical estimate of expectation value:\")\n",
    "exp.numerical # almost identical to the theoretical value of 30."
   ]
  },
  {
   "cell_type": "code",
   "execution_count": 7,
   "metadata": {},
   "outputs": [
    {
     "name": "stdout",
     "output_type": "stream",
     "text": [
      "[1] \"experimental mean over a population of 50 people:\"\n"
     ]
    },
    {
     "data": {
      "text/html": [
       "29.6752301211249"
      ],
      "text/latex": [
       "29.6752301211249"
      ],
      "text/markdown": [
       "29.6752301211249"
      ],
      "text/plain": [
       "[1] 29.67523"
      ]
     },
     "metadata": {},
     "output_type": "display_data"
    },
    {
     "name": "stdout",
     "output_type": "stream",
     "text": [
      "[1] \"percent difference wrt the theoretical result:\"\n"
     ]
    },
    {
     "data": {
      "text/html": [
       "1.08256626291688"
      ],
      "text/latex": [
       "1.08256626291688"
      ],
      "text/markdown": [
       "1.08256626291688"
      ],
      "text/plain": [
       "[1] 1.082566"
      ]
     },
     "metadata": {},
     "output_type": "display_data"
    }
   ],
   "source": [
    "exp.sample <- mean(t) # t is the set of waiting people we simulated earlier\n",
    "print(\"experimental mean over a population of 50 people:\")\n",
    "exp.sample\n",
    "print(\"percent difference wrt the theoretical result:\")\n",
    "(exp.exact - exp.sample)/exp.exact*100 # with N = 50 samples this is approximately 1%"
   ]
  },
  {
   "cell_type": "code",
   "execution_count": 8,
   "metadata": {},
   "outputs": [
    {
     "data": {
      "image/png": "[encoded data removed]",
      "text/plain": [
       "Plot with title \"Computed mean as a function of simulated population size\""
      ]
     },
     "metadata": {
      "image/png": {
       "height": 420,
       "width": 420
      }
     },
     "output_type": "display_data"
    }
   ],
   "source": [
    "# How can we test whether the mean for N approaching infinity actually converges to the expectation value? We can easily define such a function and plot it\n",
    "\n",
    "set.seed(1234)\n",
    "exp.mean.over.n.samples <- Vectorize(function(n, lambda) mean(rexp(n, rate = lambda)))\n",
    "# Convenience function to use with curve:\n",
    "exp.mean.over.n.samples.1.30 <- function(x) exp.mean.over.n.samples(x, lambda = 1/30)                              \n",
    "\n",
    "n.points <- 1000 # we need to evaluate the mean only over integer values, of course\n",
    "#plot(rep(30, length.out = n.points))\n",
    "curve(exp.mean.over.n.samples.1.30, from = 1, to = n.points, col = \"deepskyblue\", n = n.points, xlab = \"Population size\", ylab = \"Mean\", main = \"Computed mean as a function of simulated population size\")\n",
    "abline(h = 30, col = \"blue\") # this lets us add a straigh line\n",
    "                                     \n",
    "# even though the result oscillates wildly it quickly settles around our expected result = 30"
   ]
  },
  {
   "cell_type": "markdown",
   "metadata": {},
   "source": [
    "## 2.4: probability of having $t > 60$ minutes\n",
    "Let $X$ be a random variable and let $x$ be one of the possible values of $X$. It's trivial that the 2 disjoint events $X\\leq x$ and $X > x$ exhaust all of event space; this implies that the sum of their 2 probabilities is 1, i.e. that\n",
    "\\begin{equation}\n",
    "P(X\\leq x) + P(X > x) = 1 \\implies P(X > x) = 1 - P(X\\leq x)\n",
    "\\end{equation}\n",
    "and therefore that \n",
    "\\begin{equation}\n",
    "P(X > x) = 1 - F(x)\n",
    "\\end{equation}\n",
    "where $F(x)$ is the cdf of $X$. The above equation can also be derived using the properties of integrals (namely linearity wrt integration domain):\n",
    "\\begin{equation}\n",
    "\\int_{-\\infty}^x f(x) \\ \\mathrm{d}x + \\int_x^{+\\infty} f(x) \\ \\mathrm{d}x = \\int_{-\\infty}^{+\\infty} f(x) \\ \\mathrm{d}x = 1 \\quad \\forall x \\in \\mathbb{R}\n",
    "\\end{equation}\n",
    "since $f$ is normalized. If we now remind ourselves that by definition of pdf $P(a\\leq X\\leq b) = \\int_a^b f(x) \\ \\mathrm{d} x$ the above equation immediately yields\n",
    "\\begin{equation}\n",
    "P(x < X \\leq +\\infty) = P(X > x) = 1 - \\int_{-\\infty}^x f(x) \\ \\mathrm{d}x = 1 - P(-\\infty < X \\leq x) = 1 - P(X < x)\n",
    "\\end{equation}\n",
    "which means that $P(X > x) = 1 - F(x)$, exactly as derived above.                      \n",
    "**Recap**: the answer to this question is $P(t > 60) = 1 - P(t \\leq 60)$."
   ]
  },
  {
   "cell_type": "code",
   "execution_count": 9,
   "metadata": {},
   "outputs": [
    {
     "name": "stdout",
     "output_type": "stream",
     "text": [
      "[1] \"Percent probability of waiting more than 60 minutes:\"\n"
     ]
    },
    {
     "data": {
      "text/html": [
       "13.5335283236613"
      ],
      "text/latex": [
       "13.5335283236613"
      ],
      "text/markdown": [
       "13.5335283236613"
      ],
      "text/plain": [
       "[1] 13.53353"
      ]
     },
     "metadata": {},
     "output_type": "display_data"
    }
   ],
   "source": [
    "print(\"Percent probability of waiting more than 60 minutes:\")\n",
    "(1-pexp(60, rate = 1/30))*100\n",
    "# The predefined pexp function actually has an option to compute the integral \"above\" x instead of \"below\" x as is customary in the CDF definition; an equivalent version of the above line is indeed the following\n",
    "#pexp(60, rate = 1/30, lower.tail = FALSE)*100"
   ]
  },
  {
   "cell_type": "markdown",
   "metadata": {},
   "source": [
    "# Exercise 3: typos in a book\n",
    "The description of the problem suggests to consider our random variable (number of mistakes in a book) to be a Poisson random variable with $\\lambda = 1 \\ \\text{mistake} \\ / \\ 3 \\ \\ \\text{pages}$ i.e. $\\lambda = 1/3$; this is enough information to plot the pdf and cdf (via the `dpois` and `ppois` functions, respectively) and the probability of having $\\geq 1$ errors in any given page (via `ppois` once again)."
   ]
  },
  {
   "cell_type": "code",
   "execution_count": 10,
   "metadata": {},
   "outputs": [
    {
     "data": {
      "image/png": "[encoded data removed]",
      "text/plain": [
       "Plot with title \"Poisson PDF with lambda = 1/3\""
      ]
     },
     "metadata": {
      "image/png": {
       "height": 420,
       "width": 420
      }
     },
     "output_type": "display_data"
    },
    {
     "data": {
      "image/png": "[encoded data removed]",
      "text/plain": [
       "Plot with title \"Poisson CDF with lambda = 1/3\""
      ]
     },
     "metadata": {
      "image/png": {
       "height": 420,
       "width": 420
      }
     },
     "output_type": "display_data"
    }
   ],
   "source": [
    "n <- 0:15 #since this is a discrete distribution the input of the following functions must be an integer vector; integers from 0 to 15 suffice to create a simple plot.\n",
    "plot(dpois(n, lambda = 1/3), type = \"b\", col = \"blue\", main = \"Poisson PDF with lambda = 1/3\", xlab =  \"number of mistakes in a given page\", ylab = \"prob. of having n mistakes in any given page\")\n",
    "plot(ppois(n, lambda = 1/3), type = \"b\", col = \"blue\", main = \"Poisson CDF with lambda = 1/3\", xlab =  \"number of mistakes in a given page\", ylab = \"prob. of having n.mistakes in any page in [0,n]\") #i.e. between 0 and n\n",
    "#since we set lower.tail = T (default value)"
   ]
  },
  {
   "cell_type": "markdown",
   "metadata": {},
   "source": [
    "To compute the probability of having at least 1 error in any given page we can proceed in at least two different but equivalent ways:\n",
    "- we can sum the probabilities of having $n=1$, $n=2$, $n=3$, ... which is the discrete equivalent to the integral we perform to obtain the CDF of a continuous distribution.\n",
    "- we can set this probability equal to 1 - the probability of having less than 1 error (which is simply the probability of having $n=0$) - cfr the discussion contained in the previous exercise.                      \n",
    "Both of these can be performed with the `ppois` function (we only need to adjust the `lower.tail` argument)."
   ]
  },
  {
   "cell_type": "code",
   "execution_count": 11,
   "metadata": {},
   "outputs": [
    {
     "name": "stdout",
     "output_type": "stream",
     "text": [
      "[1] \"Prob. of having at least 1 mistake (direct computation): 0.283469\"\n",
      "[1] \"Prob. of having at least 1 mistake (1 - conj. prob.): 0.283469\"\n"
     ]
    }
   ],
   "source": [
    "# from the ppois documentation we notice that if lower.tail is set equal to TRUE we obtain the prob. that X <= x; if it's set to FALSE we obtain the prob. that X > x. \n",
    "# Due to this convention we need to consider the following: \n",
    "# - the prob. that X < 1 is equal to the prob. that X <= 0 (lower.tail = TRUE with x = 0)\n",
    "# - the prob. that X >= 1 is equivalent to the prob. that X > 0 (lower.tail = FALSE with x = 0)\n",
    "# This means we need to feed 0 (not 1) as input to ppois\n",
    "\n",
    "print(sprintf(\"Prob. of having at least 1 mistake (direct computation): %f\", ppois(0, lambda = 1/3, lower.tail = FALSE)))\n",
    "print(sprintf(\"Prob. of having at least 1 mistake (1 - conj. prob.): %f\", 1 - ppois(0, lambda = 1/3, lower.tail = TRUE)))\n",
    "# the results agree as expected."
   ]
  },
  {
   "cell_type": "markdown",
   "metadata": {},
   "source": [
    "# Exercise 4: playing with a deck of cards"
   ]
  },
  {
   "cell_type": "markdown",
   "metadata": {},
   "source": [
    "Imagine we randomly draw one card from a deck of 52 cards; since only 4 cards are aces we have a probability $p=4/52$ of drawing an ace. It's clear that if we pick a single card then this is a Bernoulli process because only two outcomes are possible (ace --> success, not ace --> fail). If we repeat this process many times and consider the random variable $X$ \"draws until first success\" then it's clear that $X\\sim\\mathrm{Geom}(p)$, where $p$ is constant (always 4/52) if we draw with replacement (if we threw away extracted cards then the 52 at the denominator would decrease once per iteration, for example).                 \n",
    "Once again we remind ourselves that by definition $P(X \\leq x)$ can be computed as $F(x)$ where $F(x)$ is the cdf associated to the $\\mathrm{Geom}(p)$ pdf, and that $P(X \\geq x) = 1 - P(X < x)$; this means that this problem is trivially solved with the `pgeom` R function."
   ]
  },
  {
   "cell_type": "code",
   "execution_count": 12,
   "metadata": {},
   "outputs": [
    {
     "name": "stdout",
     "output_type": "stream",
     "text": [
      "[1] \"percent probability that at least 10 draws are needed before we obtain one ace:\"\n"
     ]
    },
    {
     "data": {
      "text/html": [
       "44.9137107141863"
      ],
      "text/latex": [
       "44.9137107141863"
      ],
      "text/markdown": [
       "44.9137107141863"
      ],
      "text/plain": [
       "[1] 44.91371"
      ]
     },
     "metadata": {},
     "output_type": "display_data"
    }
   ],
   "source": [
    "# important comment: now we're dealing with discrete pdf, which means that X = a number is no longer an event occurring with probability zero; this means that for instance P(X<10) and P(X<=10) are distinct!\n",
    "# this means thath the formula we need to use is the following: P(X >= 10) = P(X > 9) = 1 - P(X <= 9)\n",
    "print(\"percent probability that at least 10 draws are needed before we obtain one ace:\")\n",
    "100*(1 - pgeom(9, prob = 4/52))"
   ]
  },
  {
   "cell_type": "markdown",
   "metadata": {},
   "source": [
    "# Exercise 5: time to complete the exam\n",
    "As the problem tells us if $t$ is the time in hours needed to complete the TOLC-I exam then $t$ is a random variable obeying the distribution\n",
    "\n",
    "\\begin{equation}\n",
    "f(t) = \\left\\{ \n",
    "    \\begin{array}\n",
    "        \\ c(t-1)(2-t) \\quad 1 < t < 2 \\\\ 0 \\quad \\text{otherwise}\n",
    "    \\end{array}\n",
    "\\right.\n",
    "\\end{equation}\n",
    "\n",
    "## 5.1: determination of the normalization constant $c$\n",
    "In order for $f(t)$ to be an actual pdf it needs to be normalized, i.e. it must hold that\n",
    "\\begin{equation}\n",
    "\\int_{-\\infty}^{+\\infty} f(t) \\ \\mathrm{d} t = 1\n",
    "\\end{equation}\n",
    "This integral is quite easy to evaluate exactly, since $f$ is equal to 0 for most of the time.\n",
    "\\begin{equation}\n",
    "\\int_{-\\infty}^{+\\infty} f(t) \\ \\mathrm{d} t = \\int_{-\\infty}^{1} f(t) \\ \\mathrm{d} t + \\int_{1}^{2} f(t) \\ \\mathrm{d} t + \\int_{2}^{+\\infty} f(t) \\ \\mathrm{d} t =\n",
    "\\underbrace{\\int_{-\\infty}^{1} 0 \\ \\mathrm{d} t}_{= \\ 0} + \\int_{1}^{2}c(t-1)(2-t) \\ \\mathrm{d} t + \\underbrace{\\int_{2}^{+\\infty} 0 \\ \\mathrm{d} t}_{= \\ 0} = \\int_{1}^{2}c(t-1)(2-t) \\ \\mathrm{d} t\n",
    "\\end{equation}\n",
    "We obtain:\n",
    "\\begin{equation}\n",
    "\\int_{1}^{2}c(t-1)(2-t) \\ \\mathrm{d} t = c \\left[-\\frac{t^3}{3} + \\frac{3t^2}{2} -2t \\right]_1^2 = \\dots = c\\frac{1}{6}\n",
    "\\end{equation}\n",
    "This equals 1 iff $c=6$, which is our exact result; we can confirm this is correct via numerical integration as follows."
   ]
  },
  {
   "cell_type": "code",
   "execution_count": 13,
   "metadata": {},
   "outputs": [
    {
     "name": "stdout",
     "output_type": "stream",
     "text": [
      "[1] \"The numerical integral of f/c between 1 and 2 is: 0.166667 with absolute error < 0.000000\"\n",
      "[1] \"This means that numerically c is 6.000000\"\n"
     ]
    }
   ],
   "source": [
    "f <- function(t) {ifelse((t > 1 & t < 2), (t-1)*(2-t), 0)}\n",
    "integral.value <- integrate(f, 1, 2)$value\n",
    "integral.error <- integrate(f, 1, 2)$abs.error\n",
    "print(sprintf(\"The numerical integral of f/c between 1 and 2 is: %f with absolute error < %f\",integral.value, integral.error))\n",
    "print(sprintf(\"This means that numerically c is %f\", 1/integral.value))\n",
    "#print(integrate(f, 1, 2))"
   ]
  },
  {
   "cell_type": "markdown",
   "metadata": {},
   "source": [
    "## 5.2: functions definitions and plots"
   ]
  },
  {
   "cell_type": "markdown",
   "metadata": {},
   "source": [
    "To write the four functions for the `examtime` distribution we consider what follows.\n",
    "- PDF: we already know that our random variable $t$ follows the distribution $f(t)$, therefore to define `dexamtime` it suffices to implement $f$.\n",
    "- CDF: by definition the cdf is the integral of the pdf - which we already computed analytically; if we properly fix the integration bounds we once again only have to implement a simple function defined by cases (we can also do this numerically, which is a bit easier).\n",
    "- quantile function: we can invert the cdf where it is strictly increasing; see the code cell for more details.\n",
    "- random variable sampling function: since we have an exact formula for the inverse cdf we can easily sample from $f(t)$ by \"recycling\" a uniform distribution random number generator; see the code cell for more details."
   ]
  },
  {
   "cell_type": "code",
   "execution_count": 14,
   "metadata": {},
   "outputs": [],
   "source": [
    "#note: in each of these functions we will add the same arguments that can be found in, say, dnorm etc. (therefore we will need logical variables log, lower.tail and log.p)\n",
    "\n",
    "dexamtime <- function(t, log = FALSE) {\n",
    "    y <- ifelse((t > 1 & t < 2), 6*(t-1)*(2-t), 0) #we set c=6 because we know this to be the exact normalization constant.\n",
    "    if (log) {return(log(y))}\n",
    "    else {return(y)}\n",
    "}\n",
    "\n",
    "#dexamtime(1.5)\n",
    "\n",
    "# if (...) is not vectorized in R, but ifelse is. In order to explain what is going on I first defined a pexatime function which is to be used with scalars only for clarity's sake; \n",
    "# after this is done I properly vectorize it by replacing if(...) with ifelse(...), which *is* vectorized.\n",
    "\n",
    "pexamtime.scalar <- function(t, lower.tail = TRUE, log.p = FALSE) {\n",
    "    #let's distinguish 3 cases when lower.tail equals its default TRUE value - i.e. when cdf(t) = \\int_{-\\infty}^t f(t') dt' .\n",
    "    #1) if t<=1 f is zero inside the integration interval and so is its integral:\n",
    "    if (t <= 1) {y <- 0}\n",
    "    \n",
    "    #2) if 1<t<2 then we only need to consider the integral of f between 1 and t (since f is zero for t <= 1), which (since c=6) is equal to the following function (as can be easily shown):\n",
    "    if (t > 1 & t < 2) {y <- 6*(-t^3/3 + 3*t^2/2 - 2*t) + 5} #numerical alternative: see below    \n",
    "    \n",
    "    #3) if t >= 2 then we are considering the whole support of f, therefore our cdf equals the integral between +- infinity - but since f has been normalized this is trivially 1.\n",
    "    if (t >= 2) {y <- 1}\n",
    "    \n",
    "    # now we consider that if lower.tail is FALSE then the integral is not from - infinity to t but from t to + infinity. This seems a bit problematic because it seems to imply we have to re-define by cases our cdf,\n",
    "    # but things need not be this complicated; it suffices to consider that P(T > t) = 1 - P(T <= t) because the two events T <= t and T > t encompass every possible event (and therefore the sum of their probabilities must be 1).\n",
    "    # This means we can avoid the computation of a different integral, because the result will be 1 - y (this can be formally proved with the property that integrals are linear wrt the integration interval).\n",
    "    if (lower.tail == FALSE) {y <- (1 - y)}\n",
    "    \n",
    "    # finally we observe that if log.p is TRUE we need to return the logarithm of y instead of y itself.\n",
    "    if (log.p) {y <- log(y)}\n",
    "    \n",
    "    return(y)\n",
    "}\n",
    "\n",
    "# to obtain a properly vectorized version of the above function we only need to replace if(condition) {y <- value} with y <- ifelse(condition, value). This will make the function harder to read, though, \n",
    "# since the fact that we need to consider 3 cases makes it so that we have to nest multiple calls to ifelse.\n",
    "\n",
    "pexamtime <- function(t, lower.tail = TRUE, log.p = FALSE) {\n",
    "    # notice that if the first two checks fail then it's automatically true that t is in ]1,2[ and hence there's no need to check it --> we can omit a third ifelse.\n",
    "    y <- ifelse((t <= 1), 0, ifelse((t >= 2), 1, 6*(-t^3/3 + 3*t^2/2 - 2*t) + 5))\n",
    "    \n",
    "    if (lower.tail == FALSE) {y <- (1 - y)}\n",
    "    \n",
    "    # finally we observe that if log.p is TRUE we need to return the logarithm of y instead of y itself.\n",
    "    if (log.p) {y <- log(y)}\n",
    "    \n",
    "    return(y)\n",
    "}\n",
    "\n",
    "# numerical alternative:\n",
    "pexamtime.numerical <- function(t, lower.tail = TRUE, log.p = FALSE) {\n",
    "    # this time we numerically compute our integral, which has nontrivial values only in ]1,2[\n",
    "    f <- function(t) {ifelse((t > 1 & t < 2), 6*(t-1)*(2-t), 0)}\n",
    "    #y <- ifelse((t <= 1), 0, ifelse((t >= 2), 1, integrate(f, 1, t)$value)) # if we use this line the pexamtime.numerical function won't work with vector inputs since integrate is NOT vectorized\n",
    "    \n",
    "    # What we need to do instead is to apply Vectorize to a function which returns integrate's output, then evaluate the resulting function on t inside the ifelse\n",
    "    g <- Vectorize(function(z) integrate(f, 1, z)$value)\n",
    "    y <- ifelse((t <= 1), 0, ifelse((t >= 2), 1, g(t)))\n",
    "    if (lower.tail == FALSE) {y <- 1 - y}\n",
    "    if (log.p) {y <- log(y)}\n",
    "    return(y)    \n",
    "}"
   ]
  },
  {
   "cell_type": "markdown",
   "metadata": {},
   "source": [
    "### PDF & CDF Plots\n",
    "Before defining the remaining two functions we plot the pdf and cdf."
   ]
  },
  {
   "cell_type": "code",
   "execution_count": 15,
   "metadata": {},
   "outputs": [
    {
     "data": {
      "image/png": "[encoded data removed]",
      "text/plain": [
       "Plot with title \"Exam time duration PDF\""
      ]
     },
     "metadata": {
      "image/png": {
       "height": 420,
       "width": 420
      }
     },
     "output_type": "display_data"
    },
    {
     "data": {
      "image/png": "[encoded data removed]",
      "text/plain": [
       "Plot with title \"Exam time duration CDF\""
      ]
     },
     "metadata": {
      "image/png": {
       "height": 420,
       "width": 420
      }
     },
     "output_type": "display_data"
    }
   ],
   "source": [
    "x <- seq(from = -1, to = 3, length.out = 3000) #alternatively I can specify by = 0.001 or some similar value\n",
    "plot(x, dexamtime(x), type = \"b\", col = \"blue\", main = \"Exam time duration PDF\", xlab =  \"hours\", ylab = \"prob. of having an exam which lasts x hours\") #c(x[1],x[length(x)])\n",
    "plot(x, pexamtime(x), type = \"b\", col = \"firebrick\", main = \"Exam time duration CDF\", xlab =  \"hours\", ylab = \"prob. of having an exam which lasts t in [0,x] hours\")"
   ]
  },
  {
   "cell_type": "code",
   "execution_count": 16,
   "metadata": {},
   "outputs": [
    {
     "name": "stdout",
     "output_type": "stream",
     "text": [
      "[1] \"The scalar and vectorized exact functions are equivalent\"\n",
      "[1] \"The vectorized exact and numerical functions are equivalent\"\n"
     ]
    }
   ],
   "source": [
    "# before proceeding we check whether the 3 functions above are actually equivalent in the following way: we compute F(x) for a vector x with those 3 different functions and then compare the results with v1 == v2. \n",
    "# If every element of the resulting logical vector is true then it means the functions return the same result\n",
    "N <- 3000\n",
    "x <- seq(from = -1, to = 3, length.out = N)\n",
    "#the first function is not vectorized and hence a for loop is unavoidable\n",
    "a <- rep(0, N)\n",
    "for (i in 1:N){\n",
    "    a[i] <- pexamtime.scalar(x[i])\n",
    "}\n",
    "b <- pexamtime(x)\n",
    "c <- pexamtime.numerical(x)\n",
    "\n",
    "if (sum(a == b) == N) {print(\"The scalar and vectorized exact functions are equivalent\")} #it's risky to use == with floats, but in this case the result is so close it works just fine\n",
    "if (all.equal(b,c)) {print(\"The vectorized exact and numerical functions are equivalent\")} # all.equal(b,c) is equivalent to (sum(b == c) == length(b))"
   ]
  },
  {
   "cell_type": "markdown",
   "metadata": {},
   "source": [
    "Having plotted the CDF we are reminded that it's constant for $t\\leq 1$ and $t\\geq 2$, but we also notice a new fact: namely, the cdf is stricly monotonically increasing in $]1,2[$. These results mean that the cdf can be inverted in $]1,2[$, but not elsewhere since there the inverse would be undefined; indeed, there are infinite values of $t$ that make the cdf equal 0 or 1."
   ]
  },
  {
   "cell_type": "code",
   "execution_count": 17,
   "metadata": {},
   "outputs": [
    {
     "data": {
      "text/html": [
       "'Mean relative difference: 1.662359e-06'"
      ],
      "text/latex": [
       "'Mean relative difference: 1.662359e-06'"
      ],
      "text/markdown": [
       "'Mean relative difference: 1.662359e-06'"
      ],
      "text/plain": [
       "[1] \"Mean relative difference: 1.662359e-06\""
      ]
     },
     "metadata": {},
     "output_type": "display_data"
    }
   ],
   "source": [
    "qexamtime.scalar <- function(y, lower.tail = TRUE, log.p = FALSE) {\n",
    "    # by definition the quantile function Q(y) associated to the cdf F(x) returns the particular value of x such that F(x)=y; if F is a stricly monotonically increasing function then it holds that Q = F^-1.\n",
    "    # Since by definition the cdf returns a probability it must always hold that F maps its domain to the interval [0,1], and hence the quantile's domanin must be [0,1], too, and because of this we define qexamtime in\n",
    "    # such a way that it returns NA if the user tries to input a number not in [0,1].\n",
    "    \n",
    "    # Let's now say our user has inputted a number y in [0,1]; how do we compute Q(y)? If the cdf was a simpler function then we could compute its inverse analitically by solving the equation F(x) = y i.e.\n",
    "    # by inverting F exactly, but this isn't practical in our case. We already know our F(x) is a 3rd degree polynomial, and hence F(x) = y can technically be solved exactly - but with a complex formula! Even if we use \n",
    "    # numerical root finding routines we have the issue that the three roots are real and therefore we'd have to choose one.\n",
    "    # Because of this we turn towards a general method to numerically invert a monotonic function and proceed as follows.\n",
    "    \n",
    "    # Our task is to invert the function F(x) i.e. to solve the equation F(x) = y, which is equivalent to F(x)-y = 0. If we discretize our input values we can define a vector X, which represents every possible discrete input\n",
    "    # to be fed to F; this lets us immediately compute the vector Y holding the images of our discretized domain (trivial if the implementation of F is vectorized). Let's now say that we want to find which x in X was used\n",
    "    # to generate a certain y in Y; the x we're looking for is the one which solves F(x)-y=0, i.e. the component of F(X)-y which is closest to 0 (since by definition x's image is equal to y; we consider \"closest\" instead of \"equal\"\n",
    "    # to account for numerical errors). If F is monotonic then the solution to this equation is actually unique, because in order to find multiple x's with the same images our function would either need to be constant or\n",
    "    # to have a derivative with variable sign (neither of which is true for our cdf in its nontrivial interval).\n",
    "    # Our numerical inversion algorithm is hence as follows: \n",
    "    # - if the user input is not in ]0,1[ we return NA (0 ad 1 are not included because any x outside ]1,2[ has 0 or 1 as image, hence F is not invertible there). Otherwise:\n",
    "    # - we generate a grid X of interisting x values (i.e. between 1 and 2);\n",
    "    # - we compute the argmin of |F(X)-y| for user input y (via which.min);\n",
    "    # - we return the component of X of index equal to the above argmin.\n",
    "    \n",
    "    X <- seq(1, 2, length.out = 1e5) # finer grid divisions may be chosen\n",
    "    x <- ifelse((y > 0 & y < 1), X[which.min(abs(pexamtime(X)-y))], NA)\n",
    "    if (lower.tail == FALSE) x <- 1-x\n",
    "    if (log.p) x <- log(x)\n",
    "    return(x)\n",
    "}\n",
    "\n",
    "# The above function is not vectorized and instead returns a constant vector of the x associated to the last component of the input (I'm not sure why); to fix this we use the Vectorize function.\n",
    "qexamtime <- Vectorize(qexamtime.scalar)\n",
    "# an alternative is to use something like map_dbl(x, qexamtime.scalar)\n",
    "\n",
    "# to check whether our quantile works as intended we generate a bunch of x values, compute their images with both the cdf and the quantile and check whether the result is close to x itself.\n",
    "# this is equivalent to checking that the composition of the cdf and the quantile is the identity, which is what we expect given these functions are each other's inverse\n",
    "\n",
    "x <- seq(1.1, 1.9, length.out = 1e3) # the only values we can consider are those in ]1,2[, otherwise the quantile is undefined and we obtain NA\n",
    "all.equal(x, qexamtime(pexamtime(x))) # very small error on average! Even though the function is a bit slower to evaluate\n",
    "\n",
    "# random variate sampler\n",
    "rexamtime <- function(n) return(qexamtime(runif(n)))"
   ]
  },
  {
   "cell_type": "markdown",
   "metadata": {},
   "source": [
    "Note that inverse transform sampling isn't the only way we have to define the `r` function (for example we could have used *rejection sampling*)."
   ]
  },
  {
   "cell_type": "code",
   "execution_count": 18,
   "metadata": {},
   "outputs": [
    {
     "data": {
      "image/png": "[encoded data removed]",
      "text/plain": [
       "Plot with title \"Quantile function\""
      ]
     },
     "metadata": {
      "image/png": {
       "height": 420,
       "width": 420
      }
     },
     "output_type": "display_data"
    },
    {
     "data": {
      "image/png": "[encoded data removed]",
      "text/plain": [
       "Plot with title \"Cumulative distribution function\""
      ]
     },
     "metadata": {
      "image/png": {
       "height": 420,
       "width": 420
      }
     },
     "output_type": "display_data"
    }
   ],
   "source": [
    "# a qualitative check we can do is to compare the shapes of the quantile and cumulative distribution functions; they should look the same but with the x and y axes flipped\n",
    "\n",
    "xq <- seq(0, 1, length.out =  1000)\n",
    "plot(xq, qexamtime(xq), col = \"firebrick\", main = \"Quantile function\") \n",
    "\n",
    "xp <- seq(1, 2, length.out = 1000) # we consider only the interval where the cdf is actually invertible because we need to compare apples to apples\n",
    "plot(xp, pexamtime(xp), col = \"blue\", main = \"Cumulative distribution function\")\n",
    "\n",
    "# as we can see these two plots are identical if we perform an orthogonal reflection wrt the 45 degree line, which means they are plots of the same function but with the axes flipped"
   ]
  },
  {
   "cell_type": "markdown",
   "metadata": {},
   "source": [
    "## 5.3: computation of some probabilities\n",
    "**Prob. the exam lasts more than 75 minutes**:\n",
    "The probability that an exam will last more than $\\hat{t}$ is given by $1 - F(\\hat{t})$ since by definition $P(t \\leq \\hat{t}) = F(\\hat{t})$; therefore it suffices to evaluate the CDF for $\\hat{t}$ equal to 75 minutes.                              \n",
    "**Prob. the exam lasts between 90 and 120 minutes**:\n",
    "We can either integrate the PDF between these two extrema (90 and 120) or we can compute the difference of the CDF evaluated in 120 and 90 minutes, which also works due to linearity:\n",
    "\\begin{equation}\n",
    "\\int_{-\\infty}^{120} f(t) \\ \\mathrm{d}t - \\int_{-\\infty}^{90} f(t) \\ \\mathrm{d}t = \\left( \\int_{90}^{120} f(t) \\ \\mathrm{d}t + \\int_{-\\infty}^{90} f(t) \\ \\mathrm{d}t \\right) - \\int_{-\\infty}^{90} f(t) \\ \\mathrm{d}t \n",
    "= \\int_{90}^{120} f(t) \\ \\mathrm{d}t\n",
    "\\end{equation}"
   ]
  },
  {
   "cell_type": "code",
   "execution_count": 19,
   "metadata": {},
   "outputs": [
    {
     "name": "stdout",
     "output_type": "stream",
     "text": [
      "[1] \"Probability that an exam lasts for more than 75 minutes: 0.843750\"\n",
      "[1] \"Probability that an exam lasts between 90 and 120 minutes (direct integral): 0.500000\"\n",
      "[1] \"Probability that an exam lasts between 90 and 120 minutes (difference of CDF's): 0.500000\"\n"
     ]
    }
   ],
   "source": [
    "# reminder: the pdf, cdf and so on are defined with the time in hours, not minutes!\n",
    "print(sprintf(\"Probability that an exam lasts for more than 75 minutes: %f\", pexamtime(75/60, lower.tail = FALSE)))\n",
    "\n",
    "print(sprintf(\"Probability that an exam lasts between 90 and 120 minutes (direct integral): %f\", integrate(dexamtime, lower = 90/60, upper = 120/60)$value))\n",
    "print(sprintf(\"Probability that an exam lasts between 90 and 120 minutes (difference of CDF's): %f\", (pexamtime(120/60)-pexamtime(90/60))))"
   ]
  },
  {
   "cell_type": "markdown",
   "metadata": {},
   "source": [
    "# Exercise 6: lifetime of a tire"
   ]
  },
  {
   "cell_type": "markdown",
   "metadata": {},
   "source": [
    "## 6.1.1: functions definition\n",
    "To solve this exercise we can recycle the concepts explained in the previous one.                     \n",
    "The problem tells us that the lifetime of a tire is $10^4\\cdot X$ km, where $X$ is a random variable sampled from\n",
    "\\begin{equation}\n",
    "f(x) = \\left\\{ \n",
    "    \\begin{array}\n",
    "        \\ \\frac{2}{x^2} \\quad 1 < x < 2 \\\\ 0 \\quad \\text{otherwise}\n",
    "    \\end{array}\n",
    "\\right.\n",
    "\\end{equation}\n",
    "To implement the pdf of this variable we can trivially reproduce $f(x)$ with a single `ifelse` statement, since it's a function defined by (2) cases; we proceed analogously to define the cdf (this integral can be computed exactly). The other 2 functions can be once again constructed by inverting the cdf and via inverse sampling transform."
   ]
  },
  {
   "cell_type": "code",
   "execution_count": 20,
   "metadata": {},
   "outputs": [],
   "source": [
    "# PDF\n",
    "dtire <- function(x, log = FALSE) {\n",
    "    y <- ifelse((x > 1 & x < 2), 2/x^2, 0)\n",
    "    if (log) {y <- log(y)}\n",
    "    return(y)\n",
    "}\n",
    "\n",
    "#dtire(1.5)\n",
    "\n",
    "# CDF\n",
    "# the indefinite integral of 2/x^2 is -2/x up to an arbitrary constant, and hence if we integrate this between 1 and t the result is -2/t + 2.\n",
    "# When we integrate f for values smaller than 1 we get 0 since the integrand is identically zero, whereas due to normalization for values of the upper bound larger than 2 we get 1.\n",
    "ptire <- function(x, lower.tail = TRUE, log.p = FALSE) {\n",
    "    y <- ifelse((x < 1), 0, ifelse((x > 2), 1, (2 - 2/x)))\n",
    "    if (lower.tail == FALSE) {y <- 1 - y}\n",
    "    if (log.p) {y <- log(y)}\n",
    "    return(y)\n",
    "}"
   ]
  },
  {
   "cell_type": "code",
   "execution_count": 21,
   "metadata": {},
   "outputs": [
    {
     "data": {
      "text/html": [
       "<style>\n",
       ".list-inline {list-style: none; margin:0; padding: 0}\n",
       ".list-inline>li {display: inline-block}\n",
       ".list-inline>li:not(:last-child)::after {content: \"\\00b7\"; padding: 0 .5ex}\n",
       "</style>\n",
       "<ol class=list-inline><li>TRUE</li><li>TRUE</li><li>TRUE</li><li>TRUE</li><li>TRUE</li><li>TRUE</li><li>TRUE</li><li>TRUE</li><li>TRUE</li></ol>\n"
      ],
      "text/latex": [
       "\\begin{enumerate*}\n",
       "\\item TRUE\n",
       "\\item TRUE\n",
       "\\item TRUE\n",
       "\\item TRUE\n",
       "\\item TRUE\n",
       "\\item TRUE\n",
       "\\item TRUE\n",
       "\\item TRUE\n",
       "\\item TRUE\n",
       "\\end{enumerate*}\n"
      ],
      "text/markdown": [
       "1. TRUE\n",
       "2. TRUE\n",
       "3. TRUE\n",
       "4. TRUE\n",
       "5. TRUE\n",
       "6. TRUE\n",
       "7. TRUE\n",
       "8. TRUE\n",
       "9. TRUE\n",
       "\n",
       "\n"
      ],
      "text/plain": [
       "[1] TRUE TRUE TRUE TRUE TRUE TRUE TRUE TRUE TRUE"
      ]
     },
     "metadata": {},
     "output_type": "display_data"
    }
   ],
   "source": [
    "# Quantile\n",
    "qtire <- function(y, lower.tail = TRUE, log.p = FALSE) {\n",
    "    # This time everything is easier since the cdf is easily analitically inverted!\n",
    "    # if y is not in ]0,1[ we return NA; otherwise we evaluate the inverse of y = 2-2/x i.e. x = 2/(2-y). Numbers 0 and 1 must be excluded since there are infinitely many values of x which will make y equal 0 or 1 \n",
    "    # (any x outside ]1,2[ will)\n",
    "    x <- ifelse(y < 1 & y > 0, 2/(2-y), NA)\n",
    "    if (lower.tail == FALSE) x <- 1-x\n",
    "    if (log.p) x <- log(x)\n",
    "    return(x)\n",
    "}\n",
    "\n",
    "# how can we test whether what we wrote above is correct? If everything works then any number x between 0 and 1 must satisfy ptire(qtire(x)) == x because ptire and qtire must be inverse function - and hence their\n",
    "# composition must be the identity. We quickly check this for some values between 0.1 and 0.9 as follows\n",
    "v <- 0.1*(1:9)\n",
    "near(ptire(qtire(v)),v) # dplyr::near is safer than == when working with floats"
   ]
  },
  {
   "cell_type": "code",
   "execution_count": 22,
   "metadata": {},
   "outputs": [],
   "source": [
    "# Random variate\n",
    "\n",
    "# We already computed the exact inverse of the cdf (it's the quantile function). To sample from the pdf via inverse transform sampling it suffices to sample from U([0,1]) and then feed the result into Q\n",
    "rtire <- function(n) return(qtire(runif(n)))"
   ]
  },
  {
   "cell_type": "markdown",
   "metadata": {},
   "source": [
    "## 6.1.2: plots"
   ]
  },
  {
   "cell_type": "code",
   "execution_count": 23,
   "metadata": {},
   "outputs": [
    {
     "data": {
      "image/png": "[encoded data removed]",
      "text/plain": [
       "Plot with title \"Tire lifetime PDF\""
      ]
     },
     "metadata": {
      "image/png": {
       "height": 420,
       "width": 420
      }
     },
     "output_type": "display_data"
    },
    {
     "data": {
      "image/png": "[encoded data removed]",
      "text/plain": [
       "Plot with title \"Tire lifetime CDF\""
      ]
     },
     "metadata": {
      "image/png": {
       "height": 420,
       "width": 420
      }
     },
     "output_type": "display_data"
    }
   ],
   "source": [
    "# PDF and CDF plot\n",
    "curve(10^4*dtire(x), from = 0, to = 3, n = 1000, type = \"b\", col = \"deepskyblue\", main = \"Tire lifetime PDF\", ylab = \"km\")\n",
    "curve(10^4*ptire(x), from = 0, to = 3, n = 1000, type = \"b\", col = \"blue\", main = \"Tire lifetime CDF\", ylab = \"km\")"
   ]
  },
  {
   "cell_type": "markdown",
   "metadata": {},
   "source": [
    "## 6.2: probability that a tire lasts less than 15000 km\n",
    "The probability that the lifetime of a tire is less than $15000 = 1.5\\cdot 10^4$ km equals the probability that $X$ is less than 1.5, which is readily computed with the cdf."
   ]
  },
  {
   "cell_type": "code",
   "execution_count": 24,
   "metadata": {},
   "outputs": [
    {
     "name": "stdout",
     "output_type": "stream",
     "text": [
      "[1] \"Percent probability that a tire will last less than 15000 km:\"\n"
     ]
    },
    {
     "data": {
      "text/html": [
       "66.6666666666667"
      ],
      "text/latex": [
       "66.6666666666667"
      ],
      "text/markdown": [
       "66.6666666666667"
      ],
      "text/plain": [
       "[1] 66.66667"
      ]
     },
     "metadata": {},
     "output_type": "display_data"
    }
   ],
   "source": [
    "print(\"Percent probability that a tire will last less than 15000 km:\")\n",
    "100*ptire(1.5)"
   ]
  },
  {
   "cell_type": "markdown",
   "metadata": {},
   "source": [
    "## 6.3: mean, expectation value, variance\n",
    "Once again we can use the usual formulae to compare the mean computed over a population sampled via `rtire` with the expectation value, and do analogous computations for the experimental/theoretical variance.              \n",
    "**Exact expectation value**:\n",
    "\\begin{equation}\n",
    "\\mathbb{E}(X) = \\int_{-\\infty}^{+\\infty} x f(x) \\ \\mathrm{d} x = \\int_1^2 x \\cdot \\frac{2}{x^2} \\ \\mathrm{d} x = \\int_1^2 \\frac{2}{x} \\ \\mathrm{d}x = \\left[2\\ln x\\right]_1^2 = 2\\ln 2 - 2\\underbrace{\\ln 1}_{= \\ 0} = 2\\ln 2 = \\ln 4 \\approx 1.386\n",
    "\\end{equation}\n",
    "**Exact variance**:\n",
    "\\begin{equation}\n",
    "\\mathbb{E}(X^2) = \\int_{-\\infty}^{+\\infty} x^2 f(x) \\ \\mathrm{d} x = \\int_1^2 x^2 \\cdot \\frac{2}{x^2} \\ \\mathrm{d} x =  \\int_1^2 2 \\ \\mathrm{d}x = 2 \\left[x\\right]_1^2 = 2(2-1) = 2\n",
    "\\end{equation}\n",
    "\n",
    "\\begin{equation}\n",
    "\\mathrm{Var}(X) = \\mathbb{E}(X^2) - (\\mathbb{E}(X))^2 = 2 - (\\ln 4)^2 \\approx 0.078\n",
    "\\end{equation}"
   ]
  },
  {
   "cell_type": "code",
   "execution_count": 25,
   "metadata": {},
   "outputs": [
    {
     "name": "stdout",
     "output_type": "stream",
     "text": [
      "[1] \"percent difference between theoretical and numerical exp. values:\"\n"
     ]
    },
    {
     "data": {
      "text/html": [
       "2.22044604925031e-14"
      ],
      "text/latex": [
       "2.22044604925031e-14"
      ],
      "text/markdown": [
       "2.22044604925031e-14"
      ],
      "text/plain": [
       "[1] 2.220446e-14"
      ]
     },
     "metadata": {},
     "output_type": "display_data"
    },
    {
     "name": "stdout",
     "output_type": "stream",
     "text": [
      "[1] \"percent difference between theoretical and numerical var. values:\"\n"
     ]
    },
    {
     "data": {
      "text/html": [
       "6.66133814775094e-14"
      ],
      "text/latex": [
       "6.66133814775094e-14"
      ],
      "text/markdown": [
       "6.66133814775094e-14"
      ],
      "text/plain": [
       "[1] 6.661338e-14"
      ]
     },
     "metadata": {},
     "output_type": "display_data"
    }
   ],
   "source": [
    "# We quickly check whether the above integrals have been computed correctly via numerical integration.\n",
    "E.X.integral <- integrate(function(x){x*dtire(x)}, 1, 2)\n",
    "E.X.numerical <- E.X.integral$value\n",
    "print(\"percent difference between theoretical and numerical exp. values:\")\n",
    "100*abs(E.X.numerical - log(4))\n",
    "\n",
    "E.X2.integral <- integrate(function(x){x^2*dtire(x)}, 1, 2)\n",
    "Var.X.numerical <- E.X2.integral$value - E.X.numerical^2\n",
    "print(\"percent difference between theoretical and numerical var. values:\")\n",
    "100*abs(Var.X.numerical - (2 - log(4)^2))"
   ]
  },
  {
   "cell_type": "code",
   "execution_count": 26,
   "metadata": {},
   "outputs": [
    {
     "name": "stdout",
     "output_type": "stream",
     "text": [
      "[1] \"E[X] = 1.386294\"\n",
      "[1] \"Var(X) = 0.078188\"\n",
      "[1] \"Average lifespans of simulated tires: 1.390036\"\n",
      "[1] \"Variance of simulated tire lifespans: 0.079023\"\n",
      "[1] \"Percent difference between means: 0.269879\"\n",
      "[1] \"Percent difference between variances: 1.067744\"\n"
     ]
    }
   ],
   "source": [
    "E.X <- log(4)\n",
    "Var.X <- 2 - (log(4))^2\n",
    "print(sprintf(\"E[X] = %f\",E.X))\n",
    "print(sprintf(\"Var(X) = %f\",Var.X))\n",
    "\n",
    "# Now we sample a population of 3000 samples via the rtire function and compute the mean and var to compare them with the exact results\n",
    "tire.lifespans <- rtire(3000)\n",
    "average.lifespans <- mean(tire.lifespans)\n",
    "var.lifespans <- var(tire.lifespans)\n",
    "print(sprintf(\"Average lifespans of simulated tires: %f\", average.lifespans))\n",
    "print(sprintf(\"Variance of simulated tire lifespans: %f\", var.lifespans))\n",
    "print(sprintf(\"Percent difference between means: %f\", 100*abs(average.lifespans - E.X)/E.X))\n",
    "print(sprintf(\"Percent difference between variances: %f\", 100*abs(var.lifespans - Var.X)/Var.X))\n",
    "# pretty good agreement!"
   ]
  }
 ],
 "metadata": {
  "kernelspec": {
   "display_name": "R",
   "language": "R",
   "name": "ir"
  },
  "language_info": {
   "codemirror_mode": "r",
   "file_extension": ".r",
   "mimetype": "text/x-r-source",
   "name": "R",
   "pygments_lexer": "r",
   "version": "4.0.4"
  }
 },
 "nbformat": 4,
 "nbformat_minor": 4
}
