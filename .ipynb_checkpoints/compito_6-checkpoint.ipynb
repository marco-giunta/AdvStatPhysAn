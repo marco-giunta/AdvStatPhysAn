{
 "cells": [
  {
   "cell_type": "markdown",
   "id": "8a6b679a-0f9b-45d2-bf92-12c296225198",
   "metadata": {},
   "source": [
    "# name: Marco Giunta\n",
    "## Rlab06"
   ]
  },
  {
   "cell_type": "code",
   "execution_count": 1,
   "id": "43882da0-763a-4eeb-9308-ec71abc866de",
   "metadata": {},
   "outputs": [
    {
     "name": "stderr",
     "output_type": "stream",
     "text": [
      "-- \u001b[1mAttaching packages\u001b[22m ------------------------------------------------------------------------------- tidyverse 1.3.1 --\n",
      "\n",
      "\u001b[32mv\u001b[39m \u001b[34mggplot2\u001b[39m 3.3.3     \u001b[32mv\u001b[39m \u001b[34mpurrr  \u001b[39m 0.3.4\n",
      "\u001b[32mv\u001b[39m \u001b[34mtibble \u001b[39m 3.1.0     \u001b[32mv\u001b[39m \u001b[34mdplyr  \u001b[39m 1.0.5\n",
      "\u001b[32mv\u001b[39m \u001b[34mtidyr  \u001b[39m 1.1.3     \u001b[32mv\u001b[39m \u001b[34mstringr\u001b[39m 1.4.0\n",
      "\u001b[32mv\u001b[39m \u001b[34mreadr  \u001b[39m 1.4.0     \u001b[32mv\u001b[39m \u001b[34mforcats\u001b[39m 0.5.1\n",
      "\n",
      "-- \u001b[1mConflicts\u001b[22m ---------------------------------------------------------------------------------- tidyverse_conflicts() --\n",
      "\u001b[31mx\u001b[39m \u001b[34mdplyr\u001b[39m::\u001b[32mfilter()\u001b[39m masks \u001b[34mstats\u001b[39m::filter()\n",
      "\u001b[31mx\u001b[39m \u001b[34mdplyr\u001b[39m::\u001b[32mlag()\u001b[39m    masks \u001b[34mstats\u001b[39m::lag()\n",
      "\n"
     ]
    }
   ],
   "source": [
    "library(tidyverse)"
   ]
  },
  {
   "cell_type": "markdown",
   "id": "6aa024e0-67d6-45f4-a6b2-9861d2f8ab0e",
   "metadata": {},
   "source": [
    "# Exercise 1: radioactive source inference"
   ]
  },
  {
   "cell_type": "code",
   "execution_count": null,
   "id": "9194929f-ec65-431c-9d07-8659103c0683",
   "metadata": {},
   "outputs": [],
   "source": []
  },
  {
   "cell_type": "markdown",
   "id": "26670763-3724-411a-85f9-354af3b7b35d",
   "metadata": {},
   "source": [
    "# Exercise 2: lighthouse inference"
   ]
  },
  {
   "cell_type": "code",
   "execution_count": null,
   "id": "7b978395-54c4-40b4-b2b0-5e4b13cc0f4f",
   "metadata": {},
   "outputs": [],
   "source": []
  },
  {
   "cell_type": "markdown",
   "id": "a43482ca-6eb9-4a80-9196-9d8f7f7aa28d",
   "metadata": {},
   "source": [
    "# Exercise 3: signal vs noise inference"
   ]
  },
  {
   "cell_type": "code",
   "execution_count": null,
   "id": "d739f3f6-6eba-446d-b4c4-32385c664228",
   "metadata": {},
   "outputs": [],
   "source": [
    "S"
   ]
  }
 ],
 "metadata": {
  "kernelspec": {
   "display_name": "R",
   "language": "R",
   "name": "ir"
  },
  "language_info": {
   "codemirror_mode": "r",
   "file_extension": ".r",
   "mimetype": "text/x-r-source",
   "name": "R",
   "pygments_lexer": "r",
   "version": "4.0.5"
  }
 },
 "nbformat": 4,
 "nbformat_minor": 5
}
