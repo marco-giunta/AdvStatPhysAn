{
 "cells": [
  {
   "cell_type": "markdown",
   "id": "d7b2b89b-c573-449d-8721-a6d32cb2e488",
   "metadata": {},
   "source": [
    "Marco Giunta, problema 4"
   ]
  },
  {
   "cell_type": "code",
   "execution_count": 1,
   "id": "cefde759-f6cc-4302-a900-a5d6ce5ea072",
   "metadata": {},
   "outputs": [],
   "source": [
    "data <- c(514,536,345,440,427,443,386,418,364,483,506,385,410,561,275,306,294,402,\n",
    "          350,343,480,334,324,414,296)"
   ]
  },
  {
   "cell_type": "markdown",
   "id": "01f4dc9a-5816-4006-bef0-6c9707571c6f",
   "metadata": {},
   "source": [
    "# a)\n",
    "Since the likelihood is a gaussian with known sd and the prior is a gaussian the posterior will be a gaussian, too since this is the appropriate conjugate prior; hence the posterior will be a gaussian with mean and sd given by the formulae in handout 9 page 7."
   ]
  },
  {
   "cell_type": "code",
   "execution_count": 2,
   "id": "d50c1e77-c33f-4d9d-82ed-f25f804cb758",
   "metadata": {},
   "outputs": [],
   "source": [
    "y.bar <- mean(data)\n",
    "\n",
    "sigma.sq <- (80^2)\n",
    "s.sq <- (80^2)\n",
    "m <- 325"
   ]
  },
  {
   "cell_type": "code",
   "execution_count": 3,
   "id": "53230f05-7742-42a8-8d50-f7000c201dc4",
   "metadata": {},
   "outputs": [
    {
     "name": "stdout",
     "output_type": "stream",
     "text": [
      "[1] 398.5\n",
      "[1] 246.1538\n",
      "[1] 15.68929\n"
     ]
    }
   ],
   "source": [
    "N <- length(data)\n",
    "# posterior parameters computation\n",
    "mu.post <- (1/s.sq) / (N/sigma.sq + 1/s.sq) * m + (N/sigma.sq) / (N/sigma.sq + 1/s.sq) * y.bar\n",
    "sd.sq.post <- (sigma.sq * s.sq) / (sigma.sq + N * s.sq)\n",
    "print(mu.post)\n",
    "print(sd.sq.post)\n",
    "\n",
    "sd.post <- sqrt(sd.sq.post)\n",
    "print(sd.post)"
   ]
  },
  {
   "cell_type": "markdown",
   "id": "0541f907-17ed-4a90-a71d-12e264336cca",
   "metadata": {},
   "source": [
    "# b) credibility intervals"
   ]
  },
  {
   "cell_type": "code",
   "execution_count": 4,
   "id": "f697c3de-a3ae-4a01-aea2-437b45d4940c",
   "metadata": {},
   "outputs": [
    {
     "name": "stdout",
     "output_type": "stream",
     "text": [
      "[1] 0.9544997\n",
      "[1] 367.1214\n",
      "[1] 429.8786\n"
     ]
    }
   ],
   "source": [
    "# since the posterior is just a gaussian we already know 95% of the area is between +- sd \n",
    "# from the mean\n",
    "f <- function(x) dnorm(x, mean = mu.post, sd = sd.post)\n",
    "a <- mu.post - 2*sd.post; b <- mu.post + 2*sd.post\n",
    "print(integrate(f, a, b)$value)\n",
    "print(a)\n",
    "print(b)"
   ]
  },
  {
   "cell_type": "code",
   "execution_count": 5,
   "id": "c5890cf1-8998-4c45-9994-3002bb4f8576",
   "metadata": {},
   "outputs": [
    {
     "name": "stdout",
     "output_type": "stream",
     "text": [
      "[1] \"the 95& cred. int. for mu is: [367.121418, 429.878582]\"\n"
     ]
    }
   ],
   "source": [
    "print(sprintf(\"the 95& cred. int. for mu is: [%f, %f]\", a, b))"
   ]
  },
  {
   "cell_type": "markdown",
   "id": "c46ba9ab-a6a6-44fd-8af9-c3098468761e",
   "metadata": {},
   "source": [
    "# c) bayesian hyp. test"
   ]
  },
  {
   "cell_type": "code",
   "execution_count": 6,
   "id": "fde30850-2ddb-4144-947b-b26ddc042406",
   "metadata": {},
   "outputs": [
    {
     "name": "stdout",
     "output_type": "stream",
     "text": [
      "[1] \"prob:\"\n",
      "[1] 0.0009964572\n",
      "[1] \"is this prob. less than 5%?\"\n",
      "[1] TRUE\n",
      "[1] \"we reject H0\"\n"
     ]
    }
   ],
   "source": [
    "# we only need to compute the probability that mu is <= 350 by integrating the posterior; if \n",
    "# the result is less than 0.05 H0 is rejected\n",
    "\n",
    "print(\"prob:\")\n",
    "print(integrate(f, -Inf, 350)$value)\n",
    "print(paste(\"is this prob. less than 5%?\"))\n",
    "l <- integrate(f, -Inf, 350)$value < 0.05\n",
    "print(l)\n",
    "if (l) print(\"we reject H0\")\n",
    "if (!l) print(\"we don't reject H0\")"
   ]
  }
 ],
 "metadata": {
  "kernelspec": {
   "display_name": "R",
   "language": "R",
   "name": "ir"
  },
  "language_info": {
   "codemirror_mode": "r",
   "file_extension": ".r",
   "mimetype": "text/x-r-source",
   "name": "R",
   "pygments_lexer": "r",
   "version": "4.0.5"
  }
 },
 "nbformat": 4,
 "nbformat_minor": 5
}
