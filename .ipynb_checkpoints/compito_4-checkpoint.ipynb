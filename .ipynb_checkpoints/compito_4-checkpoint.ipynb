{
 "cells": [
  {
   "cell_type": "markdown",
   "id": "096f66d1-d545-474b-ab3c-8b0dc9654b18",
   "metadata": {},
   "source": [
    "# name: Marco Giunta\n",
    "## Rlab04"
   ]
  },
  {
   "cell_type": "code",
   "execution_count": 5,
   "id": "cc4baff1-eb9a-409a-a85f-323920da5e1c",
   "metadata": {},
   "outputs": [
    {
     "name": "stderr",
     "output_type": "stream",
     "text": [
      "-- \u001b[1mAttaching packages\u001b[22m ------------------------------------------------------------------------------- tidyverse 1.3.1 --\n",
      "\n",
      "\u001b[32mv\u001b[39m \u001b[34mggplot2\u001b[39m 3.3.3     \u001b[32mv\u001b[39m \u001b[34mpurrr  \u001b[39m 0.3.4\n",
      "\u001b[32mv\u001b[39m \u001b[34mtibble \u001b[39m 3.1.0     \u001b[32mv\u001b[39m \u001b[34mdplyr  \u001b[39m 1.0.5\n",
      "\u001b[32mv\u001b[39m \u001b[34mtidyr  \u001b[39m 1.1.3     \u001b[32mv\u001b[39m \u001b[34mstringr\u001b[39m 1.4.0\n",
      "\u001b[32mv\u001b[39m \u001b[34mreadr  \u001b[39m 1.4.0     \u001b[32mv\u001b[39m \u001b[34mforcats\u001b[39m 0.5.1\n",
      "\n",
      "-- \u001b[1mConflicts\u001b[22m ---------------------------------------------------------------------------------- tidyverse_conflicts() --\n",
      "\u001b[31mx\u001b[39m \u001b[34mdplyr\u001b[39m::\u001b[32mfilter()\u001b[39m masks \u001b[34mstats\u001b[39m::filter()\n",
      "\u001b[31mx\u001b[39m \u001b[34mdplyr\u001b[39m::\u001b[32mlag()\u001b[39m    masks \u001b[34mstats\u001b[39m::lag()\n",
      "\n"
     ]
    }
   ],
   "source": [
    "library(tidyverse)"
   ]
  },
  {
   "cell_type": "markdown",
   "id": "f813999d-3dcc-4ca5-bcbc-65ba3b0d0bfb",
   "metadata": {},
   "source": [
    "# Exercise 1: six boxes toy model with user input"
   ]
  },
  {
   "cell_type": "code",
   "execution_count": 4,
   "id": "16dcb246-5063-4001-b158-fb2122426103",
   "metadata": {},
   "outputs": [
    {
     "name": "stdin",
     "output_type": "stream",
     "text": [
      "dammi un numero 22\n"
     ]
    },
    {
     "name": "stdout",
     "output_type": "stream",
     "text": [
      "[1] \"22\"\n"
     ]
    }
   ],
   "source": [
    "x <- readline(prompt = \"dammi un numero\")\n",
    "print(x)"
   ]
  },
  {
   "cell_type": "code",
   "execution_count": 1,
   "id": "d63a3daa-2ff2-41d0-9b45-69022151d137",
   "metadata": {},
   "outputs": [],
   "source": [
    "compute.posterior <- function(prior, data) { # B.T.\n",
    "    likelihood <- abs(data - 0:5/5)\n",
    "    likelihood.times.prior <- likelihood*prior\n",
    "    evidence <- sum(likelihood.times.prior)\n",
    "    poterior <- likelihood.times.prior/evidence\n",
    "    return(posterior)\n",
    "}"
   ]
  },
  {
   "cell_type": "code",
   "execution_count": 2,
   "id": "f0de4deb-311f-41df-a77f-afc19fb045f6",
   "metadata": {},
   "outputs": [],
   "source": [
    "get.user.input <- function() {\n",
    "    input <- readline(prompt = 'enter extracted color (\"w\" or \"b\") or \"stop\"')\n",
    "    if(input == \"w\") x <- 0\n",
    "    else {\n",
    "        if(input == \"b\") x <- 1\n",
    "        else x <- NA\n",
    "    }\n",
    "    if(input == \"stop\") proceed <- FALSE\n",
    "    else proceed <- TRUE\n",
    "    \n",
    "    return(c(x, proceed))\n",
    "}"
   ]
  },
  {
   "cell_type": "code",
   "execution_count": 4,
   "id": "19f9077d-b117-4345-8d81-82a1f8ccfd8a",
   "metadata": {},
   "outputs": [
    {
     "name": "stdin",
     "output_type": "stream",
     "text": [
      "enter extracted color (\"w\" or \"b\") or \"stop\" w\n",
      "enter extracted color (\"w\" or \"b\") or \"stop\" b\n",
      "enter extracted color (\"w\" or \"b\") or \"stop\" stop\n"
     ]
    }
   ],
   "source": [
    "proceed <- TRUE\n",
    "prior <- rep(1, times = 6)/6\n",
    "\n",
    "df <- data.frame(matrix(0, nrow = 1, ncol = 6))\n",
    "df[1,] <- prior\n",
    "\n",
    "while(proceed) {\n",
    "    v <- get.user.input()\n",
    "    x <- v[1]; proceed <- v[2]\n",
    "    #print(x)\n",
    "    #if(!is.na(x))\n",
    "}"
   ]
  },
  {
   "cell_type": "code",
   "execution_count": 5,
   "id": "0b0580ae-01bb-4838-a53c-784c40149d3b",
   "metadata": {},
   "outputs": [
    {
     "data": {
      "text/html": [
       "<table class=\"dataframe\">\n",
       "<caption>A data.frame: 1 × 6</caption>\n",
       "<thead>\n",
       "\t<tr><th scope=col>X1</th><th scope=col>X2</th><th scope=col>X3</th><th scope=col>X4</th><th scope=col>X5</th><th scope=col>X6</th></tr>\n",
       "\t<tr><th scope=col>&lt;dbl&gt;</th><th scope=col>&lt;dbl&gt;</th><th scope=col>&lt;dbl&gt;</th><th scope=col>&lt;dbl&gt;</th><th scope=col>&lt;dbl&gt;</th><th scope=col>&lt;dbl&gt;</th></tr>\n",
       "</thead>\n",
       "<tbody>\n",
       "\t<tr><td>0.1666667</td><td>0.1666667</td><td>0.1666667</td><td>0.1666667</td><td>0.1666667</td><td>0.1666667</td></tr>\n",
       "</tbody>\n",
       "</table>\n"
      ],
      "text/latex": [
       "A data.frame: 1 × 6\n",
       "\\begin{tabular}{llllll}\n",
       " X1 & X2 & X3 & X4 & X5 & X6\\\\\n",
       " <dbl> & <dbl> & <dbl> & <dbl> & <dbl> & <dbl>\\\\\n",
       "\\hline\n",
       "\t 0.1666667 & 0.1666667 & 0.1666667 & 0.1666667 & 0.1666667 & 0.1666667\\\\\n",
       "\\end{tabular}\n"
      ],
      "text/markdown": [
       "\n",
       "A data.frame: 1 × 6\n",
       "\n",
       "| X1 &lt;dbl&gt; | X2 &lt;dbl&gt; | X3 &lt;dbl&gt; | X4 &lt;dbl&gt; | X5 &lt;dbl&gt; | X6 &lt;dbl&gt; |\n",
       "|---|---|---|---|---|---|\n",
       "| 0.1666667 | 0.1666667 | 0.1666667 | 0.1666667 | 0.1666667 | 0.1666667 |\n",
       "\n"
      ],
      "text/plain": [
       "  X1        X2        X3        X4        X5        X6       \n",
       "1 0.1666667 0.1666667 0.1666667 0.1666667 0.1666667 0.1666667"
      ]
     },
     "metadata": {},
     "output_type": "display_data"
    }
   ],
   "source": [
    "df"
   ]
  },
  {
   "cell_type": "code",
   "execution_count": 23,
   "id": "c40c518d-7d21-4293-9442-9e4b8877cd39",
   "metadata": {},
   "outputs": [
    {
     "data": {
      "text/html": [
       "<table class=\"dataframe\">\n",
       "<caption>A data.frame: 7 × 1</caption>\n",
       "<thead>\n",
       "\t<tr><th></th><th scope=col>c.1..1..1..1..1..1.</th></tr>\n",
       "\t<tr><th></th><th scope=col>&lt;dbl&gt;</th></tr>\n",
       "</thead>\n",
       "<tbody>\n",
       "\t<tr><th scope=row>1</th><td> 1</td></tr>\n",
       "\t<tr><th scope=row>2</th><td> 1</td></tr>\n",
       "\t<tr><th scope=row>3</th><td> 1</td></tr>\n",
       "\t<tr><th scope=row>4</th><td> 1</td></tr>\n",
       "\t<tr><th scope=row>5</th><td> 1</td></tr>\n",
       "\t<tr><th scope=row>6</th><td> 1</td></tr>\n",
       "\t<tr><th scope=row>7</th><td>33</td></tr>\n",
       "</tbody>\n",
       "</table>\n"
      ],
      "text/latex": [
       "A data.frame: 7 × 1\n",
       "\\begin{tabular}{r|l}\n",
       "  & c.1..1..1..1..1..1.\\\\\n",
       "  & <dbl>\\\\\n",
       "\\hline\n",
       "\t1 &  1\\\\\n",
       "\t2 &  1\\\\\n",
       "\t3 &  1\\\\\n",
       "\t4 &  1\\\\\n",
       "\t5 &  1\\\\\n",
       "\t6 &  1\\\\\n",
       "\t7 & 33\\\\\n",
       "\\end{tabular}\n"
      ],
      "text/markdown": [
       "\n",
       "A data.frame: 7 × 1\n",
       "\n",
       "| <!--/--> | c.1..1..1..1..1..1. &lt;dbl&gt; |\n",
       "|---|---|\n",
       "| 1 |  1 |\n",
       "| 2 |  1 |\n",
       "| 3 |  1 |\n",
       "| 4 |  1 |\n",
       "| 5 |  1 |\n",
       "| 6 |  1 |\n",
       "| 7 | 33 |\n",
       "\n"
      ],
      "text/plain": [
       "  c.1..1..1..1..1..1.\n",
       "1  1                 \n",
       "2  1                 \n",
       "3  1                 \n",
       "4  1                 \n",
       "5  1                 \n",
       "6  1                 \n",
       "7 33                 "
      ]
     },
     "metadata": {},
     "output_type": "display_data"
    }
   ],
   "source": [
    "df <- data.frame(c(1,1,1,1,1,1))\n",
    "df[7,] <- 33\n",
    "df"
   ]
  }
 ],
 "metadata": {
  "kernelspec": {
   "display_name": "R",
   "language": "R",
   "name": "ir"
  },
  "language_info": {
   "codemirror_mode": "r",
   "file_extension": ".r",
   "mimetype": "text/x-r-source",
   "name": "R",
   "pygments_lexer": "r",
   "version": "4.0.5"
  }
 },
 "nbformat": 4,
 "nbformat_minor": 5
}
