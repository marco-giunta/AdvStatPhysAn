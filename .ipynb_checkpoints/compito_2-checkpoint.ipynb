{
 "cells": [
  {
   "cell_type": "markdown",
   "metadata": {},
   "source": [
    "name: Marco Giunta"
   ]
  },
  {
   "cell_type": "markdown",
   "metadata": {},
   "source": [
    "# Exercise 1: expectation and variance for an empirically measured probability distribution\n",
    "The first thing we need to do is to import the 3 data vectors; then we can use the definitions of exp. value and variance to compute our targets."
   ]
  },
  {
   "cell_type": "code",
   "execution_count": 2,
   "metadata": {},
   "outputs": [
    {
     "data": {
      "text/html": [
       "<table class=\"dataframe\">\n",
       "<caption>A data.frame: 5 × 3</caption>\n",
       "<thead>\n",
       "\t<tr><th scope=col>x</th><th scope=col>p1</th><th scope=col>p2</th></tr>\n",
       "\t<tr><th scope=col>&lt;dbl&gt;</th><th scope=col>&lt;dbl&gt;</th><th scope=col>&lt;dbl&gt;</th></tr>\n",
       "</thead>\n",
       "<tbody>\n",
       "\t<tr><td>15.58</td><td>0.15</td><td>0.14</td></tr>\n",
       "\t<tr><td>15.90</td><td>0.21</td><td>0.05</td></tr>\n",
       "\t<tr><td>16.00</td><td>0.35</td><td>0.64</td></tr>\n",
       "\t<tr><td>16.10</td><td>0.15</td><td>0.08</td></tr>\n",
       "\t<tr><td>16.20</td><td>0.14</td><td>0.09</td></tr>\n",
       "</tbody>\n",
       "</table>\n"
      ],
      "text/latex": [
       "A data.frame: 5 × 3\n",
       "\\begin{tabular}{lll}\n",
       " x & p1 & p2\\\\\n",
       " <dbl> & <dbl> & <dbl>\\\\\n",
       "\\hline\n",
       "\t 15.58 & 0.15 & 0.14\\\\\n",
       "\t 15.90 & 0.21 & 0.05\\\\\n",
       "\t 16.00 & 0.35 & 0.64\\\\\n",
       "\t 16.10 & 0.15 & 0.08\\\\\n",
       "\t 16.20 & 0.14 & 0.09\\\\\n",
       "\\end{tabular}\n"
      ],
      "text/markdown": [
       "\n",
       "A data.frame: 5 × 3\n",
       "\n",
       "| x &lt;dbl&gt; | p1 &lt;dbl&gt; | p2 &lt;dbl&gt; |\n",
       "|---|---|---|\n",
       "| 15.58 | 0.15 | 0.14 |\n",
       "| 15.90 | 0.21 | 0.05 |\n",
       "| 16.00 | 0.35 | 0.64 |\n",
       "| 16.10 | 0.15 | 0.08 |\n",
       "| 16.20 | 0.14 | 0.09 |\n",
       "\n"
      ],
      "text/plain": [
       "  x     p1   p2  \n",
       "1 15.58 0.15 0.14\n",
       "2 15.90 0.21 0.05\n",
       "3 16.00 0.35 0.64\n",
       "4 16.10 0.15 0.08\n",
       "5 16.20 0.14 0.09"
      ]
     },
     "metadata": {},
     "output_type": "display_data"
    }
   ],
   "source": [
    "x <- c(15.58, 15.9, 16, 16.1, 16.2)\n",
    "p1 <- c(0.15, 0.21, 0.35, 0.15, 0.14)\n",
    "p2 <- c(0.14, 0.05, 0.64, 0.08, 0.09)\n",
    "prob.df <- data.frame(x, p1, p2)\n",
    "prob.df"
   ]
  },
  {
   "cell_type": "markdown",
   "metadata": {},
   "source": [
    "Now we can use the following formulae (which are *definitions* of these two quantities); given a discrete random variable $X$ with $k\\leq +\\infty$ possible values (each with its own probability $p_i$ of happening, i.e. that $X = x_i$) it holds that\n",
    "\\begin{equation}\n",
    "\\mathbb{E}(X) = \\sum_{i=1}^k x_i p_i = p_1 x_1 + \\dots + p_k x_k\n",
    "\\end{equation}\n",
    "and that\n",
    "\\begin{equation}\n",
    "\\mathrm{Var}(X) = \\mathbb{E}(X^2)-\\left(\\mathbb{E}(X)\\right)^2 = \\sum_{i=1}^k p_i x_i^2 - \\left(\\sum_{i=1}^k x_i p_i\\right)^2 = \\sum_{i=1}^k p_i x_i^2 - \\mu^2\n",
    "\\end{equation}\n",
    "These two quantities are readily computed using vectorized operation; in particular it suffices to compute the elementwise product of the `x` and `x^2` vectors with the `p1` and `p2` vectors."
   ]
  },
  {
   "cell_type": "code",
   "execution_count": 16,
   "metadata": {},
   "outputs": [
    {
     "name": "stdout",
     "output_type": "stream",
     "text": [
      "[1] \"Exp. value according to p1: 15.959000\"\n",
      "[1] \"Exp. value according to p2: 15.962200\"\n",
      "[1] \"Variance according to p1: 238.764660\"\n",
      "[1] \"Variance according to p2: 238.857796\"\n"
     ]
    }
   ],
   "source": [
    "E1 <- sum(x*p1) #this is a simple way to get our exp. value. We notice that E(X) is just the linear combination obtained by summing over the elementwise prod. of x and p1\n",
    "#E1 <- (x %*% p1)[1] #an alternative approach is to use the dot product, since E(X) can actually be interpreted as <x,p1>\n",
    "print(sprintf(\"Exp. value according to p1: %f\", E1))\n",
    "\n",
    "E2 <- sum(x*p2) #(x %*% p1)[1]\n",
    "print(sprintf(\"Exp. value according to p2: %f\", E2))\n",
    "\n",
    "E12 <- sum(x^2*p1) - E1\n",
    "E22 <- sum(x^2*p2) - E2\n",
    "\n",
    "print(sprintf(\"Variance according to p1: %f\",E12))\n",
    "print(sprintf(\"Variance according to p2: %f\",E22))\n",
    "\n",
    "#we notice that the 2 distributions yield almost identical values for both E(X) and Var(X)"
   ]
  },
  {
   "cell_type": "markdown",
   "metadata": {},
   "source": [
    "# Exercise 2: waiting time at the doctor's"
   ]
  },
  {
   "cell_type": "code",
   "execution_count": null,
   "metadata": {},
   "outputs": [],
   "source": []
  },
  {
   "cell_type": "markdown",
   "metadata": {},
   "source": [
    "# Exercise 3: typos in a book\n",
    "The description of the problem suggests to consider our random variable (number of mistakes in a book) to be a Poisson random variable with $\\lambda = 1 \\ \\text{mistake} \\ / \\ 3 \\ \\ \\text{pages}$ i.e. $\\lambda = 1/3$; this is enough information to plot the pdf and cdf (via the `dpois` and `ppois` functions, respectively) and the probability of having $\\geq 1$ errors in any given page (via `ppois once again`)."
   ]
  },
  {
   "cell_type": "code",
   "execution_count": 38,
   "metadata": {},
   "outputs": [
    {
     "data": {
      "image/png": "[encoded data removed]",
      "text/plain": [
       "Plot with title \"Poisson PDF with lambda = 1/3\""
      ]
     },
     "metadata": {
      "image/png": {
       "height": 420,
       "width": 420
      }
     },
     "output_type": "display_data"
    },
    {
     "data": {
      "image/png": "[encoded data removed]",
      "text/plain": [
       "Plot with title \"Poisson CDF with lambda = 1/3\""
      ]
     },
     "metadata": {
      "image/png": {
       "height": 420,
       "width": 420
      }
     },
     "output_type": "display_data"
    }
   ],
   "source": [
    "n <- 0:15 #since this is a discrete distribution the input of the following functions must be an integer vector; integers from 0 to 15 suffice to create a simple plot.\n",
    "plot(dpois(n, lambda = 1/3), type = \"b\", col = \"blue\", main = \"Poisson PDF with lambda = 1/3\", xlab =  \"number of mistakes in a given page\", ylab = \"prob. of having n mistakes in any given page\")\n",
    "plot(ppois(n, lambda = 1/3), type = \"b\", col = \"blue\", main = \"Poisson CDF with lambda = 1/3\", xlab =  \"number of mistakes in a given page\", ylab = \"prob. of having n.mistakes in any page in [0,n]\") #i.e. between 0 and n\n",
    "#since we set lower.tail = T (default value)"
   ]
  },
  {
   "cell_type": "markdown",
   "metadata": {},
   "source": [
    "To compute the probability of having at least 1 error in any given page we can proceed in at least two different but equivalent ways:\n",
    "- we can sum the probabilities of having $n=1$, $n=2$, $n=3$, ... which is the discrete equivalent to the integral we perform to obtain the CDF of a continuous distribution.\n",
    "- we can set this probability equal to 1 - the probability of having less than 1 error (which is simply the probability of having $n=0$).\n",
    "Both of these can be performed with the `ppois` function (we only need to adjust the `lower.tail` argument)."
   ]
  },
  {
   "cell_type": "code",
   "execution_count": 45,
   "metadata": {},
   "outputs": [
    {
     "name": "stdout",
     "output_type": "stream",
     "text": [
      "[1] \"Prob. of having at least 1 mistake (direct computation): 0.283469\"\n",
      "[1] \"Prob. of having at least 1 mistake (1 - conj. prob.): 0.283469\"\n"
     ]
    }
   ],
   "source": [
    "# from the ppois documentation we notice that if lower.tail is set equal to TRUE we obtain the prob. that X <= x; if it's set to FALSE we obtain the prob. that X > x. Due to this convention we need to do the following:\n",
    "# - the prob. that X < 1 is equal to the prob. that X <= 0 (lower.tail = TRUE with x = 0)\n",
    "# the prob. that X >= 1 is equivalent to the prob. that X > 0 (lower.tail = FALSE with x = 0)\n",
    "# This means we need to feed 0 (not 1) as input to ppois\n",
    "\n",
    "print(sprintf(\"Prob. of having at least 1 mistake (direct computation): %f\", ppois(0, lambda = 1/3, lower.tail = FALSE)))\n",
    "print(sprintf(\"Prob. of having at least 1 mistake (1 - conj. prob.): %f\", 1 - ppois(0, lambda = 1/3, lower.tail = TRUE)))\n",
    "#the results agree as expected."
   ]
  },
  {
   "cell_type": "markdown",
   "metadata": {},
   "source": [
    "# Exercise 4: playing with a deck of cards"
   ]
  },
  {
   "cell_type": "code",
   "execution_count": null,
   "metadata": {},
   "outputs": [],
   "source": []
  },
  {
   "cell_type": "markdown",
   "metadata": {},
   "source": [
    "# Exercise 5: time to complete the exam\n",
    "As the problem tells us if $t$ is the time in hours needed to complete the TOLC-I exam then $t$ is a random variable obeying the distribution\n",
    "\n",
    "\\begin{equation}\n",
    "f(t) = \\left\\{ \n",
    "    \\begin{array}\n",
    "        \\ c(t-1)(2-t) \\quad 1 < t < 2 \\\\ 0 \\quad \\text{otherwise}\n",
    "    \\end{array}\n",
    "\\right.\n",
    "\\end{equation}\n",
    "\n",
    "## 5.1: determination of the normalization constant $c=1$\n",
    "In order for $f(t)$ to be an actual pdf it needs to be normalized, i.e. it must hold that\n",
    "\\begin{equation}\n",
    "\\int_{-\\infty}^{+\\infty} f(t) \\ \\mathrm{d} t = 1\n",
    "\\end{equation}\n",
    "This integral is quite easy to evaluate exactly, since $f$ is equal to 0 for most of the time.\n",
    "\\begin{equation}\n",
    "\\int_{-\\infty}^{+\\infty} f(t) \\ \\mathrm{d} t = \\int_{-\\infty}^{1} f(t) \\ \\mathrm{d} t + \\int_{1}^{2} f(t) \\ \\mathrm{d} t + \\int_{2}^{+\\infty} f(t) \\ \\mathrm{d} t =\n",
    "\\underbrace{\\int_{-\\infty}^{1} 0 \\ \\mathrm{d} t}_{= \\ 0} + \\int_{1}^{2}c(t-1)(2-t) \\ \\mathrm{d} t + \\underbrace{\\int_{2}^{+\\infty} 0 \\ \\mathrm{d} t}_{= \\ 0} = \\int_{1}^{2}c(t-1)(2-t) \\ \\mathrm{d} t\n",
    "\\end{equation}\n",
    "We obtain:\n",
    "\\begin{equation}\n",
    "\\int_{1}^{2}c(t-1)(2-t) \\ \\mathrm{d} t = c \\left[-\\frac{t^3}{3} + \\frac{3t^2}{2} -2t \\right]_1^2 = \\dots = c\\frac{1}{6}\n",
    "\\end{equation}\n",
    "This equals 1 iff $c=6$, which is our exact result; we can confirm this is correct via numerical integration as follows."
   ]
  },
  {
   "cell_type": "code",
   "execution_count": 56,
   "metadata": {},
   "outputs": [
    {
     "name": "stdout",
     "output_type": "stream",
     "text": [
      "[1] \"The numerical integral of f/c between 1 and 2 is: 0.166667 with absolute error < 0.000000\"\n",
      "[1] \"This means that numerically c is 6.000000\"\n"
     ]
    }
   ],
   "source": [
    "f <- function(t) {ifelse((t > 1 & t < 2), (t-1)*(2-t), 0)}\n",
    "integral.value <- integrate(f, 1, 2)$value\n",
    "integral.error <- integrate(f, 1, 2)$abs.error\n",
    "print(sprintf(\"The numerical integral of f/c between 1 and 2 is: %f with absolute error < %f\",integral.value, integral.error))\n",
    "print(sprintf(\"This means that numerically c is %f\", 1/integral.value))\n",
    "#print(integrate(f, 1, 2))"
   ]
  },
  {
   "cell_type": "markdown",
   "metadata": {},
   "source": [
    "## 5.2: functions definitions and plots"
   ]
  },
  {
   "cell_type": "markdown",
   "metadata": {},
   "source": [
    "To write the four functions for the `examtime` distribution we consider what follows.\n",
    "- PDF: we already know that our random variable $t$ follows the distribution $f(t)$, therefore to define `dexamtime` it suffices to implement $f$.\n",
    "- CDF: by definition the cdf is the integral of the pdf - which we already computed analytically; if we properly fix the integration bounds we once again only have to implement a simple function defined by cases (we can also do this numerically, which is a bit easier).\n",
    "- quantile function: we can invert the cdf where it is strictly increasing; see the code cell for more details.\n",
    "- random variable sampling function: since we have an exact formula for the inverse cdf we can easily sample from $f(t)$ by \"recycling\" a uniform distribution random number generator; see the code cell for more details."
   ]
  },
  {
   "cell_type": "code",
   "execution_count": 101,
   "metadata": {},
   "outputs": [],
   "source": [
    "#note: in each of these functions we will add the same arguments that can be found in, say, dnorm etc. (therefore we will need logical variables log, lower.tail and log.p)\n",
    "\n",
    "dexamtime <- function(t, log = FALSE) {\n",
    "    y <- ifelse((t > 1 & t < 2), 6*(t-1)*(2-t), 0) #we set c=6 because we know this to be the exact normalization constant.\n",
    "    if (log) {return(log(y))}\n",
    "    else {return(y)}\n",
    "}\n",
    "\n",
    "#dexamtime(1.5)\n",
    "\n",
    "# if (...) is not vectorized in R, but ifelse is. In order to explain what is going on I first defined a p... function which is to be used with scalars only for clarity's sake; \n",
    "# after this is done I properly vectorize it by replacing if(...) with ifelse(...), which *is* vectorized.\n",
    "pexamtime.scalar <- function(t, lower.tail = TRUE, log.p = FALSE) {\n",
    "    #let's distinguish 3 cases when lower.tail equals its default TRUE value i.e. when cdf(t) = \\int_{-\\infty}^t f(t') dt' .\n",
    "    #1) if t<=1 f is zero inside the integration interval and so is its integral:\n",
    "    if (t <= 1) {y <- 0}\n",
    "    \n",
    "    #2) if 1<t<2 then we only need to consider the integral of f between 1 and t (since f is zero for t <= 1), which (since c=6) is equal to the following function (as can be easily shown):\n",
    "    if (t > 1 & t < 2) {y <- 6*(-t^3/3 + 3*t^2/2 - 2*t) + 5} #numerical alternative: see below    \n",
    "    \n",
    "    #3) if t >= 2 then we are considering the whole support of f, therefore our cdf equals the integral between +- infinity - but since f has been normalized this is trivially 1.\n",
    "    if (t >= 2) {y <- 1}\n",
    "    \n",
    "    # now we consider that if lower.tail is FALSE then the integral is not from - infinity to t but from t to + infinity. This seems a bit problematic because it seems to imply we have to re-define by cases our cdf,\n",
    "    # but things need not be this complicated; it suffices to consider that P(T > t) = 1 - P(T <= t) because the two events T <= t and T > t encompass every possible event (and therefore the sum of their probabilities must be 1).\n",
    "    # This means we can avoid the computation of a different integral, because the result will be 1 - y (this can be formally proved with the property that integrals are linear wrt the integration interval).\n",
    "    if (lower.tail == FALSE) {y <- (1 - y)}\n",
    "    \n",
    "    # finally we observe that if log.p is TRUE we need to return the logarithm of y instead of y itself.\n",
    "    if (log.p) {y <- log(y)}\n",
    "    \n",
    "    return(y)\n",
    "}\n",
    "\n",
    "# to obtain a properly vectorized version of the above function we only need to replace if(condition) {y <- value} with y <- ifelse(condition, value). This will make the function harder to read, though, \n",
    "# since the fact that we need to consider 3 cases makes it so that we have to nest multiple calls to ifelse.\n",
    "\n",
    "pexamtime <- function(t, lower.tail = TRUE, log.p = FALSE) {\n",
    "    # notice that if the first two checks fail then it's automatically true that t is in ]1,2[ and hence there's no need to check it --> we can omit a third ifelse.\n",
    "    y <- ifelse((t <= 1), 0, ifelse((t >= 2), 1, 6*(-t^3/3 + 3*t^2/2 - 2*t) + 5))\n",
    "    \n",
    "    if (lower.tail == FALSE) {y <- (1 - y)}\n",
    "    \n",
    "    # finally we observe that if log.p is TRUE we need to return the logarithm of y instead of y itself.\n",
    "    if (log.p) {y <- log(y)}\n",
    "    \n",
    "    return(y)\n",
    "}\n",
    "\n",
    "# numerical alternative:\n",
    "pexamtime.numerical <- function(t) {\n",
    "    # this time we numerically compute our integral, which has nontrivial values only in ]1,2[\n",
    "    f <- function(t) {ifelse((t > 1 & t < 2), 6*(t-1)*(2-t), 0)}\n",
    "    y <- ifelse((t <= 1), 0, ifelse((t >= 2), 1, ifelse(TRUE, integrate(f, 1, t)$value, NA)))\n",
    "    \n",
    "    if (lower.tail == FALSE) {y <- 1 - y}\n",
    "    if (log.p) {y <- log(y)}\n",
    "    return(y)    \n",
    "}"
   ]
  },
  {
   "cell_type": "markdown",
   "metadata": {},
   "source": [
    "Before defining the remaining two functions it's useful to plot the pdf and cdf - which we can actually do now, since we just defined them."
   ]
  },
  {
   "cell_type": "code",
   "execution_count": 102,
   "metadata": {},
   "outputs": [
    {
     "data": {
      "image/png": "[encoded data removed]",
      "text/plain": [
       "Plot with title \"Exam time duration PDF\""
      ]
     },
     "metadata": {
      "image/png": {
       "height": 420,
       "width": 420
      }
     },
     "output_type": "display_data"
    },
    {
     "data": {
      "image/png": "[encoded data removed]",
      "text/plain": [
       "Plot with title \"Exam time duration CDF\""
      ]
     },
     "metadata": {
      "image/png": {
       "height": 420,
       "width": 420
      }
     },
     "output_type": "display_data"
    }
   ],
   "source": [
    "x <- seq(from = -1, to = 3, length.out = 3000) #alternatively I can specify by = 0.001 or some similar value\n",
    "plot(dexamtime(x), type = \"b\", col = \"blue\", main = \"Exam time duration PDF\", xlab =  \"hours\", ylab = \"prob. of having an exam which lasts x hours\") #c(x[1],x[length(x)])\n",
    "plot(pexamtime(x), type = \"b\", col = \"firebrick\", main = \"Exam time duration CDF\", xlab =  \"hours\", ylab = \"prob. of having an exam which lasts t in [0,x] hours\")"
   ]
  },
  {
   "cell_type": "code",
   "execution_count": 106,
   "metadata": {},
   "outputs": [
    {
     "name": "stdout",
     "output_type": "stream",
     "text": [
      "[1] \"The scalar and vectorized exact functions are equivalent\"\n",
      "[1] \"The vectorized exact and numerical functions are equivalent\"\n"
     ]
    }
   ],
   "source": [
    "# before proceeding we check whether the 3 functions above are actually equivalent in the following way: we compute F(x) for a vector x with those 3 different functions and then compare the results with v1 == v2. \n",
    "# If every element of the resulting logical vector is true then it means the functions return the same result\n",
    "N <- 3000\n",
    "x <- seq(from = -1, to = 3, length.out = N)\n",
    "#the first function is not vectorized and hence a for loop is unavoidable\n",
    "a <- rep(0, N)\n",
    "for (i in 1:3000){\n",
    "    a[i] <- pexamtime.scalar(x[i])\n",
    "}\n",
    "b <- pexamtime(x)\n",
    "c <- pexamtime(x)\n",
    "\n",
    "if (sum(a == b) == N) {print(\"The scalar and vectorized exact functions are equivalent\")}\n",
    "if (sum(c == b) == N) {print(\"The vectorized exact and numerical functions are equivalent\")} #it's risky to use == with floats, but in this case the result is so close it works just fine"
   ]
  },
  {
   "cell_type": "markdown",
   "metadata": {},
   "source": [
    "Having plotted the CDF we are reminded that it's constant for $t\\leq 1$ and $t\\geq 2$, but we also notice a new fact: namely, the cdf is stricly monotonically increasing in $]1,2[$. These results mean that the cdf can be inverted in $]1,2[$, but not elsewhere since there the inverse would be undefined; indeed, there are infinite values of $t$ that make the cdf equal 0 or 1."
   ]
  },
  {
   "cell_type": "code",
   "execution_count": null,
   "metadata": {},
   "outputs": [],
   "source": [
    "qexamtime <- function(y, lower.tail = TRUE, log.p = FALSE) {\n",
    "    # by definition the quantile function Q(y) associated to the cdf F(x) returns the particular value of x such that F(x)=y. If F is a stricly monotonically increasing function then it holds that Q = F^-1;\n",
    "    # how does all of this relate to our problem? We notice that in ]1,2[ F satisfies this property and is therefore invertible without issues; outside of this interval F^-1 is undefined because it would map a single \n",
    "    # number to infinite values (violating the very definition of what a function is). This means that we can implement the inverse cdf as undefined i.e. equal to NA outside that interval, and equal to the inverse function\n",
    "    # inside of it.\n",
    "    \n",
    "}"
   ]
  },
  {
   "cell_type": "code",
   "execution_count": 57,
   "metadata": {},
   "outputs": [
    {
     "data": {
      "text/html": [
       "\n",
       "<table width=\"100%\" summary=\"page for Normal {stats}\"><tr><td>Normal {stats}</td><td style=\"text-align: right;\">R Documentation</td></tr></table>\n",
       "\n",
       "<h2>The Normal Distribution</h2>\n",
       "\n",
       "<h3>Description</h3>\n",
       "\n",
       "<p>Density, distribution function, quantile function and random\n",
       "generation for the normal distribution with mean equal to <code>mean</code>\n",
       "and standard deviation equal to <code>sd</code>.\n",
       "</p>\n",
       "\n",
       "\n",
       "<h3>Usage</h3>\n",
       "\n",
       "<pre>\n",
       "dnorm(x, mean = 0, sd = 1, log = FALSE)\n",
       "pnorm(q, mean = 0, sd = 1, lower.tail = TRUE, log.p = FALSE)\n",
       "qnorm(p, mean = 0, sd = 1, lower.tail = TRUE, log.p = FALSE)\n",
       "rnorm(n, mean = 0, sd = 1)\n",
       "</pre>\n",
       "\n",
       "\n",
       "<h3>Arguments</h3>\n",
       "\n",
       "<table summary=\"R argblock\">\n",
       "<tr valign=\"top\"><td><code>x, q</code></td>\n",
       "<td>\n",
       "<p>vector of quantiles.</p>\n",
       "</td></tr>\n",
       "<tr valign=\"top\"><td><code>p</code></td>\n",
       "<td>\n",
       "<p>vector of probabilities.</p>\n",
       "</td></tr>\n",
       "<tr valign=\"top\"><td><code>n</code></td>\n",
       "<td>\n",
       "<p>number of observations. If <code>length(n) &gt; 1</code>, the length\n",
       "is taken to be the number required.</p>\n",
       "</td></tr>\n",
       "<tr valign=\"top\"><td><code>mean</code></td>\n",
       "<td>\n",
       "<p>vector of means.</p>\n",
       "</td></tr>\n",
       "<tr valign=\"top\"><td><code>sd</code></td>\n",
       "<td>\n",
       "<p>vector of standard deviations.</p>\n",
       "</td></tr>\n",
       "<tr valign=\"top\"><td><code>log, log.p</code></td>\n",
       "<td>\n",
       "<p>logical; if TRUE, probabilities p are given as log(p).</p>\n",
       "</td></tr>\n",
       "<tr valign=\"top\"><td><code>lower.tail</code></td>\n",
       "<td>\n",
       "<p>logical; if TRUE (default), probabilities are\n",
       "<i>P[X &le; x]</i> otherwise, <i>P[X &gt; x]</i>.</p>\n",
       "</td></tr>\n",
       "</table>\n",
       "\n",
       "\n",
       "<h3>Details</h3>\n",
       "\n",
       "<p>If <code>mean</code> or <code>sd</code> are not specified they assume the default\n",
       "values of <code>0</code> and <code>1</code>, respectively.\n",
       "</p>\n",
       "<p>The normal distribution has density\n",
       "</p>\n",
       "<p style=\"text-align: center;\"><i>\n",
       "    f(x) = 1/(&radic;(2 &pi;) &sigma;) e^-((x - &mu;)^2/(2 &sigma;^2))\n",
       "  </i></p>\n",
       "\n",
       "<p>where <i>&mu;</i> is the mean of the distribution and\n",
       "<i>&sigma;</i> the standard deviation.\n",
       "</p>\n",
       "\n",
       "\n",
       "<h3>Value</h3>\n",
       "\n",
       "<p><code>dnorm</code> gives the density,\n",
       "<code>pnorm</code> gives the distribution function,\n",
       "<code>qnorm</code> gives the quantile function, and\n",
       "<code>rnorm</code> generates random deviates.\n",
       "</p>\n",
       "<p>The length of the result is determined by <code>n</code> for\n",
       "<code>rnorm</code>, and is the maximum of the lengths of the\n",
       "numerical arguments for the other functions.  \n",
       "</p>\n",
       "<p>The numerical arguments other than <code>n</code> are recycled to the\n",
       "length of the result.  Only the first elements of the logical\n",
       "arguments are used.\n",
       "</p>\n",
       "<p>For <code>sd = 0</code> this gives the limit as <code>sd</code> decreases to 0, a\n",
       "point mass at <code>mu</code>.\n",
       "<code>sd &lt; 0</code> is an error and returns <code>NaN</code>.\n",
       "</p>\n",
       "\n",
       "\n",
       "<h3>Source</h3>\n",
       "\n",
       "<p>For <code>pnorm</code>, based on\n",
       "</p>\n",
       "<p>Cody, W. D. (1993)\n",
       "Algorithm 715: SPECFUN &ndash; A portable FORTRAN package of special\n",
       "function routines and test drivers.\n",
       "<em>ACM Transactions on Mathematical Software</em> <b>19</b>, 22&ndash;32.\n",
       "</p>\n",
       "<p>For <code>qnorm</code>, the code is a C translation of\n",
       "</p>\n",
       "<p>Wichura, M. J. (1988)\n",
       "Algorithm AS 241: The percentage points of the normal distribution.\n",
       "<em>Applied Statistics</em>, <b>37</b>, 477&ndash;484.\n",
       "</p>\n",
       "<p>which provides precise results up to about 16 digits.\n",
       "</p>\n",
       "<p>For <code>rnorm</code>, see RNG for how to select the algorithm and\n",
       "for references to the supplied methods.\n",
       "</p>\n",
       "\n",
       "\n",
       "<h3>References</h3>\n",
       "\n",
       "<p>Becker, R. A., Chambers, J. M. and Wilks, A. R. (1988)\n",
       "<em>The New S Language</em>.\n",
       "Wadsworth &amp; Brooks/Cole.\n",
       "</p>\n",
       "<p>Johnson, N. L., Kotz, S. and Balakrishnan, N. (1995)\n",
       "<em>Continuous Univariate Distributions</em>, volume 1, chapter 13.\n",
       "Wiley, New York.\n",
       "</p>\n",
       "\n",
       "\n",
       "<h3>See Also</h3>\n",
       "\n",
       "<p>Distributions for other standard distributions, including\n",
       "<code>dlnorm</code> for the <em>Log</em>normal distribution.\n",
       "</p>\n",
       "\n",
       "\n",
       "<h3>Examples</h3>\n",
       "\n",
       "<pre>\n",
       "require(graphics)\n",
       "\n",
       "dnorm(0) == 1/sqrt(2*pi)\n",
       "dnorm(1) == exp(-1/2)/sqrt(2*pi)\n",
       "dnorm(1) == 1/sqrt(2*pi*exp(1))\n",
       "\n",
       "## Using \"log = TRUE\" for an extended range :\n",
       "par(mfrow = c(2,1))\n",
       "plot(function(x) dnorm(x, log = TRUE), -60, 50,\n",
       "     main = \"log { Normal density }\")\n",
       "curve(log(dnorm(x)), add = TRUE, col = \"red\", lwd = 2)\n",
       "mtext(\"dnorm(x, log=TRUE)\", adj = 0)\n",
       "mtext(\"log(dnorm(x))\", col = \"red\", adj = 1)\n",
       "\n",
       "plot(function(x) pnorm(x, log.p = TRUE), -50, 10,\n",
       "     main = \"log { Normal Cumulative }\")\n",
       "curve(log(pnorm(x)), add = TRUE, col = \"red\", lwd = 2)\n",
       "mtext(\"pnorm(x, log=TRUE)\", adj = 0)\n",
       "mtext(\"log(pnorm(x))\", col = \"red\", adj = 1)\n",
       "\n",
       "## if you want the so-called 'error function'\n",
       "erf &lt;- function(x) 2 * pnorm(x * sqrt(2)) - 1\n",
       "## (see Abramowitz and Stegun 29.2.29)\n",
       "## and the so-called 'complementary error function'\n",
       "erfc &lt;- function(x) 2 * pnorm(x * sqrt(2), lower = FALSE)\n",
       "## and the inverses\n",
       "erfinv &lt;- function (x) qnorm((1 + x)/2)/sqrt(2)\n",
       "erfcinv &lt;- function (x) qnorm(x/2, lower = FALSE)/sqrt(2)\n",
       "</pre>\n",
       "\n",
       "<hr /><div style=\"text-align: center;\">[Package <em>stats</em> version 4.0.4 ]</div>"
      ],
      "text/latex": [
       "\\inputencoding{utf8}\n",
       "\\HeaderA{Normal}{The Normal Distribution}{Normal}\n",
       "\\aliasA{dnorm}{Normal}{dnorm}\n",
       "\\aliasA{pnorm}{Normal}{pnorm}\n",
       "\\aliasA{qnorm}{Normal}{qnorm}\n",
       "\\aliasA{rnorm}{Normal}{rnorm}\n",
       "\\keyword{error function}{Normal}\n",
       "\\keyword{erf}{Normal}\n",
       "\\keyword{erfc}{Normal}\n",
       "\\keyword{erfinv}{Normal}\n",
       "\\keyword{erfcinv}{Normal}\n",
       "\\keyword{distribution}{Normal}\n",
       "%\n",
       "\\begin{Description}\\relax\n",
       "Density, distribution function, quantile function and random\n",
       "generation for the normal distribution with mean equal to \\code{mean}\n",
       "and standard deviation equal to \\code{sd}.\n",
       "\\end{Description}\n",
       "%\n",
       "\\begin{Usage}\n",
       "\\begin{verbatim}\n",
       "dnorm(x, mean = 0, sd = 1, log = FALSE)\n",
       "pnorm(q, mean = 0, sd = 1, lower.tail = TRUE, log.p = FALSE)\n",
       "qnorm(p, mean = 0, sd = 1, lower.tail = TRUE, log.p = FALSE)\n",
       "rnorm(n, mean = 0, sd = 1)\n",
       "\\end{verbatim}\n",
       "\\end{Usage}\n",
       "%\n",
       "\\begin{Arguments}\n",
       "\\begin{ldescription}\n",
       "\\item[\\code{x, q}] vector of quantiles.\n",
       "\\item[\\code{p}] vector of probabilities.\n",
       "\\item[\\code{n}] number of observations. If \\code{length(n) > 1}, the length\n",
       "is taken to be the number required.\n",
       "\\item[\\code{mean}] vector of means.\n",
       "\\item[\\code{sd}] vector of standard deviations.\n",
       "\\item[\\code{log, log.p}] logical; if TRUE, probabilities p are given as log(p).\n",
       "\\item[\\code{lower.tail}] logical; if TRUE (default), probabilities are\n",
       "\\eqn{P[X \\le x]}{} otherwise, \\eqn{P[X > x]}{}.\n",
       "\\end{ldescription}\n",
       "\\end{Arguments}\n",
       "%\n",
       "\\begin{Details}\\relax\n",
       "If \\code{mean} or \\code{sd} are not specified they assume the default\n",
       "values of \\code{0} and \\code{1}, respectively.\n",
       "\n",
       "The normal distribution has density\n",
       "\\deqn{\n",
       "    f(x) =\n",
       "    \\frac{1}{\\sqrt{2\\pi}\\sigma} e^{-(x-\\mu)^2/2\\sigma^2}}{}\n",
       "where \\eqn{\\mu}{} is the mean of the distribution and\n",
       "\\eqn{\\sigma}{} the standard deviation.\n",
       "\\end{Details}\n",
       "%\n",
       "\\begin{Value}\n",
       "\\code{dnorm} gives the density,\n",
       "\\code{pnorm} gives the distribution function,\n",
       "\\code{qnorm} gives the quantile function, and\n",
       "\\code{rnorm} generates random deviates.\n",
       "\n",
       "The length of the result is determined by \\code{n} for\n",
       "\\code{rnorm}, and is the maximum of the lengths of the\n",
       "numerical arguments for the other functions.  \n",
       "\n",
       "The numerical arguments other than \\code{n} are recycled to the\n",
       "length of the result.  Only the first elements of the logical\n",
       "arguments are used.\n",
       "\n",
       "For \\code{sd = 0} this gives the limit as \\code{sd} decreases to 0, a\n",
       "point mass at \\code{mu}.\n",
       "\\code{sd < 0} is an error and returns \\code{NaN}.\n",
       "\\end{Value}\n",
       "%\n",
       "\\begin{Source}\\relax\n",
       "For \\code{pnorm}, based on\n",
       "\n",
       "Cody, W. D. (1993)\n",
       "Algorithm 715: SPECFUN -- A portable FORTRAN package of special\n",
       "function routines and test drivers.\n",
       "\\emph{ACM Transactions on Mathematical Software} \\bold{19}, 22--32.\n",
       "\n",
       "For \\code{qnorm}, the code is a C translation of\n",
       "\n",
       "Wichura, M. J. (1988)\n",
       "Algorithm AS 241: The percentage points of the normal distribution.\n",
       "\\emph{Applied Statistics}, \\bold{37}, 477--484.\n",
       "\n",
       "which provides precise results up to about 16 digits.\n",
       "\n",
       "For \\code{rnorm}, see \\LinkA{RNG}{RNG} for how to select the algorithm and\n",
       "for references to the supplied methods.\n",
       "\\end{Source}\n",
       "%\n",
       "\\begin{References}\\relax\n",
       "Becker, R. A., Chambers, J. M. and Wilks, A. R. (1988)\n",
       "\\emph{The New S Language}.\n",
       "Wadsworth \\& Brooks/Cole.\n",
       "\n",
       "Johnson, N. L., Kotz, S. and Balakrishnan, N. (1995)\n",
       "\\emph{Continuous Univariate Distributions}, volume 1, chapter 13.\n",
       "Wiley, New York.\n",
       "\\end{References}\n",
       "%\n",
       "\\begin{SeeAlso}\\relax\n",
       "\\LinkA{Distributions}{Distributions} for other standard distributions, including\n",
       "\\code{\\LinkA{dlnorm}{dlnorm}} for the \\emph{Log}normal distribution.\n",
       "\\end{SeeAlso}\n",
       "%\n",
       "\\begin{Examples}\n",
       "\\begin{ExampleCode}\n",
       "require(graphics)\n",
       "\n",
       "dnorm(0) == 1/sqrt(2*pi)\n",
       "dnorm(1) == exp(-1/2)/sqrt(2*pi)\n",
       "dnorm(1) == 1/sqrt(2*pi*exp(1))\n",
       "\n",
       "## Using \"log = TRUE\" for an extended range :\n",
       "par(mfrow = c(2,1))\n",
       "plot(function(x) dnorm(x, log = TRUE), -60, 50,\n",
       "     main = \"log { Normal density }\")\n",
       "curve(log(dnorm(x)), add = TRUE, col = \"red\", lwd = 2)\n",
       "mtext(\"dnorm(x, log=TRUE)\", adj = 0)\n",
       "mtext(\"log(dnorm(x))\", col = \"red\", adj = 1)\n",
       "\n",
       "plot(function(x) pnorm(x, log.p = TRUE), -50, 10,\n",
       "     main = \"log { Normal Cumulative }\")\n",
       "curve(log(pnorm(x)), add = TRUE, col = \"red\", lwd = 2)\n",
       "mtext(\"pnorm(x, log=TRUE)\", adj = 0)\n",
       "mtext(\"log(pnorm(x))\", col = \"red\", adj = 1)\n",
       "\n",
       "## if you want the so-called 'error function'\n",
       "erf <- function(x) 2 * pnorm(x * sqrt(2)) - 1\n",
       "## (see Abramowitz and Stegun 29.2.29)\n",
       "## and the so-called 'complementary error function'\n",
       "erfc <- function(x) 2 * pnorm(x * sqrt(2), lower = FALSE)\n",
       "## and the inverses\n",
       "erfinv <- function (x) qnorm((1 + x)/2)/sqrt(2)\n",
       "erfcinv <- function (x) qnorm(x/2, lower = FALSE)/sqrt(2)\n",
       "\\end{ExampleCode}\n",
       "\\end{Examples}"
      ],
      "text/plain": [
       "Normal                  package:stats                  R Documentation\n",
       "\n",
       "_\bT_\bh_\be _\bN_\bo_\br_\bm_\ba_\bl _\bD_\bi_\bs_\bt_\br_\bi_\bb_\bu_\bt_\bi_\bo_\bn\n",
       "\n",
       "_\bD_\be_\bs_\bc_\br_\bi_\bp_\bt_\bi_\bo_\bn:\n",
       "\n",
       "     Density, distribution function, quantile function and random\n",
       "     generation for the normal distribution with mean equal to 'mean'\n",
       "     and standard deviation equal to 'sd'.\n",
       "\n",
       "_\bU_\bs_\ba_\bg_\be:\n",
       "\n",
       "     dnorm(x, mean = 0, sd = 1, log = FALSE)\n",
       "     pnorm(q, mean = 0, sd = 1, lower.tail = TRUE, log.p = FALSE)\n",
       "     qnorm(p, mean = 0, sd = 1, lower.tail = TRUE, log.p = FALSE)\n",
       "     rnorm(n, mean = 0, sd = 1)\n",
       "     \n",
       "_\bA_\br_\bg_\bu_\bm_\be_\bn_\bt_\bs:\n",
       "\n",
       "    x, q: vector of quantiles.\n",
       "\n",
       "       p: vector of probabilities.\n",
       "\n",
       "       n: number of observations. If 'length(n) > 1', the length is\n",
       "          taken to be the number required.\n",
       "\n",
       "    mean: vector of means.\n",
       "\n",
       "      sd: vector of standard deviations.\n",
       "\n",
       "log, log.p: logical; if TRUE, probabilities p are given as log(p).\n",
       "\n",
       "lower.tail: logical; if TRUE (default), probabilities are P[X <= x]\n",
       "          otherwise, P[X > x].\n",
       "\n",
       "_\bD_\be_\bt_\ba_\bi_\bl_\bs:\n",
       "\n",
       "     If 'mean' or 'sd' are not specified they assume the default values\n",
       "     of '0' and '1', respectively.\n",
       "\n",
       "     The normal distribution has density\n",
       "\n",
       "            f(x) = 1/(sqrt(2 pi) sigma) e^-((x - mu)^2/(2 sigma^2))     \n",
       "     \n",
       "     where mu is the mean of the distribution and sigma the standard\n",
       "     deviation.\n",
       "\n",
       "_\bV_\ba_\bl_\bu_\be:\n",
       "\n",
       "     'dnorm' gives the density, 'pnorm' gives the distribution\n",
       "     function, 'qnorm' gives the quantile function, and 'rnorm'\n",
       "     generates random deviates.\n",
       "\n",
       "     The length of the result is determined by 'n' for 'rnorm', and is\n",
       "     the maximum of the lengths of the numerical arguments for the\n",
       "     other functions.\n",
       "\n",
       "     The numerical arguments other than 'n' are recycled to the length\n",
       "     of the result.  Only the first elements of the logical arguments\n",
       "     are used.\n",
       "\n",
       "     For 'sd = 0' this gives the limit as 'sd' decreases to 0, a point\n",
       "     mass at 'mu'.  'sd < 0' is an error and returns 'NaN'.\n",
       "\n",
       "_\bS_\bo_\bu_\br_\bc_\be:\n",
       "\n",
       "     For 'pnorm', based on\n",
       "\n",
       "     Cody, W. D. (1993) Algorithm 715: SPECFUN - A portable FORTRAN\n",
       "     package of special function routines and test drivers.  _ACM\n",
       "     Transactions on Mathematical Software_ *19*, 22-32.\n",
       "\n",
       "     For 'qnorm', the code is a C translation of\n",
       "\n",
       "     Wichura, M. J. (1988) Algorithm AS 241: The percentage points of\n",
       "     the normal distribution.  _Applied Statistics_, *37*, 477-484.\n",
       "\n",
       "     which provides precise results up to about 16 digits.\n",
       "\n",
       "     For 'rnorm', see RNG for how to select the algorithm and for\n",
       "     references to the supplied methods.\n",
       "\n",
       "_\bR_\be_\bf_\be_\br_\be_\bn_\bc_\be_\bs:\n",
       "\n",
       "     Becker, R. A., Chambers, J. M. and Wilks, A. R. (1988) _The New S\n",
       "     Language_.  Wadsworth & Brooks/Cole.\n",
       "\n",
       "     Johnson, N. L., Kotz, S. and Balakrishnan, N. (1995) _Continuous\n",
       "     Univariate Distributions_, volume 1, chapter 13.  Wiley, New York.\n",
       "\n",
       "_\bS_\be_\be _\bA_\bl_\bs_\bo:\n",
       "\n",
       "     Distributions for other standard distributions, including 'dlnorm'\n",
       "     for the _Log_normal distribution.\n",
       "\n",
       "_\bE_\bx_\ba_\bm_\bp_\bl_\be_\bs:\n",
       "\n",
       "     require(graphics)\n",
       "     \n",
       "     dnorm(0) == 1/sqrt(2*pi)\n",
       "     dnorm(1) == exp(-1/2)/sqrt(2*pi)\n",
       "     dnorm(1) == 1/sqrt(2*pi*exp(1))\n",
       "     \n",
       "     ## Using \"log = TRUE\" for an extended range :\n",
       "     par(mfrow = c(2,1))\n",
       "     plot(function(x) dnorm(x, log = TRUE), -60, 50,\n",
       "          main = \"log { Normal density }\")\n",
       "     curve(log(dnorm(x)), add = TRUE, col = \"red\", lwd = 2)\n",
       "     mtext(\"dnorm(x, log=TRUE)\", adj = 0)\n",
       "     mtext(\"log(dnorm(x))\", col = \"red\", adj = 1)\n",
       "     \n",
       "     plot(function(x) pnorm(x, log.p = TRUE), -50, 10,\n",
       "          main = \"log { Normal Cumulative }\")\n",
       "     curve(log(pnorm(x)), add = TRUE, col = \"red\", lwd = 2)\n",
       "     mtext(\"pnorm(x, log=TRUE)\", adj = 0)\n",
       "     mtext(\"log(pnorm(x))\", col = \"red\", adj = 1)\n",
       "     \n",
       "     ## if you want the so-called 'error function'\n",
       "     erf <- function(x) 2 * pnorm(x * sqrt(2)) - 1\n",
       "     ## (see Abramowitz and Stegun 29.2.29)\n",
       "     ## and the so-called 'complementary error function'\n",
       "     erfc <- function(x) 2 * pnorm(x * sqrt(2), lower = FALSE)\n",
       "     ## and the inverses\n",
       "     erfinv <- function (x) qnorm((1 + x)/2)/sqrt(2)\n",
       "     erfcinv <- function (x) qnorm(x/2, lower = FALSE)/sqrt(2)\n",
       "     "
      ]
     },
     "metadata": {},
     "output_type": "display_data"
    }
   ],
   "source": [
    "?pnorm"
   ]
  },
  {
   "cell_type": "markdown",
   "metadata": {},
   "source": [
    "## 5.3: computation of some probabilities"
   ]
  },
  {
   "cell_type": "markdown",
   "metadata": {},
   "source": [
    "# Exercise 6: lifetime of a tire"
   ]
  },
  {
   "cell_type": "code",
   "execution_count": null,
   "metadata": {},
   "outputs": [],
   "source": []
  }
 ],
 "metadata": {
  "kernelspec": {
   "display_name": "R",
   "language": "R",
   "name": "ir"
  },
  "language_info": {
   "codemirror_mode": "r",
   "file_extension": ".r",
   "mimetype": "text/x-r-source",
   "name": "R",
   "pygments_lexer": "r",
   "version": "4.0.4"
  }
 },
 "nbformat": 4,
 "nbformat_minor": 4
}
