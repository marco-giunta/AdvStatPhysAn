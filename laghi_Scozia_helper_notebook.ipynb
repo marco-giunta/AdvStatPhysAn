{
 "metadata": {
  "language_info": {
   "codemirror_mode": {
    "name": "ipython",
    "version": 3
   },
   "file_extension": ".py",
   "mimetype": "text/x-python",
   "name": "python",
   "nbconvert_exporter": "python",
   "pygments_lexer": "ipython3",
   "version": "3.8.6-final"
  },
  "orig_nbformat": 2,
  "kernelspec": {
   "name": "python3",
   "display_name": "Python 3.8.6 64-bit",
   "metadata": {
    "interpreter": {
     "hash": "ee88be44bc3274d7c6b6e239e9e0732728edb7bdf897f4f20d61067664e88332"
    }
   }
  }
 },
 "nbformat": 4,
 "nbformat_minor": 2,
 "cells": [
  {
   "cell_type": "code",
   "execution_count": 29,
   "metadata": {},
   "outputs": [],
   "source": [
    "import pandas as pd\n",
    "import os"
   ]
  },
  {
   "cell_type": "code",
   "execution_count": 30,
   "metadata": {},
   "outputs": [
    {
     "output_type": "display_data",
     "data": {
      "text/plain": "       Loch  Volume  Area  Length  Max-depth  Mean-depth\n0      Ness    7.45  56.0    39.0        230       132.0\n1    Lomond    2.60  71.0    36.0        190        37.0\n2     Morar    2.30  27.0    18.8        310        87.0\n3       Tay    1.60  26.4    23.0        150        60.6\n4       Awe    1.20  39.0    41.0         94        32.0\n5     Maree    1.09  28.6    20.0        114        38.0\n6    Ericht    1.08  18.6    23.0        156        57.6\n7     Lochy    1.07  16.0    16.0        162        70.0\n8   Rannoch    0.97  19.0    15.7        134        51.0\n9     Shiel    0.79  19.5    28.0        128        40.0\n10  Katrine    0.77  12.4    12.9        151        43.4\n11   Arkaig    0.75  16.0    19.3        109        46.5\n12     Shin    0.35  22.5    27.8         49        15.5",
      "text/html": "<div>\n<style scoped>\n    .dataframe tbody tr th:only-of-type {\n        vertical-align: middle;\n    }\n\n    .dataframe tbody tr th {\n        vertical-align: top;\n    }\n\n    .dataframe thead th {\n        text-align: right;\n    }\n</style>\n<table border=\"1\" class=\"dataframe\">\n  <thead>\n    <tr style=\"text-align: right;\">\n      <th></th>\n      <th>Loch</th>\n      <th>Volume</th>\n      <th>Area</th>\n      <th>Length</th>\n      <th>Max-depth</th>\n      <th>Mean-depth</th>\n    </tr>\n  </thead>\n  <tbody>\n    <tr>\n      <th>0</th>\n      <td>Ness</td>\n      <td>7.45</td>\n      <td>56.0</td>\n      <td>39.0</td>\n      <td>230</td>\n      <td>132.0</td>\n    </tr>\n    <tr>\n      <th>1</th>\n      <td>Lomond</td>\n      <td>2.60</td>\n      <td>71.0</td>\n      <td>36.0</td>\n      <td>190</td>\n      <td>37.0</td>\n    </tr>\n    <tr>\n      <th>2</th>\n      <td>Morar</td>\n      <td>2.30</td>\n      <td>27.0</td>\n      <td>18.8</td>\n      <td>310</td>\n      <td>87.0</td>\n    </tr>\n    <tr>\n      <th>3</th>\n      <td>Tay</td>\n      <td>1.60</td>\n      <td>26.4</td>\n      <td>23.0</td>\n      <td>150</td>\n      <td>60.6</td>\n    </tr>\n    <tr>\n      <th>4</th>\n      <td>Awe</td>\n      <td>1.20</td>\n      <td>39.0</td>\n      <td>41.0</td>\n      <td>94</td>\n      <td>32.0</td>\n    </tr>\n    <tr>\n      <th>5</th>\n      <td>Maree</td>\n      <td>1.09</td>\n      <td>28.6</td>\n      <td>20.0</td>\n      <td>114</td>\n      <td>38.0</td>\n    </tr>\n    <tr>\n      <th>6</th>\n      <td>Ericht</td>\n      <td>1.08</td>\n      <td>18.6</td>\n      <td>23.0</td>\n      <td>156</td>\n      <td>57.6</td>\n    </tr>\n    <tr>\n      <th>7</th>\n      <td>Lochy</td>\n      <td>1.07</td>\n      <td>16.0</td>\n      <td>16.0</td>\n      <td>162</td>\n      <td>70.0</td>\n    </tr>\n    <tr>\n      <th>8</th>\n      <td>Rannoch</td>\n      <td>0.97</td>\n      <td>19.0</td>\n      <td>15.7</td>\n      <td>134</td>\n      <td>51.0</td>\n    </tr>\n    <tr>\n      <th>9</th>\n      <td>Shiel</td>\n      <td>0.79</td>\n      <td>19.5</td>\n      <td>28.0</td>\n      <td>128</td>\n      <td>40.0</td>\n    </tr>\n    <tr>\n      <th>10</th>\n      <td>Katrine</td>\n      <td>0.77</td>\n      <td>12.4</td>\n      <td>12.9</td>\n      <td>151</td>\n      <td>43.4</td>\n    </tr>\n    <tr>\n      <th>11</th>\n      <td>Arkaig</td>\n      <td>0.75</td>\n      <td>16.0</td>\n      <td>19.3</td>\n      <td>109</td>\n      <td>46.5</td>\n    </tr>\n    <tr>\n      <th>12</th>\n      <td>Shin</td>\n      <td>0.35</td>\n      <td>22.5</td>\n      <td>27.8</td>\n      <td>49</td>\n      <td>15.5</td>\n    </tr>\n  </tbody>\n</table>\n</div>"
     },
     "metadata": {}
    }
   ],
   "source": [
    "if not os.path.exists(\"laghi_Scozia.txt\") :\n",
    "    s = \"\"\"Loch Volume Area Length Max-depth Mean-depth\n",
    "Loch Ness 7.45 56 39 230 132\n",
    "Loch Lomond 2.6 71 36 190 37\n",
    "Loch Morar 2.3 27 18.8 310 87\n",
    "Loch Tay 1.6 26.4 23 150 60.6\n",
    "Loch Awe 1.2 39 41 94 32\n",
    "Loch Maree 1.09 28.6 20 114 38\n",
    "Loch Ericht 1.08 18.6 23 156 57.6\n",
    "Loch Lochy 1.07 16 16 162 70\n",
    "Loch Rannoch 0.97 19 15.7 134 51\n",
    "Loch Shiel 0.79 19.5 28 128 40\n",
    "Loch Katrine 0.77 12.4 12.9 151 43.4\n",
    "Loch Arkaig 0.75 16 19.3 109 46.5\n",
    "Loch Shin 0.35 22.5 27.8 49 15.5\"\"\"\n",
    "\n",
    "    with open(\"laghi_Scozia.txt\",\"w\") as fh :\n",
    "        fh.write(s)\n",
    "\n",
    "df = pd.read_csv(\"laghi_Scozia.txt\", sep=\" \")\n",
    "df = df.reset_index(drop=True)\n",
    "display(df)"
   ]
  },
  {
   "cell_type": "code",
   "execution_count": 31,
   "metadata": {},
   "outputs": [],
   "source": [
    "for i in range(1,df.shape[1]) :\n",
    "    df1 = df[[df.columns[0],df.columns[i]]]\n",
    "    #display(df1)\n",
    "    df1.to_csv(df.columns[i]+\".csv\", index=None)"
   ]
  },
  {
   "cell_type": "code",
   "execution_count": 35,
   "metadata": {},
   "outputs": [
    {
     "output_type": "execute_result",
     "data": {
      "text/plain": [
       "372.0"
      ]
     },
     "metadata": {},
     "execution_count": 35
    }
   ],
   "source": [
    "df.Area.sum()"
   ]
  },
  {
   "cell_type": "code",
   "execution_count": 45,
   "metadata": {},
   "outputs": [
    {
     "output_type": "display_data",
     "data": {
      "text/plain": "    Entity      Code  Year   OilPrice\n0    World  OWID_WRL  1861   0.490000\n1    World  OWID_WRL  1862   1.050000\n2    World  OWID_WRL  1863   3.150000\n3    World  OWID_WRL  1864   8.060000\n4    World  OWID_WRL  1865   6.590000\n..     ...       ...   ...        ...\n154  World  OWID_WRL  2015  52.386759\n155  World  OWID_WRL  2016  43.734170\n156  World  OWID_WRL  2017  54.192440\n157  World  OWID_WRL  2018  71.310060\n158  World  OWID_WRL  2019  64.210573\n\n[159 rows x 4 columns]",
      "text/html": "<div>\n<style scoped>\n    .dataframe tbody tr th:only-of-type {\n        vertical-align: middle;\n    }\n\n    .dataframe tbody tr th {\n        vertical-align: top;\n    }\n\n    .dataframe thead th {\n        text-align: right;\n    }\n</style>\n<table border=\"1\" class=\"dataframe\">\n  <thead>\n    <tr style=\"text-align: right;\">\n      <th></th>\n      <th>Entity</th>\n      <th>Code</th>\n      <th>Year</th>\n      <th>OilPrice</th>\n    </tr>\n  </thead>\n  <tbody>\n    <tr>\n      <th>0</th>\n      <td>World</td>\n      <td>OWID_WRL</td>\n      <td>1861</td>\n      <td>0.490000</td>\n    </tr>\n    <tr>\n      <th>1</th>\n      <td>World</td>\n      <td>OWID_WRL</td>\n      <td>1862</td>\n      <td>1.050000</td>\n    </tr>\n    <tr>\n      <th>2</th>\n      <td>World</td>\n      <td>OWID_WRL</td>\n      <td>1863</td>\n      <td>3.150000</td>\n    </tr>\n    <tr>\n      <th>3</th>\n      <td>World</td>\n      <td>OWID_WRL</td>\n      <td>1864</td>\n      <td>8.060000</td>\n    </tr>\n    <tr>\n      <th>4</th>\n      <td>World</td>\n      <td>OWID_WRL</td>\n      <td>1865</td>\n      <td>6.590000</td>\n    </tr>\n    <tr>\n      <th>...</th>\n      <td>...</td>\n      <td>...</td>\n      <td>...</td>\n      <td>...</td>\n    </tr>\n    <tr>\n      <th>154</th>\n      <td>World</td>\n      <td>OWID_WRL</td>\n      <td>2015</td>\n      <td>52.386759</td>\n    </tr>\n    <tr>\n      <th>155</th>\n      <td>World</td>\n      <td>OWID_WRL</td>\n      <td>2016</td>\n      <td>43.734170</td>\n    </tr>\n    <tr>\n      <th>156</th>\n      <td>World</td>\n      <td>OWID_WRL</td>\n      <td>2017</td>\n      <td>54.192440</td>\n    </tr>\n    <tr>\n      <th>157</th>\n      <td>World</td>\n      <td>OWID_WRL</td>\n      <td>2018</td>\n      <td>71.310060</td>\n    </tr>\n    <tr>\n      <th>158</th>\n      <td>World</td>\n      <td>OWID_WRL</td>\n      <td>2019</td>\n      <td>64.210573</td>\n    </tr>\n  </tbody>\n</table>\n<p>159 rows × 4 columns</p>\n</div>"
     },
     "metadata": {}
    }
   ],
   "source": [
    "url = \"https://drive.google.com/file/d/1cUQ8d0kDOw2lmzMAHIPglpdcnHy4GgF3/view\"\n",
    "url = \"https://drive.google.com/u/0/uc?id=1cUQ8d0kDOw2lmzMAHIPglpdcnHy4GgF3&export=download\"\n",
    "df2 = pd.read_csv(url, skiprows=1)\n",
    "display(df2)"
   ]
  },
  {
   "cell_type": "code",
   "execution_count": 49,
   "metadata": {},
   "outputs": [
    {
     "output_type": "execute_result",
     "data": {
      "text/plain": [
       "Entity\n",
       "Afghanistan       117\n",
       "Africa            104\n",
       "Albania           117\n",
       "Algeria            65\n",
       "American Samoa     37\n",
       "                 ... \n",
       "Western Sahara     37\n",
       "World              39\n",
       "Yugoslavia         92\n",
       "Zambia             95\n",
       "Zimbabwe          120\n",
       "Name: Year, Length: 200, dtype: int64"
      ]
     },
     "metadata": {},
     "execution_count": 49
    }
   ],
   "source": [
    "url = \"https://drive.google.com/u/0/uc?id=10kgRQGKEC81QoVW9kj8goNzzyLcT0xld&export=download\"\n",
    "df = pd.read_csv(url)\n",
    "#display(df)\n",
    "df.groupby(\"Entity\",group_keys=False).nunique().Year"
   ]
  },
  {
   "cell_type": "code",
   "execution_count": 53,
   "metadata": {},
   "outputs": [
    {
     "output_type": "execute_result",
     "data": {
      "text/plain": [
       "Entity\n",
       "Afghanistan       117\n",
       "Africa            104\n",
       "Albania           117\n",
       "Algeria            65\n",
       "American Samoa     37\n",
       "                 ... \n",
       "Western Sahara     37\n",
       "World              39\n",
       "Yugoslavia         92\n",
       "Zambia             95\n",
       "Zimbabwe          120\n",
       "Name: Year, Length: 200, dtype: int64"
      ]
     },
     "metadata": {},
     "execution_count": 53
    }
   ],
   "source": [
    "#one liner\n",
    "pd.read_csv(url).groupby(\"Entity\").nunique().Year"
   ]
  }
 ]
}