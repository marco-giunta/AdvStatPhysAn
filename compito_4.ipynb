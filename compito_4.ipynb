{
 "cells": [
  {
   "cell_type": "markdown",
   "id": "096f66d1-d545-474b-ab3c-8b0dc9654b18",
   "metadata": {},
   "source": [
    "# name: Marco Giunta\n",
    "## Rlab04"
   ]
  },
  {
   "cell_type": "code",
   "execution_count": 7,
   "id": "cc4baff1-eb9a-409a-a85f-323920da5e1c",
   "metadata": {},
   "outputs": [
    {
     "name": "stderr",
     "output_type": "stream",
     "text": [
      "-- \u001b[1mAttaching packages\u001b[22m ------------------------------------------------------------------------------- tidyverse 1.3.1 --\n",
      "\n",
      "\u001b[32mv\u001b[39m \u001b[34mggplot2\u001b[39m 3.3.3     \u001b[32mv\u001b[39m \u001b[34mpurrr  \u001b[39m 0.3.4\n",
      "\u001b[32mv\u001b[39m \u001b[34mtibble \u001b[39m 3.1.0     \u001b[32mv\u001b[39m \u001b[34mdplyr  \u001b[39m 1.0.5\n",
      "\u001b[32mv\u001b[39m \u001b[34mtidyr  \u001b[39m 1.1.3     \u001b[32mv\u001b[39m \u001b[34mstringr\u001b[39m 1.4.0\n",
      "\u001b[32mv\u001b[39m \u001b[34mreadr  \u001b[39m 1.4.0     \u001b[32mv\u001b[39m \u001b[34mforcats\u001b[39m 0.5.1\n",
      "\n",
      "-- \u001b[1mConflicts\u001b[22m ---------------------------------------------------------------------------------- tidyverse_conflicts() --\n",
      "\u001b[31mx\u001b[39m \u001b[34mdplyr\u001b[39m::\u001b[32mfilter()\u001b[39m masks \u001b[34mstats\u001b[39m::filter()\n",
      "\u001b[31mx\u001b[39m \u001b[34mdplyr\u001b[39m::\u001b[32mlag()\u001b[39m    masks \u001b[34mstats\u001b[39m::lag()\n",
      "\n"
     ]
    }
   ],
   "source": [
    "library(tidyverse)"
   ]
  },
  {
   "cell_type": "markdown",
   "id": "f813999d-3dcc-4ca5-bcbc-65ba3b0d0bfb",
   "metadata": {},
   "source": [
    "# Exercise 1: six boxes toy model - inference (i.e. with user input)"
   ]
  },
  {
   "cell_type": "code",
   "execution_count": 4,
   "id": "16dcb246-5063-4001-b158-fb2122426103",
   "metadata": {},
   "outputs": [
    {
     "name": "stdin",
     "output_type": "stream",
     "text": [
      "dammi un numero 22\n"
     ]
    },
    {
     "name": "stdout",
     "output_type": "stream",
     "text": [
      "[1] \"22\"\n"
     ]
    }
   ],
   "source": [
    "x <- readline(prompt = \"dammi un numero\")\n",
    "print(x)"
   ]
  },
  {
   "cell_type": "code",
   "execution_count": 122,
   "id": "d63a3daa-2ff2-41d0-9b45-69022151d137",
   "metadata": {},
   "outputs": [],
   "source": [
    "#compute.evidence <- function(prior, data) return (sum((abs(data - 0:5/5))*prior))\n",
    "\n",
    "compute.posterior <- function(prior, data) { # B.T.\n",
    "    likelihood <- abs(data - 0:5/5)\n",
    "    likelihood.times.prior <- likelihood*prior\n",
    "    evidence <- sum(likelihood.times.prior)\n",
    "    posterior <- likelihood.times.prior/evidence\n",
    "    return (posterior)\n",
    "}"
   ]
  },
  {
   "cell_type": "code",
   "execution_count": 2,
   "id": "f0de4deb-311f-41df-a77f-afc19fb045f6",
   "metadata": {},
   "outputs": [],
   "source": [
    "get.user.input <- function() {\n",
    "    input <- readline(prompt = 'enter extracted color (\"w\" or \"b\") or \"stop\" ')\n",
    "    if (input == \"w\") x <- 0\n",
    "    else {\n",
    "        if (input == \"b\") x <- 1\n",
    "        else x <- NA\n",
    "    }\n",
    "    if (input == \"stop\") proceed <- FALSE\n",
    "    else proceed <- TRUE\n",
    "    \n",
    "    return (c(x, proceed))\n",
    "}"
   ]
  },
  {
   "cell_type": "code",
   "execution_count": 132,
   "id": "0e57d61f-949f-4578-9315-04a9508dc4b8",
   "metadata": {},
   "outputs": [],
   "source": [
    "plot.posterior <- function(posterior, index) {\n",
    "    df.ggplot <- data.frame(0:5, posterior)\n",
    "    names(df.ggplot) <- c(\"hypothesis\", \"posterior\")\n",
    "    ggplot(data = df.ggplot, aes(x = hypothesis, y = posterior)) + geom_point() + geom_line() + ggtitle(sprintf(\"Extraction n. %d\", index))\n",
    "}"
   ]
  },
  {
   "cell_type": "code",
   "execution_count": 140,
   "id": "19f9077d-b117-4345-8d81-82a1f8ccfd8a",
   "metadata": {},
   "outputs": [
    {
     "name": "stdin",
     "output_type": "stream",
     "text": [
      "enter extracted color (\"w\" or \"b\") or \"stop\" b\n"
     ]
    },
    {
     "name": "stdout",
     "output_type": "stream",
     "text": [
      "[1] \"running posterior:\"\n",
      "        H0         H1         H2         H3         H4         H5 \n",
      "0.33333333 0.26666667 0.20000000 0.13333333 0.06666667 0.00000000 \n"
     ]
    },
    {
     "name": "stdin",
     "output_type": "stream",
     "text": [
      "enter extracted color (\"w\" or \"b\") or \"stop\" b\n"
     ]
    },
    {
     "name": "stdout",
     "output_type": "stream",
     "text": [
      "[1] \"running posterior:\"\n",
      "        H0         H1         H2         H3         H4         H5 \n",
      "0.45454545 0.29090909 0.16363636 0.07272727 0.01818182 0.00000000 \n"
     ]
    },
    {
     "name": "stdin",
     "output_type": "stream",
     "text": [
      "enter extracted color (\"w\" or \"b\") or \"stop\" b\n"
     ]
    },
    {
     "name": "stdout",
     "output_type": "stream",
     "text": [
      "[1] \"running posterior:\"\n",
      "         H0          H1          H2          H3          H4          H5 \n",
      "0.555555556 0.284444444 0.120000000 0.035555556 0.004444444 0.000000000 \n"
     ]
    },
    {
     "name": "stdin",
     "output_type": "stream",
     "text": [
      "enter extracted color (\"w\" or \"b\") or \"stop\" b\n"
     ]
    },
    {
     "name": "stdout",
     "output_type": "stream",
     "text": [
      "[1] \"running posterior:\"\n",
      "        H0         H1         H2         H3         H4         H5 \n",
      "0.63840654 0.26149132 0.08273749 0.01634321 0.00102145 0.00000000 \n"
     ]
    },
    {
     "name": "stdin",
     "output_type": "stream",
     "text": [
      "enter extracted color (\"w\" or \"b\") or \"stop\" stop\n"
     ]
    },
    {
     "name": "stdout",
     "output_type": "stream",
     "text": [
      "[1] \"Inference history:\"\n"
     ]
    },
    {
     "data": {
      "text/html": [
       "<table class=\"dataframe\">\n",
       "<caption>A data.frame: 5 × 7</caption>\n",
       "<thead>\n",
       "\t<tr><th></th><th scope=col>E</th><th scope=col>H0</th><th scope=col>H1</th><th scope=col>H2</th><th scope=col>H3</th><th scope=col>H4</th><th scope=col>H5</th></tr>\n",
       "\t<tr><th></th><th scope=col>&lt;chr&gt;</th><th scope=col>&lt;dbl&gt;</th><th scope=col>&lt;dbl&gt;</th><th scope=col>&lt;dbl&gt;</th><th scope=col>&lt;dbl&gt;</th><th scope=col>&lt;dbl&gt;</th><th scope=col>&lt;dbl&gt;</th></tr>\n",
       "</thead>\n",
       "<tbody>\n",
       "\t<tr><th scope=row>1</th><td>NA</td><td>0.1666667</td><td>0.1666667</td><td>0.16666667</td><td>0.16666667</td><td>0.166666667</td><td>0.1666667</td></tr>\n",
       "\t<tr><th scope=row>2</th><td>B </td><td>0.3333333</td><td>0.2666667</td><td>0.20000000</td><td>0.13333333</td><td>0.066666667</td><td>0.0000000</td></tr>\n",
       "\t<tr><th scope=row>3</th><td>B </td><td>0.4545455</td><td>0.2909091</td><td>0.16363636</td><td>0.07272727</td><td>0.018181818</td><td>0.0000000</td></tr>\n",
       "\t<tr><th scope=row>4</th><td>B </td><td>0.5555556</td><td>0.2844444</td><td>0.12000000</td><td>0.03555556</td><td>0.004444444</td><td>0.0000000</td></tr>\n",
       "\t<tr><th scope=row>5</th><td>B </td><td>0.6384065</td><td>0.2614913</td><td>0.08273749</td><td>0.01634321</td><td>0.001021450</td><td>0.0000000</td></tr>\n",
       "</tbody>\n",
       "</table>\n"
      ],
      "text/latex": [
       "A data.frame: 5 × 7\n",
       "\\begin{tabular}{r|lllllll}\n",
       "  & E & H0 & H1 & H2 & H3 & H4 & H5\\\\\n",
       "  & <chr> & <dbl> & <dbl> & <dbl> & <dbl> & <dbl> & <dbl>\\\\\n",
       "\\hline\n",
       "\t1 & NA & 0.1666667 & 0.1666667 & 0.16666667 & 0.16666667 & 0.166666667 & 0.1666667\\\\\n",
       "\t2 & B  & 0.3333333 & 0.2666667 & 0.20000000 & 0.13333333 & 0.066666667 & 0.0000000\\\\\n",
       "\t3 & B  & 0.4545455 & 0.2909091 & 0.16363636 & 0.07272727 & 0.018181818 & 0.0000000\\\\\n",
       "\t4 & B  & 0.5555556 & 0.2844444 & 0.12000000 & 0.03555556 & 0.004444444 & 0.0000000\\\\\n",
       "\t5 & B  & 0.6384065 & 0.2614913 & 0.08273749 & 0.01634321 & 0.001021450 & 0.0000000\\\\\n",
       "\\end{tabular}\n"
      ],
      "text/markdown": [
       "\n",
       "A data.frame: 5 × 7\n",
       "\n",
       "| <!--/--> | E &lt;chr&gt; | H0 &lt;dbl&gt; | H1 &lt;dbl&gt; | H2 &lt;dbl&gt; | H3 &lt;dbl&gt; | H4 &lt;dbl&gt; | H5 &lt;dbl&gt; |\n",
       "|---|---|---|---|---|---|---|---|\n",
       "| 1 | NA | 0.1666667 | 0.1666667 | 0.16666667 | 0.16666667 | 0.166666667 | 0.1666667 |\n",
       "| 2 | B  | 0.3333333 | 0.2666667 | 0.20000000 | 0.13333333 | 0.066666667 | 0.0000000 |\n",
       "| 3 | B  | 0.4545455 | 0.2909091 | 0.16363636 | 0.07272727 | 0.018181818 | 0.0000000 |\n",
       "| 4 | B  | 0.5555556 | 0.2844444 | 0.12000000 | 0.03555556 | 0.004444444 | 0.0000000 |\n",
       "| 5 | B  | 0.6384065 | 0.2614913 | 0.08273749 | 0.01634321 | 0.001021450 | 0.0000000 |\n",
       "\n"
      ],
      "text/plain": [
       "  E  H0        H1        H2         H3         H4          H5       \n",
       "1 NA 0.1666667 0.1666667 0.16666667 0.16666667 0.166666667 0.1666667\n",
       "2 B  0.3333333 0.2666667 0.20000000 0.13333333 0.066666667 0.0000000\n",
       "3 B  0.4545455 0.2909091 0.16363636 0.07272727 0.018181818 0.0000000\n",
       "4 B  0.5555556 0.2844444 0.12000000 0.03555556 0.004444444 0.0000000\n",
       "5 B  0.6384065 0.2614913 0.08273749 0.01634321 0.001021450 0.0000000"
      ]
     },
     "metadata": {},
     "output_type": "display_data"
    },
    {
     "data": {
      "image/png": "[encoded data removed]",
      "text/plain": [
       "plot without title"
      ]
     },
     "metadata": {
      "image/png": {
       "height": 420,
       "width": 420
      }
     },
     "output_type": "display_data"
    }
   ],
   "source": [
    "plot.check <- FALSE #TRUE\n",
    "\n",
    "proceed <- TRUE\n",
    "prior <- rep(1, times = 6)/6\n",
    "\n",
    "df <- data.frame(matrix(0, nrow = 1, ncol = 6))\n",
    "for (i in 0:5) names(df)[i+1] <- sprintf(\"H%d\",i) \n",
    "df[1,] <- prior\n",
    "extracted.colors.history <- c(NA)\n",
    "\n",
    "#x11()\n",
    "while (proceed) {\n",
    "    v <- get.user.input()\n",
    "    extracted.color <- v[1]; proceed <- v[2]\n",
    "    #print(x)\n",
    "    if (!is.na(extracted.color)) {\n",
    "        prior <- unlist(tail(df, 1)) # running prior\n",
    "        posterior <- compute.posterior(prior, data = extracted.color) # spezzato per chiarezza\n",
    "        \n",
    "        new.row.index <- length(unlist(df[1]))+1\n",
    "        df[new.row.index,] <- posterior\n",
    "        print(\"running posterior:\")\n",
    "        print(posterior); flush.console()\n",
    "        extracted.colors.history[new.row.index] <- extracted.color\n",
    "        if (plot.check) print(plot.posterior(posterior, new.row.index-1)) # https://stackoverflow.com/questions/15678261/ggplot-does-not-work-if-it-is-inside-a-for-loop-although-it-works-outside-of-it\n",
    "    }\n",
    "}\n",
    "\n",
    "event.col <- rep(NA, times = new.row.index)\n",
    "event.col[extracted.colors.history == 1] = \"B\"\n",
    "event.col[extracted.colors.history == 0] = \"W\"\n",
    "\n",
    "print(\"Inference history:\")\n",
    "cbind(E = event.col, df)\n",
    "plot.posterior(posterior, new.row.index-1)"
   ]
  },
  {
   "cell_type": "markdown",
   "id": "9c02e176-e2c9-4964-a88e-0bda0f374e26",
   "metadata": {},
   "source": [
    "# Exercise 2: six boxes toy model - simulation (i.e. no user input)"
   ]
  },
  {
   "cell_type": "code",
   "execution_count": 142,
   "id": "59fd6011-542b-454c-897b-e657e1d82c0c",
   "metadata": {},
   "outputs": [
    {
     "name": "stdout",
     "output_type": "stream",
     "text": [
      "[1] \"The unknown box contains 3 white balls and 2 black balls (hypothesis H3)\"\n",
      "[1] \"Simulating 10 draws\"\n",
      "[1] \"white ball extracted\"\n",
      "[1] \"white ball extracted\"\n",
      "[1] \"black ball extracted\"\n",
      "[1] \"black ball extracted\"\n",
      "[1] \"white ball extracted\"\n",
      "[1] \"white ball extracted\"\n",
      "[1] \"white ball extracted\"\n",
      "[1] \"white ball extracted\"\n",
      "[1] \"black ball extracted\"\n",
      "[1] \"white ball extracted\"\n",
      "[1] \"Inference history:\"\n"
     ]
    },
    {
     "data": {
      "text/html": [
       "<table class=\"dataframe\">\n",
       "<caption>A data.frame: 11 × 7</caption>\n",
       "<thead>\n",
       "\t<tr><th></th><th scope=col>E</th><th scope=col>H0</th><th scope=col>H1</th><th scope=col>H2</th><th scope=col>H3</th><th scope=col>H4</th><th scope=col>H5</th></tr>\n",
       "\t<tr><th></th><th scope=col>&lt;chr&gt;</th><th scope=col>&lt;dbl&gt;</th><th scope=col>&lt;dbl&gt;</th><th scope=col>&lt;dbl&gt;</th><th scope=col>&lt;dbl&gt;</th><th scope=col>&lt;dbl&gt;</th><th scope=col>&lt;dbl&gt;</th></tr>\n",
       "</thead>\n",
       "<tbody>\n",
       "\t<tr><th scope=row>1</th><td>NA</td><td>0.1666667</td><td>0.166666667</td><td>0.16666667</td><td>0.1666667</td><td>0.1666667</td><td>0.1666667</td></tr>\n",
       "\t<tr><th scope=row>2</th><td>W </td><td>0.0000000</td><td>0.066666667</td><td>0.13333333</td><td>0.2000000</td><td>0.2666667</td><td>0.3333333</td></tr>\n",
       "\t<tr><th scope=row>3</th><td>W </td><td>0.0000000</td><td>0.018181818</td><td>0.07272727</td><td>0.1636364</td><td>0.2909091</td><td>0.4545455</td></tr>\n",
       "\t<tr><th scope=row>4</th><td>B </td><td>0.0000000</td><td>0.080000000</td><td>0.24000000</td><td>0.3600000</td><td>0.3200000</td><td>0.0000000</td></tr>\n",
       "\t<tr><th scope=row>5</th><td>B </td><td>0.0000000</td><td>0.153846154</td><td>0.34615385</td><td>0.3461538</td><td>0.1538462</td><td>0.0000000</td></tr>\n",
       "\t<tr><th scope=row>6</th><td>W </td><td>0.0000000</td><td>0.061538462</td><td>0.27692308</td><td>0.4153846</td><td>0.2461538</td><td>0.0000000</td></tr>\n",
       "\t<tr><th scope=row>7</th><td>W </td><td>0.0000000</td><td>0.021621622</td><td>0.19459459</td><td>0.4378378</td><td>0.3459459</td><td>0.0000000</td></tr>\n",
       "\t<tr><th scope=row>8</th><td>W </td><td>0.0000000</td><td>0.006956522</td><td>0.12521739</td><td>0.4226087</td><td>0.4452174</td><td>0.0000000</td></tr>\n",
       "\t<tr><th scope=row>9</th><td>W </td><td>0.0000000</td><td>0.002104156</td><td>0.07574961</td><td>0.3834824</td><td>0.5386639</td><td>0.0000000</td></tr>\n",
       "\t<tr><th scope=row>10</th><td>B </td><td>0.0000000</td><td>0.005460751</td><td>0.14744027</td><td>0.4976109</td><td>0.3494881</td><td>0.0000000</td></tr>\n",
       "\t<tr><th scope=row>11</th><td>W </td><td>0.0000000</td><td>0.001711230</td><td>0.09240642</td><td>0.4678075</td><td>0.4380749</td><td>0.0000000</td></tr>\n",
       "</tbody>\n",
       "</table>\n"
      ],
      "text/latex": [
       "A data.frame: 11 × 7\n",
       "\\begin{tabular}{r|lllllll}\n",
       "  & E & H0 & H1 & H2 & H3 & H4 & H5\\\\\n",
       "  & <chr> & <dbl> & <dbl> & <dbl> & <dbl> & <dbl> & <dbl>\\\\\n",
       "\\hline\n",
       "\t1 & NA & 0.1666667 & 0.166666667 & 0.16666667 & 0.1666667 & 0.1666667 & 0.1666667\\\\\n",
       "\t2 & W  & 0.0000000 & 0.066666667 & 0.13333333 & 0.2000000 & 0.2666667 & 0.3333333\\\\\n",
       "\t3 & W  & 0.0000000 & 0.018181818 & 0.07272727 & 0.1636364 & 0.2909091 & 0.4545455\\\\\n",
       "\t4 & B  & 0.0000000 & 0.080000000 & 0.24000000 & 0.3600000 & 0.3200000 & 0.0000000\\\\\n",
       "\t5 & B  & 0.0000000 & 0.153846154 & 0.34615385 & 0.3461538 & 0.1538462 & 0.0000000\\\\\n",
       "\t6 & W  & 0.0000000 & 0.061538462 & 0.27692308 & 0.4153846 & 0.2461538 & 0.0000000\\\\\n",
       "\t7 & W  & 0.0000000 & 0.021621622 & 0.19459459 & 0.4378378 & 0.3459459 & 0.0000000\\\\\n",
       "\t8 & W  & 0.0000000 & 0.006956522 & 0.12521739 & 0.4226087 & 0.4452174 & 0.0000000\\\\\n",
       "\t9 & W  & 0.0000000 & 0.002104156 & 0.07574961 & 0.3834824 & 0.5386639 & 0.0000000\\\\\n",
       "\t10 & B  & 0.0000000 & 0.005460751 & 0.14744027 & 0.4976109 & 0.3494881 & 0.0000000\\\\\n",
       "\t11 & W  & 0.0000000 & 0.001711230 & 0.09240642 & 0.4678075 & 0.4380749 & 0.0000000\\\\\n",
       "\\end{tabular}\n"
      ],
      "text/markdown": [
       "\n",
       "A data.frame: 11 × 7\n",
       "\n",
       "| <!--/--> | E &lt;chr&gt; | H0 &lt;dbl&gt; | H1 &lt;dbl&gt; | H2 &lt;dbl&gt; | H3 &lt;dbl&gt; | H4 &lt;dbl&gt; | H5 &lt;dbl&gt; |\n",
       "|---|---|---|---|---|---|---|---|\n",
       "| 1 | NA | 0.1666667 | 0.166666667 | 0.16666667 | 0.1666667 | 0.1666667 | 0.1666667 |\n",
       "| 2 | W  | 0.0000000 | 0.066666667 | 0.13333333 | 0.2000000 | 0.2666667 | 0.3333333 |\n",
       "| 3 | W  | 0.0000000 | 0.018181818 | 0.07272727 | 0.1636364 | 0.2909091 | 0.4545455 |\n",
       "| 4 | B  | 0.0000000 | 0.080000000 | 0.24000000 | 0.3600000 | 0.3200000 | 0.0000000 |\n",
       "| 5 | B  | 0.0000000 | 0.153846154 | 0.34615385 | 0.3461538 | 0.1538462 | 0.0000000 |\n",
       "| 6 | W  | 0.0000000 | 0.061538462 | 0.27692308 | 0.4153846 | 0.2461538 | 0.0000000 |\n",
       "| 7 | W  | 0.0000000 | 0.021621622 | 0.19459459 | 0.4378378 | 0.3459459 | 0.0000000 |\n",
       "| 8 | W  | 0.0000000 | 0.006956522 | 0.12521739 | 0.4226087 | 0.4452174 | 0.0000000 |\n",
       "| 9 | W  | 0.0000000 | 0.002104156 | 0.07574961 | 0.3834824 | 0.5386639 | 0.0000000 |\n",
       "| 10 | B  | 0.0000000 | 0.005460751 | 0.14744027 | 0.4976109 | 0.3494881 | 0.0000000 |\n",
       "| 11 | W  | 0.0000000 | 0.001711230 | 0.09240642 | 0.4678075 | 0.4380749 | 0.0000000 |\n",
       "\n"
      ],
      "text/plain": [
       "   E  H0        H1          H2         H3        H4        H5       \n",
       "1  NA 0.1666667 0.166666667 0.16666667 0.1666667 0.1666667 0.1666667\n",
       "2  W  0.0000000 0.066666667 0.13333333 0.2000000 0.2666667 0.3333333\n",
       "3  W  0.0000000 0.018181818 0.07272727 0.1636364 0.2909091 0.4545455\n",
       "4  B  0.0000000 0.080000000 0.24000000 0.3600000 0.3200000 0.0000000\n",
       "5  B  0.0000000 0.153846154 0.34615385 0.3461538 0.1538462 0.0000000\n",
       "6  W  0.0000000 0.061538462 0.27692308 0.4153846 0.2461538 0.0000000\n",
       "7  W  0.0000000 0.021621622 0.19459459 0.4378378 0.3459459 0.0000000\n",
       "8  W  0.0000000 0.006956522 0.12521739 0.4226087 0.4452174 0.0000000\n",
       "9  W  0.0000000 0.002104156 0.07574961 0.3834824 0.5386639 0.0000000\n",
       "10 B  0.0000000 0.005460751 0.14744027 0.4976109 0.3494881 0.0000000\n",
       "11 W  0.0000000 0.001711230 0.09240642 0.4678075 0.4380749 0.0000000"
      ]
     },
     "metadata": {},
     "output_type": "display_data"
    },
    {
     "data": {
      "image/png": "[encoded data removed]",
      "text/plain": [
       "plot without title"
      ]
     },
     "metadata": {
      "image/png": {
       "height": 420,
       "width": 420
      }
     },
     "output_type": "display_data"
    }
   ],
   "source": [
    "set.seed(1234)\n",
    "\n",
    "n.white <- sample(0:5)[1]\n",
    "print(sprintf(\"The unknown box contains %d white balls and %d black balls (hypothesis H%d)\", n.white, (5-n.white), n.white))\n",
    "box <- c(rep(0, times = n.white), rep(1, times = 5-n.white))\n",
    "#box\n",
    "rbox <- function(box) sample(box)[1]\n",
    "#rbox(box)\n",
    "colors.array <- c(\"white\", \"black\")\n",
    "\n",
    "prior <- rep(1, times = 6)/6\n",
    "df <- data.frame(matrix(0, nrow = 1, ncol = 6))\n",
    "for (i in 0:5) names(df)[i+1] <- sprintf(\"H%d\",i) \n",
    "df[1,] <- prior\n",
    "\n",
    "verbose <- FALSE #TRUE\n",
    "plot.check <- FALSE\n",
    "\n",
    "n.draws <- 10\n",
    "print(sprintf(\"Simulating %d draws\", n.draws))\n",
    "if (verbose) {\n",
    "    print(\"prior:\")\n",
    "    print(prior)\n",
    "} \n",
    "\n",
    "extracted.colors.history <- c(NA)\n",
    "\n",
    "for (i in 1:10) {\n",
    "    extracted.color <- rbox(box)\n",
    "    extracted.colors.history[i+1] <- extracted.color\n",
    "    print(sprintf(\"%s ball extracted\", colors.array[extracted.color+1]))\n",
    "    \n",
    "    prior <- unlist(tail(df, 1)) # running prior\n",
    "    posterior <- compute.posterior(prior, data = extracted.color) # spezzato per chiarezza\n",
    "    df[length(unlist(df[1]))+1,] <- posterior\n",
    "    \n",
    "    if (plot.check) print(plot.posterior(posterior, i))\n",
    "    \n",
    "    if (verbose) {\n",
    "        print(\"running posterior:\")\n",
    "        print(posterior)\n",
    "    }\n",
    "}\n",
    "\n",
    "event.col <- rep(NA, times = length(extracted.colors.history))\n",
    "event.col[extracted.colors.history == 1] = \"B\"\n",
    "event.col[extracted.colors.history == 0] = \"W\"\n",
    "\n",
    "print(\"Inference history:\")\n",
    "cbind(E = event.col, df)\n",
    "\n",
    "plot.posterior(posterior, n.draws)"
   ]
  },
  {
   "cell_type": "markdown",
   "id": "e6a52beb-6892-4001-a466-7a45cf36620c",
   "metadata": {},
   "source": [
    "# Exercise 3: sampling from the Erlang distribution\n",
    "There are multiple ways to do this, of which I list 3:\n",
    "- we can use the `rgamma` base R function, since the Erlang distribution is just a special case of the Gamma one;\n",
    "- we can use general-purpose algorithms, like inverse sampling or rejection sampling;\n",
    "- we can exploit the reproductive property.      \n",
    "\n",
    "The last option simply means that if $u_i \\sim U(]0,1]), \\ i = 1,\\dots,k$ and we want to compute $x \\sim E(k,\\lambda)$ then it suffices to use the following formula (cfr [here](https://en.wikipedia.org/wiki/Erlang_distribution)):\n",
    "\\begin{equation}\n",
    "  x = -\\frac{1}{\\lambda} \\sum_{i=1}^k \\ln u_i\n",
    "\\end{equation}\n",
    "where $k$ and $\\lambda$ are the Erlang distribution *shape* and *rate* parameters, respectively."
   ]
  },
  {
   "cell_type": "code",
   "execution_count": 165,
   "id": "113addff-72ab-4864-aaa8-159559f62280",
   "metadata": {},
   "outputs": [
    {
     "data": {
      "text/html": [
       "<style>\n",
       ".list-inline {list-style: none; margin:0; padding: 0}\n",
       ".list-inline>li {display: inline-block}\n",
       ".list-inline>li:not(:last-child)::after {content: \"\\00b7\"; padding: 0 .5ex}\n",
       "</style>\n",
       "<ol class=list-inline><li>0.367879441171442</li><li>0.135335283236613</li><li>0.0497870683678639</li><li>0.0183156388887342</li><li>0.00673794699908547</li></ol>\n"
      ],
      "text/latex": [
       "\\begin{enumerate*}\n",
       "\\item 0.367879441171442\n",
       "\\item 0.135335283236613\n",
       "\\item 0.0497870683678639\n",
       "\\item 0.0183156388887342\n",
       "\\item 0.00673794699908547\n",
       "\\end{enumerate*}\n"
      ],
      "text/markdown": [
       "1. 0.367879441171442\n",
       "2. 0.135335283236613\n",
       "3. 0.0497870683678639\n",
       "4. 0.0183156388887342\n",
       "5. 0.00673794699908547\n",
       "\n",
       "\n"
      ],
      "text/plain": [
       "[1] 0.367879441 0.135335283 0.049787068 0.018315639 0.006737947"
      ]
     },
     "metadata": {},
     "output_type": "display_data"
    }
   ],
   "source": [
    "f <- function(x) return(perlang(x, rate = lambda, shape = k))\n",
    "f(1:5)"
   ]
  },
  {
   "cell_type": "code",
   "execution_count": 164,
   "id": "f1ed3d27-06c7-4755-abde-b0d7de5f229e",
   "metadata": {},
   "outputs": [
    {
     "ename": "ERROR",
     "evalue": "Error in curve(function(x) return(perlang(x, rate = lambda, shape = k)), : 'expr' did not evaluate to an object of length 'n'\n",
     "output_type": "error",
     "traceback": [
      "Error in curve(function(x) return(perlang(x, rate = lambda, shape = k)), : 'expr' did not evaluate to an object of length 'n'\nTraceback:\n",
      "1. curve(function(x) return(perlang(x, rate = lambda, shape = k)), \n .     from = 0, to = 10, add = TRUE)",
      "2. stop(\"'expr' did not evaluate to an object of length 'n'\")"
     ]
    },
    {
     "data": {
      "image/png": "[encoded data removed]",
      "text/plain": [
       "Plot with title \"Histogram of rerlang(n = 10000, shape = 1, rate = 1)\""
      ]
     },
     "metadata": {
      "image/png": {
       "height": 420,
       "width": 420
      }
     },
     "output_type": "display_data"
    }
   ],
   "source": [
    "rerlang <- function(n, shape, rate) {\n",
    "    x <- rep(0, times = n)\n",
    "    for (i in 1:n) x[i] <- -1/rate*sum(log(runif(shape))) # a faster, vectorized implementation would consist in generating shape*n uniform samples and summing them in groups of shape size. This is easier, though!\n",
    "    return (x)\n",
    "}\n",
    "\n",
    "\n",
    "# To check this works we sample a bunch of numbers and compare the histogram with the PDF\n",
    "perlang <- function(x, shape, rate) return (rate^shape*x^(shape-1)*exp(-rate*x)/factorial(k-1))\n",
    "\n",
    "k <- 1; lambda <- 1\n",
    "#hist(rerlang(100000, shape = k, rate = lambda), freq = FALSE)\n",
    "hist(rerlang(n = 10000, shape = 1, rate = 1), freq = FALSE)\n",
    "curve(function(x) return(perlang(x, rate = lambda, shape = k)), from = 0, to = 10, add = TRUE)"
   ]
  }
 ],
 "metadata": {
  "kernelspec": {
   "display_name": "R",
   "language": "R",
   "name": "ir"
  },
  "language_info": {
   "codemirror_mode": "r",
   "file_extension": ".r",
   "mimetype": "text/x-r-source",
   "name": "R",
   "pygments_lexer": "r",
   "version": "4.0.5"
  }
 },
 "nbformat": 4,
 "nbformat_minor": 5
}
