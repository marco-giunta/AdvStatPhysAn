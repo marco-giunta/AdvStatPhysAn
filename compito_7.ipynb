{
 "cells": [
  {
   "cell_type": "markdown",
   "id": "8e695fc4-bc01-4599-b946-f97c7e23f72d",
   "metadata": {},
   "source": [
    "## name: Marco Giunta\n",
    "### RLab07"
   ]
  },
  {
   "cell_type": "code",
   "execution_count": 1,
   "id": "826b0891-6669-4725-8921-04fa09bc4069",
   "metadata": {},
   "outputs": [
    {
     "name": "stderr",
     "output_type": "stream",
     "text": [
      "-- \u001b[1mAttaching packages\u001b[22m ------------------------------------------------------------------------------- tidyverse 1.3.1 --\n",
      "\n",
      "\u001b[32mv\u001b[39m \u001b[34mggplot2\u001b[39m 3.3.3     \u001b[32mv\u001b[39m \u001b[34mpurrr  \u001b[39m 0.3.4\n",
      "\u001b[32mv\u001b[39m \u001b[34mtibble \u001b[39m 3.1.0     \u001b[32mv\u001b[39m \u001b[34mdplyr  \u001b[39m 1.0.5\n",
      "\u001b[32mv\u001b[39m \u001b[34mtidyr  \u001b[39m 1.1.3     \u001b[32mv\u001b[39m \u001b[34mstringr\u001b[39m 1.4.0\n",
      "\u001b[32mv\u001b[39m \u001b[34mreadr  \u001b[39m 1.4.0     \u001b[32mv\u001b[39m \u001b[34mforcats\u001b[39m 0.5.1\n",
      "\n",
      "-- \u001b[1mConflicts\u001b[22m ---------------------------------------------------------------------------------- tidyverse_conflicts() --\n",
      "\u001b[31mx\u001b[39m \u001b[34mdplyr\u001b[39m::\u001b[32mfilter()\u001b[39m masks \u001b[34mstats\u001b[39m::filter()\n",
      "\u001b[31mx\u001b[39m \u001b[34mdplyr\u001b[39m::\u001b[32mlag()\u001b[39m    masks \u001b[34mstats\u001b[39m::lag()\n",
      "\n"
     ]
    }
   ],
   "source": [
    "library(\"tidyverse\")"
   ]
  },
  {
   "cell_type": "markdown",
   "id": "9091427c-20a6-4e66-81c7-5a05f8fa573c",
   "metadata": {},
   "source": [
    "## Ex. 1: blood test\n",
    "### 1.1: binomial likelihood\n",
    "If $y$ is the number of times the test fails to detect the disease in the patients then we can model $y$ as being sampled from a binomial likelihood, whose bias parameter $p$ is unknown to us initially and to be determined via inference.       \n",
    "### 1.2: frequentist estimate of $p$\n",
    "If we want to use a frequentist approach given the binomial likelihood it suffices to use the following equation:\n",
    "\\begin{equation}\n",
    "  p_f = \\frac{y}{n}\n",
    "\\end{equation}\n",
    "where $y/n=6/75$ is the number of ill patients whose disease wasn't noticed by the test (i.e. the fraction of false negatives).           \n",
    "This works because $y/n$ is an unbiased estimator of $p_{\\text{true}}$ in the frequentist setting, as can be easily shown:\n",
    "\\begin{equation}\n",
    "  \\mathbb{E} (p_f) = \\mathbb{E}\\left(\\frac{y}{n}\\right) = \\frac{\\mathbb{E}(y)}{n} = \\frac{np}{n} = p   \\implies |\\mathbb{E}(p_f) - p| = 0\n",
    "\\end{equation}\n",
    "where $p$ is the \"true\" unknown but fixed value whose existence is assumed in the frequentist setting.          \n",
    "Notice: the fact that $p$ can be estimated this way is an intuitive result if we consider that a) each test is essentially a Bernoulli trial, and b) that probabilities in the frequentist approach are long run frequencies of the kind n. of successes/n. of attempts."
   ]
  },
  {
   "cell_type": "code",
   "execution_count": 2,
   "id": "28600351-4d17-4a21-ae8c-736baef905d3",
   "metadata": {},
   "outputs": [
    {
     "name": "stdout",
     "output_type": "stream",
     "text": [
      "[1] \"frequentist estimate of p: 0.08\"\n"
     ]
    }
   ],
   "source": [
    "y <- 6\n",
    "n <- 75\n",
    "pf <- y/n\n",
    "\n",
    "print(paste(\"frequentist estimate of p:\", pf))"
   ]
  },
  {
   "cell_type": "code",
   "execution_count": 3,
   "id": "19e6a726-8a0b-41ce-b667-036299258d0a",
   "metadata": {},
   "outputs": [
    {
     "data": {
      "image/png": "[encoded data removed]",
      "text/plain": [
       "Plot with title \"binomial likelihood (y = 6, n = 75)\""
      ]
     },
     "metadata": {
      "image/png": {
       "height": 420,
       "width": 420
      }
     },
     "output_type": "display_data"
    }
   ],
   "source": [
    "# notice that even if we didn't know the exact result mentioned above we could still obtain p_f\n",
    "# using the MLE frequentist approach of finding the maximum of the likelihood. We don't actually \n",
    "# need to do it, though, because we already have an exact estimate of this number\n",
    "\n",
    "p.vector <- seq(0, 1, length.out = 1000)\n",
    "binomial.likelihood <- function(p, y = 6, n = 75) dbinom(x = y, size = n, prob = p)\n",
    "\n",
    "plot(p.vector, binomial.likelihood(p.vector), type = \"l\", col = \"cornflowerblue\", xlab = \"p\", ylab = \"\", main = \"binomial likelihood (y = 6, n = 75)\", lwd = 3)\n",
    "abline(v = pf, col = \"red\", lwd = 2.5)\n",
    "legend(x = 0.65, y = 0.16, legend = c(\"bin. likelihood\" , sprintf(\"p_f = y/n = %.2f\", pf)), lty = c(1,1), col = c(\"cornflowerblue\", \"red\"), lwd = c(3, 2.5))"
   ]
  },
  {
   "cell_type": "markdown",
   "id": "7b39f99a-d7db-4dd1-a230-e94c34004d15",
   "metadata": {},
   "source": [
    "Notice that the binomial unbiased estimator is none other than the argmax of the binomial likelihood."
   ]
  },
  {
   "cell_type": "markdown",
   "id": "97071e5f-5040-4476-b799-8dba65486602",
   "metadata": {},
   "source": [
    "### 1.3: Bayesian inference of $p$\n",
    "This time we use Bayes' theorem in the standard way using the prior defined in the exercise: a beta prior with mean 0.15 and sd 0.14 (we can compute the $\\alpha, \\beta$ parameters associated to this value using the formulae and code contained [here](https://stats.stackexchange.com/questions/12232/calculating-the-parameters-of-a-beta-distribution-using-the-mean-and-variance)).         \n",
    "Once we know the values of the prior's $\\alpha$ and $\\beta$ we can compute the posterior's parameters using the usual simple update rules, since a beta prior is conjugate to the binomial likelihood; this means the new $\\alpha', \\beta'$ are given by:\n",
    "\\begin{equation}\n",
    "  \\alpha' = \\alpha + y\n",
    "\\end{equation}\n",
    "\\begin{equation}\n",
    "  \\beta' = \\beta + n - y\n",
    "\\end{equation}"
   ]
  },
  {
   "cell_type": "code",
   "execution_count": 4,
   "id": "70e3b1c5-8319-4c44-9204-d0b75b402755",
   "metadata": {},
   "outputs": [
    {
     "name": "stdout",
     "output_type": "stream",
     "text": [
      "[1] \"prior alpha, beta parameters =  0.825765306122449 and 4.67933673469388\"\n"
     ]
    }
   ],
   "source": [
    "estBetaParams <- function(mu, var) {\n",
    "  alpha <- ((1 - mu) / var - 1 / mu) * mu ^ 2\n",
    "  beta <- alpha * (1 / mu - 1)\n",
    "  return(params = list(alpha = alpha, beta = beta))\n",
    "}\n",
    "\n",
    "prior.params <- estBetaParams(mu = 0.15, var = 0.14^2)\n",
    "alpha.prior <- prior.params$alpha; beta.prior <- prior.params$beta\n",
    "print(paste(\"prior alpha, beta parameters = \", alpha.prior, \"and\", beta.prior))"
   ]
  },
  {
   "cell_type": "code",
   "execution_count": 5,
   "id": "74a48cd8-a5d8-4b1d-97ad-0cfa30baa11d",
   "metadata": {},
   "outputs": [
    {
     "name": "stdout",
     "output_type": "stream",
     "text": [
      "[1] \"posterior alpha, beta parameters =  6.82576530612245 and 73.6793367346939\"\n"
     ]
    }
   ],
   "source": [
    "alpha.posterior <- alpha.prior + y; beta.posterior <- beta.prior + n - y\n",
    "print(paste(\"posterior alpha, beta parameters = \", alpha.posterior, \"and\", beta.posterior))"
   ]
  },
  {
   "cell_type": "code",
   "execution_count": 6,
   "id": "2ebaf0a4-76c0-4e05-942f-b8a818807883",
   "metadata": {},
   "outputs": [
    {
     "name": "stdout",
     "output_type": "stream",
     "text": [
      "[1] \"most probable value for p (MAP estimator i.e. posterior mode) = 0.074\"\n",
      "[1] \"posterior mean = 0.085, posterior var = 0.001\"\n"
     ]
    },
    {
     "data": {
      "image/png": "[encoded data removed]",
      "text/plain": [
       "Plot with title \"beta prior & posterior\""
      ]
     },
     "metadata": {
      "image/png": {
       "height": 420,
       "width": 420
      }
     },
     "output_type": "display_data"
    }
   ],
   "source": [
    "prior <- function(p) dbeta(x = p, shape1 = alpha.prior, shape2 = beta.prior)\n",
    "posterior <- function(p) dbeta(x = p, shape1 = alpha.posterior, shape2 = beta.posterior)\n",
    "mode.posterior <- p.vector[which.max(posterior(p.vector))]\n",
    "print(sprintf(\"most probable value for p (MAP estimator i.e. posterior mode) = %.3f\", mode.posterior))\n",
    "\n",
    "# we can compute mean and variance exactly using the formulae of the beta distribution\n",
    "mean.posterior <- alpha.posterior/(alpha.posterior + beta.posterior)\n",
    "var.posterior  <- alpha.posterior*beta.posterior/((alpha.posterior + beta.posterior)^2*(alpha.posterior + beta.posterior + 1))\n",
    "print(sprintf(\"posterior mean = %.3f, posterior var = %.3f\", mean.posterior, var.posterior))\n",
    "\n",
    "plot(p.vector, prior(p.vector), type = \"l\", lwd = 3, col = \"darkgreen\", ylim = c(0, 14), main = \"beta prior & posterior\", xlab = \"p\", ylab = \"\")\n",
    "lines(p.vector, posterior(p.vector), lwd = 3, col = \"deepskyblue\")\n",
    "abline(v = mode.posterior, col = \"red\", lwd = 2.5)\n",
    "abline(v = mean.posterior, col = \"black\", lwd = 2.5)\n",
    "\n",
    "legend(x = 0.5, y = 14, legend = c(sprintf(\"prior = beta(%.2f, %.2f)\", alpha.prior, beta.prior), sprintf(\"posterior = beta(%.2f, %.2f)\", alpha.posterior, beta.posterior), sprintf(\"posterior mode = %.3f\", mode.posterior), sprintf(\"posterior mean = %.3f\", mean.posterior)), lty = rep(1, times = 4), lwd = c(3, 3, 2.5, 2.5), col = c(\"darkgreen\", \"deepskyblue\", \"red\", \"black\"))"
   ]
  },
  {
   "cell_type": "markdown",
   "id": "a3d2d8b0-451a-4650-bd93-f2eb9b6ed49b",
   "metadata": {},
   "source": [
    "### 1.4: Bayesian hypothesis testing\n",
    "To perform an hypothesis testing in the bayesian way we first need to define a null hypothesis to test; in our case we set:\n",
    "- Null hypothesis $H_0$: $p \\geq p_0$, where $p$ and $p_0$ are the failure probabilities of the new and old tests respectively. If $H_0$ is accepted then the new test isn't better than the old one.\n",
    "- Alternative hypothesis $H_1$: $p < p_0$, i.e. the new test is better than the old one. \n",
    "\n",
    "In a bayesian setting we can easily compute the probability that $p\\geq p_0$ using the integral of the posterior; in order to prove/disprove the null hypothesis to a given significance $\\alpha$, then, it suffices to compare $\\alpha$ with\n",
    "\\begin{equation}\n",
    "  P(H_0: p\\geq p_0) = \\int_{p_0}^1 P(p | y) \\ \\mathrm{d}p\n",
    "\\end{equation}\n",
    "where $P(p | y) = P(\\text{model} | \\text{data})$ is the beta posterior computed above."
   ]
  },
  {
   "cell_type": "code",
   "execution_count": 7,
   "id": "c6683b7f-7aee-471d-80d1-7c4985da43b6",
   "metadata": {},
   "outputs": [
    {
     "name": "stdout",
     "output_type": "stream",
     "text": [
      "[1] \"P(p >= p_0) = 0.0312793302979552\"\n",
      "[1] \"since 0.031 is less than 0.050 we reject the null hypothesis\"\n"
     ]
    }
   ],
   "source": [
    "# we set alpha = 5%\n",
    "significance <- 0.05 # I use this variable name to avoid confusion with the alpha par. of the beta dist.\n",
    "p0 <- 0.15 # see problem text for the values of p_0 and of the significance\n",
    "\n",
    "prob.hyp.testing <- integrate(posterior, p0, 1)$value\n",
    "print(paste(\"P(p >= p_0) =\", prob.hyp.testing))\n",
    "test <- prob.hyp.testing >= significance\n",
    "\n",
    "if (test) {\n",
    "    print(sprintf(\"since %.3f is greater than or equal to %.3f we accept the null hypothesis\", prob.hyp.testing, significance))\n",
    "    } else {\n",
    "        print(sprintf(\"since %.3f is less than %.3f we reject the null hypothesis\", prob.hyp.testing, significance))\n",
    "}\n",
    "    "
   ]
  },
  {
   "cell_type": "code",
   "execution_count": 8,
   "id": "ad7e2d19-9130-4444-a912-d2a3c0b1bfcd",
   "metadata": {},
   "outputs": [
    {
     "data": {
      "image/png": "[encoded data removed]",
      "text/plain": [
       "Plot with title \"B. HT plot; Prob. the data can be explained by pure chance = 0.031\""
      ]
     },
     "metadata": {
      "image/png": {
       "height": 420,
       "width": 420
      }
     },
     "output_type": "display_data"
    }
   ],
   "source": [
    "plot(p.vector, posterior(p.vector), type = \"l\", col = \"deepskyblue3\", lwd = 3, xlab = \"p\", ylab = \"\", main = sprintf(\"B. HT plot; Prob. the data can be explained by pure chance = %.3f\", prob.hyp.testing))\n",
    "abline(v = p0, col = \"black\", lwd = 2)\n",
    "polygon(x = c(p0, p0, p.vector[p.vector >= p0]), y = c(0, posterior(p0), posterior(p.vector[p.vector >= p0])), col = \"deepskyblue\")\n",
    "\n",
    "legend(x = 0.6, y = 14, legend = c(\"posterior\", sprintf(\"p0 = %.2f\", p0), sprintf(\"P(p >= p0) = %.3f\", prob.hyp.testing)), lty = rep(1, times = 3), lwd = c(3, 3, 2), col = c(\"deepskyblue3\", \"black\", \"deepskyblue\"))"
   ]
  },
  {
   "cell_type": "markdown",
   "id": "1bbce7fc-9609-431d-b02f-46656835e3b5",
   "metadata": {},
   "source": [
    "### 1.5 frequentist hypothesis testing\n",
    "Once again we compare a certain probability with the chosen significance, but this time we rely on the likelihood rather than on the posterior. In the frequentist setting in this case the null hypothesis $H_0$ is \"the data is generated by the binomial likelihood with $p=p_0$\"; if this likelihood predicts that the probability of observing the data we actually observed/something more extreme ($y/n \\leq 6/75$) is smaller than the significance then $H_0$ is rejected.       \n",
    "To recap: we reject the null hypothesis (i.e. the new test is better to the chosen significance level) if\n",
    "\\begin{equation}\n",
    "  \\text{p-value} = P_{\\text{binom}}(y \\leq 6 | p = p_0 = 0.15, N = n = 75) = \\sum_{i = 0}^6 P_{\\text{binom}}(i | p = p_0, N = n) < \\alpha\n",
    "\\end{equation}\n",
    "Note: in practice there's no need to actually perform the sum of `dbinom` since `pbinom` takes care of this for us."
   ]
  },
  {
   "cell_type": "code",
   "execution_count": 9,
   "id": "5235b267-3f05-4179-a299-1f880ae085af",
   "metadata": {},
   "outputs": [
    {
     "name": "stdout",
     "output_type": "stream",
     "text": [
      "[1] \"p value = 0.0543533033542315\"\n",
      "[1] \"since 0.054353 is greater than or equal to 0.050000 we accept the null hypothesis\"\n"
     ]
    }
   ],
   "source": [
    "p.value <- pbinom(6, size = n, prob = p0)\n",
    "# p.value <- sum(dbinom(0:6, size = n, prob = p0)) # if we want to be explicit\n",
    "print(paste(\"p value =\", p.value))\n",
    "\n",
    "if (p.value < significance) {\n",
    "    print(sprintf(\"since %f is less than %f we reject the null hypothesis\", p.value, significance))\n",
    "} else {\n",
    "    print(sprintf(\"since %f is greater than or equal to %f we accept the null hypothesis\", p.value, significance))\n",
    "}"
   ]
  },
  {
   "cell_type": "code",
   "execution_count": 10,
   "id": "f1cfb85c-824c-4e4e-b42f-fecb57f415e3",
   "metadata": {},
   "outputs": [
    {
     "data": {
      "image/png": "[encoded data removed]",
      "text/plain": [
       "Plot with title \"F. HT; p-value = P(y <= 6 | p = 0.1, n = 75) = 0.054353\""
      ]
     },
     "metadata": {
      "image/png": {
       "height": 420,
       "width": 420
      }
     },
     "output_type": "display_data"
    }
   ],
   "source": [
    "y.vector <- 1:30 # y can only have integer values\n",
    "fht.vector <- dbinom(y.vector, size = n, prob = p0)\n",
    "\n",
    "plot(y.vector, fht.vector, type = \"b\", col = \"darkblue\", lwd = 2, xlab = \"y\", ylab = \"\", main = sprintf(\"F. HT; p-value = P(y <= %i | p = %.1f, n = %i) = %f\", y, p0, n, p.value))\n",
    "abline(v = y, col = \"black\", lwd = 2)\n",
    "polygon(x = c(0, y.vector[y.vector <= y], y), y = c(0, fht.vector[y.vector <= y], 0), col = \"deepskyblue\")\n",
    "\n",
    "exp.value <- round(n*p0)\n",
    "abline(v = exp.value, col = \"darkgreen\", lwd = 2)\n",
    "\n",
    "legend(x = 13, y = 0.134, legend = c(sprintf(\"bin. likelihood (n = %i, p = %.2f)\", n, p0), sprintf(\"y = %i\", y), sprintf(\"P(y <= %i | n = %i, p = %.2f) = %.3f\", y, n, p0, p.value), sprintf(\"exp. value = int(n*p0) = %d\", exp.value)), lty = rep(1, times = 4), col = c(\"darkblue\", \"black\", \"deepskyblue\", \"darkgreen\"), lwd = rep(2.5, times = 4))"
   ]
  },
  {
   "cell_type": "markdown",
   "id": "e49d6d00-1569-42e4-970d-4b42dc6ef3db",
   "metadata": {},
   "source": [
    "## Ex.2: Poisson distribution\n",
    "Before starting with the actual solution let us do a brief remark.               \n",
    "Given $n$ independent samples $\\{ y_i \\}$ the Poisson likelihood is:\n",
    "\\begin{equation}\n",
    "  P(\\{y_i\\} | \\mu) = \\prod_{i=1}^n \\frac{\\mu^{y_i} e^{-\\mu} }{y_i!} \\propto \\mu^{\\sum_{i=1}^n y_i} \\cdot e^{-n\\mu}\n",
    "\\end{equation}\n",
    "This actually equals a Gamma distribution up to a constant! This is true because by definition\n",
    "\\begin{equation}\n",
    "  \\text{Gamma}(x | \\alpha, \\lambda) \\propto x^{\\alpha - 1} e^{-\\lambda x}\n",
    "\\end{equation}\n",
    "hence if we set $\\alpha = \\sum_{i=1}^n y_i + 1$, $\\lambda = n$ and $x = \\mu$ then the two pdfs are identical.          \n",
    "This is useful because it lets us recycle the following analytical formulae for the gamma distribution:\n",
    "\\begin{equation}\n",
    "  \\text{mean} = \\frac{\\alpha}{\\lambda}\n",
    "\\end{equation}\n",
    "\\begin{equation}\n",
    "  \\text{mode} = \\frac{\\alpha - 1}{\\lambda}\n",
    "\\end{equation}\n",
    "\\begin{equation}\n",
    "  \\text{var} = \\frac{\\alpha}{\\lambda^2}\n",
    "\\end{equation}\n",
    "\n",
    "### 2.1: posterior given a uniform prior\n",
    "To solve this exercise we need to perform a standard inference: we apply Bayes theorem to compute the posterior, then compute various interesting quantities from the obtained distribution.        \n",
    "If we assume a uniform prior then the posterior equals the likelihood up to a constant, which means it suffices to normalize the Poisson likelihood to obtain the result."
   ]
  },
  {
   "cell_type": "code",
   "execution_count": 11,
   "id": "092aee22-0314-4d5a-85cc-a20fa38c54a9",
   "metadata": {},
   "outputs": [
    {
     "data": {
      "text/html": [
       "<table class=\"dataframe\">\n",
       "<caption>A data.frame: 5 × 3</caption>\n",
       "<thead>\n",
       "\t<tr><th scope=col>y</th><th scope=col>n1</th><th scope=col>n2</th></tr>\n",
       "\t<tr><th scope=col>&lt;int&gt;</th><th scope=col>&lt;dbl&gt;</th><th scope=col>&lt;dbl&gt;</th></tr>\n",
       "</thead>\n",
       "<tbody>\n",
       "\t<tr><td>0</td><td>109</td><td>144</td></tr>\n",
       "\t<tr><td>1</td><td> 65</td><td> 91</td></tr>\n",
       "\t<tr><td>2</td><td> 22</td><td> 32</td></tr>\n",
       "\t<tr><td>3</td><td>  3</td><td> 11</td></tr>\n",
       "\t<tr><td>4</td><td>  1</td><td>  2</td></tr>\n",
       "</tbody>\n",
       "</table>\n"
      ],
      "text/latex": [
       "A data.frame: 5 × 3\n",
       "\\begin{tabular}{lll}\n",
       " y & n1 & n2\\\\\n",
       " <int> & <dbl> & <dbl>\\\\\n",
       "\\hline\n",
       "\t 0 & 109 & 144\\\\\n",
       "\t 1 &  65 &  91\\\\\n",
       "\t 2 &  22 &  32\\\\\n",
       "\t 3 &   3 &  11\\\\\n",
       "\t 4 &   1 &   2\\\\\n",
       "\\end{tabular}\n"
      ],
      "text/markdown": [
       "\n",
       "A data.frame: 5 × 3\n",
       "\n",
       "| y &lt;int&gt; | n1 &lt;dbl&gt; | n2 &lt;dbl&gt; |\n",
       "|---|---|---|\n",
       "| 0 | 109 | 144 |\n",
       "| 1 |  65 |  91 |\n",
       "| 2 |  22 |  32 |\n",
       "| 3 |   3 |  11 |\n",
       "| 4 |   1 |   2 |\n",
       "\n"
      ],
      "text/plain": [
       "  y n1  n2 \n",
       "1 0 109 144\n",
       "2 1  65  91\n",
       "3 2  22  32\n",
       "4 3   3  11\n",
       "5 4   1   2"
      ]
     },
     "metadata": {},
     "output_type": "display_data"
    }
   ],
   "source": [
    "# first let's import the data \n",
    "y1 <- c(109, 65, 22, 3, 1)\n",
    "y2 <- c(144, 91, 32, 11, 2)\n",
    "n.deaths <- 0:4\n",
    "\n",
    "deaths.df <- data.frame(y = n.deaths, n1 = y1, n2 = y2)\n",
    "deaths.df"
   ]
  },
  {
   "cell_type": "code",
   "execution_count": 12,
   "id": "e1654497-05cd-445a-aaff-dea2da8eda9d",
   "metadata": {},
   "outputs": [
    {
     "data": {
      "image/png": "[encoded data removed]",
      "text/plain": [
       "Plot with title \"Histogram of deaths1\""
      ]
     },
     "metadata": {
      "image/png": {
       "height": 420,
       "width": 420
      }
     },
     "output_type": "display_data"
    },
    {
     "data": {
      "image/png": "[encoded data removed]",
      "text/plain": [
       "Plot with title \"Histogram of deaths2\""
      ]
     },
     "metadata": {
      "image/png": {
       "height": 420,
       "width": 420
      }
     },
     "output_type": "display_data"
    }
   ],
   "source": [
    "# we can visualize the above dataframe using an histogram. To do so we use append to progressively assemble\n",
    "# a vector containing each value of the n column repeated n1/n2 times\n",
    "\n",
    "deaths1 <- NULL; deaths2 <- NULL # equivalent to using c()\n",
    "\n",
    "for (i in 1:5) {\n",
    "    deaths1 <- append(deaths1, values = rep(n.deaths[i], times = y1[i]))\n",
    "    deaths2 <- append(deaths2, values = rep(n.deaths[i], times = y2[i]))\n",
    "}\n",
    "\n",
    "hist(deaths1, col = \"cornflowerblue\")\n",
    "hist(deaths2, col = \"deepskyblue\")"
   ]
  },
  {
   "cell_type": "code",
   "execution_count": 13,
   "id": "b8b962b7-6387-48e9-bf55-381335fe4a45",
   "metadata": {
    "tags": []
   },
   "outputs": [
    {
     "data": {
      "image/png": "[encoded data removed]",
      "text/plain": [
       "Plot with title \"Posterior (uniform prior) = Gamma(alpha = 319, lambda = 480)\""
      ]
     },
     "metadata": {
      "image/png": {
       "height": 420,
       "width": 420
      }
     },
     "output_type": "display_data"
    }
   ],
   "source": [
    "# we already proved some homeworks ago that if two datasets related to the same experiment are collected \n",
    "# indepentently in different times then we can consider them as a single dataset and perform a single \n",
    "# \"collective\" inference; even ignoring this result we can easily show that (inf. wrt n1) + (inf. wrt n2) = (inf. wrt n1+n2)\n",
    "# Indeed if we multiply two gamma dist. the resulting function will be another gamma dist. with parameters\n",
    "# equal to the sum of the parameters of the previous gammas\n",
    "\n",
    "# POSTERIOR COMPUTATION:\n",
    "alpha.uniform <- sum(deaths1) + sum(deaths2) + 1\n",
    "lambda.uniform <- length(deaths1) + length(deaths2)\n",
    "\n",
    "posterior.uniform.prior <- function(mu) dgamma(x = mu, shape = alpha.uniform, rate = lambda.uniform)\n",
    "\n",
    "mu.vector <- seq(0, 4, length.out = 1000)\n",
    "plot(mu.vector, posterior.uniform.prior(mu.vector), type = \"l\", col = \"cornflowerblue\", lwd = 3, main = sprintf(\"Posterior (uniform prior) = Gamma(alpha = %i, lambda = %i)\", alpha.uniform, lambda.uniform), xlab = expression(mu), ylab = \"\")\n",
    "lines(mu.vector, rep(1, times = length(mu.vector)), lwd = 3, col = \"deepskyblue\")\n",
    "legend(x = 3, y = 11, legend = c(\"prior\", \"posterior\"), lty = rep(1, 2), lwd = rep(3, 2), col = c(\"deepskyblue\", \"cornflowerblue\"))"
   ]
  },
  {
   "cell_type": "code",
   "execution_count": 14,
   "id": "f79925a8-57df-4375-b56b-210ddc216f74",
   "metadata": {},
   "outputs": [
    {
     "name": "stdout",
     "output_type": "stream",
     "text": [
      "[1] \"The posterior obtained from a uniform prior is a Gamma(319, 480) distribution with:\"\n"
     ]
    },
    {
     "data": {
      "text/html": [
       "<dl>\n",
       "\t<dt>$mean</dt>\n",
       "\t\t<dd>0.664583333333333</dd>\n",
       "\t<dt>$mode</dt>\n",
       "\t\t<dd>0.6625</dd>\n",
       "\t<dt>$var</dt>\n",
       "\t\t<dd>0.00138454861111111</dd>\n",
       "</dl>\n"
      ],
      "text/latex": [
       "\\begin{description}\n",
       "\\item[\\$mean] 0.664583333333333\n",
       "\\item[\\$mode] 0.6625\n",
       "\\item[\\$var] 0.00138454861111111\n",
       "\\end{description}\n"
      ],
      "text/markdown": [
       "$mean\n",
       ":   0.664583333333333\n",
       "$mode\n",
       ":   0.6625\n",
       "$var\n",
       ":   0.00138454861111111\n",
       "\n",
       "\n"
      ],
      "text/plain": [
       "$mean\n",
       "[1] 0.6645833\n",
       "\n",
       "$mode\n",
       "[1] 0.6625\n",
       "\n",
       "$var\n",
       "[1] 0.001384549\n"
      ]
     },
     "metadata": {},
     "output_type": "display_data"
    }
   ],
   "source": [
    "# if we have the gamma distribution's alpha and lambda parameters we can easily compute the mode,\n",
    "# mean and variance using the aforementioned formulae\n",
    "\n",
    "compute.gamma.quantities <- function(alpha, lambda) {\n",
    "    mean <-  alpha/lambda\n",
    "    mode <- (alpha - 1)/lambda\n",
    "    var  <-  alpha/lambda^2\n",
    "    return (list(mean = mean, mode = mode, var = var))\n",
    "}\n",
    "\n",
    "print(sprintf(\"The posterior obtained from a uniform prior is a Gamma(%i, %i) distribution with:\", alpha.uniform, lambda.uniform))\n",
    "l.uniform.prior <- compute.gamma.quantities(alpha.uniform, lambda.uniform)\n",
    "l.uniform.prior"
   ]
  },
  {
   "cell_type": "code",
   "execution_count": 15,
   "id": "68eada7b-a9a9-4b18-94d4-1ff5ce9e85b1",
   "metadata": {},
   "outputs": [
    {
     "name": "stdout",
     "output_type": "stream",
     "text": [
      "[1] \"area under the posterior between 0.590 and 0.739 = 0.955\"\n"
     ]
    },
    {
     "data": {
      "image/png": "[encoded data removed]",
      "text/plain": [
       "Plot with title \"Posterior (uniform prior) = Gamma(alpha = 319, lambda = 480)\""
      ]
     },
     "metadata": {
      "image/png": {
       "height": 420,
       "width": 420
      }
     },
     "output_type": "display_data"
    }
   ],
   "source": [
    "# finally to compute the 95% credibility integral we can approximate our posterior to a gaussian with the\n",
    "# same mean and variance, then exploit the fact that 95% of the area under a gaussian is contained between\n",
    "# mean +- 2*sd\n",
    "\n",
    "m.u <- l.uniform.prior$mean; s.u <- sqrt(l.uniform.prior$var)\n",
    "a.u <- m.u - 2*s.u; b.u <- m.u + 2*s.u\n",
    "area.u <- integrate(posterior.uniform.prior, a.u, b.u)$value\n",
    "print(sprintf(\"area under the posterior between %.3f and %.3f = %.3f\", a.u, b.u, area.u))\n",
    "\n",
    "x <- seq(0, 1.4, length.out = 1000)\n",
    "plot(x, posterior.uniform.prior(x), type = \"l\", col = \"cornflowerblue\", lwd = 3, main = sprintf(\"Posterior (uniform prior) = Gamma(alpha = %i, lambda = %i)\", alpha.uniform, lambda.uniform), xlab = expression(mu), ylab = \"\")\n",
    "abline(v = m.u, col = \"deepskyblue\", lwd = 3)\n",
    "abline(v = a.u, col = \"red\", lwd = 3)\n",
    "abline(v = b.u, col = \"darkgreen\", lwd = 3)\n",
    "legend(x = 0.95, y = 11, legend = c(\"posterior\", \"mean\", \"mean - 2*sd\", \"mean + 2*sd\"), lty = rep(1, 4), lwd = rep(3, 4), col = c(\"cornflowerblue\", \"deepskyblue\", \"red\", \"darkgreen\"))"
   ]
  },
  {
   "cell_type": "markdown",
   "id": "4ad938ae-aa9d-4b9a-bd32-403bf7265f63",
   "metadata": {},
   "source": [
    "### Jeffrey's prior\n",
    "This time the prior is $g(\\mu) \\propto \\mu^{-1/2}$; when we multiply this by the Poisson likelihood we obtain the following posterior:\n",
    "\\begin{equation}\n",
    "  P(\\mu | \\{y_i\\}) \\propto \\mu^{\\left(\\sum_{i=1}^n y_i\\right)-1/2} \\cdot e^{-n\\mu}\n",
    "\\end{equation}\n",
    "Once again we notice this is none other than a gamma distribution with $\\alpha = \\sum_{i=1}^n y_i + 1/2$ and $\\lambda = n$, so we can easily recycle the above code."
   ]
  },
  {
   "cell_type": "code",
   "execution_count": 16,
   "id": "7a2e8909-0bc5-4896-a521-3f77b905e68c",
   "metadata": {},
   "outputs": [
    {
     "data": {
      "image/png": "[encoded data removed]",
      "text/plain": [
       "Plot with title \"Posterior (Jeffrey's prior) = Gamma(alpha = 318.5, lambda = 480)\""
      ]
     },
     "metadata": {
      "image/png": {
       "height": 420,
       "width": 420
      }
     },
     "output_type": "display_data"
    }
   ],
   "source": [
    "alpha.jeffrey <- sum(deaths1) + sum(deaths2) + 1/2\n",
    "lambda.jeffrey <- length(deaths1) + length(deaths2)\n",
    "\n",
    "posterior.jeffrey.prior <- function(mu) dgamma(x = mu, shape = alpha.jeffrey, rate = lambda.jeffrey)\n",
    "\n",
    "mu.vector <- seq(0, 4, length.out = 1000)\n",
    "plot(mu.vector, posterior.jeffrey.prior(mu.vector), type = \"l\", col = \"cornflowerblue\", lwd = 3, main = sprintf(\"Posterior (Jeffrey's prior) = Gamma(alpha = %.1f, lambda = %i)\", alpha.jeffrey, lambda.jeffrey), xlab = expression(mu), ylab = \"\")\n",
    "lines(mu.vector, 1/sqrt(mu.vector), lwd = 3, col = \"deepskyblue\")\n",
    "legend(x = 3, y = 11, legend = c(\"prior\", \"posterior\"), lty = rep(1, 2), lwd = rep(3, 2), col = c(\"deepskyblue\", \"cornflowerblue\"))"
   ]
  },
  {
   "cell_type": "code",
   "execution_count": 17,
   "id": "a9bcb7c9-4f94-4439-b33f-e6d55cdd14ae",
   "metadata": {},
   "outputs": [
    {
     "name": "stdout",
     "output_type": "stream",
     "text": [
      "[1] \"The posterior obtained from Jeffrey's prior is a Gamma(318.5, 480) distribution with:\"\n"
     ]
    },
    {
     "data": {
      "text/html": [
       "<dl>\n",
       "\t<dt>$mean</dt>\n",
       "\t\t<dd>0.663541666666667</dd>\n",
       "\t<dt>$mode</dt>\n",
       "\t\t<dd>0.661458333333333</dd>\n",
       "\t<dt>$var</dt>\n",
       "\t\t<dd>0.00138237847222222</dd>\n",
       "</dl>\n"
      ],
      "text/latex": [
       "\\begin{description}\n",
       "\\item[\\$mean] 0.663541666666667\n",
       "\\item[\\$mode] 0.661458333333333\n",
       "\\item[\\$var] 0.00138237847222222\n",
       "\\end{description}\n"
      ],
      "text/markdown": [
       "$mean\n",
       ":   0.663541666666667\n",
       "$mode\n",
       ":   0.661458333333333\n",
       "$var\n",
       ":   0.00138237847222222\n",
       "\n",
       "\n"
      ],
      "text/plain": [
       "$mean\n",
       "[1] 0.6635417\n",
       "\n",
       "$mode\n",
       "[1] 0.6614583\n",
       "\n",
       "$var\n",
       "[1] 0.001382378\n"
      ]
     },
     "metadata": {},
     "output_type": "display_data"
    }
   ],
   "source": [
    "print(sprintf(\"The posterior obtained from Jeffrey's prior is a Gamma(%.1f, %i) distribution with:\", alpha.jeffrey, lambda.jeffrey))\n",
    "l.jeffrey.prior <- compute.gamma.quantities(alpha.jeffrey, lambda.jeffrey)\n",
    "l.jeffrey.prior"
   ]
  },
  {
   "cell_type": "code",
   "execution_count": 18,
   "id": "a53b980f-c2bb-4859-99f6-68baf2e07cdb",
   "metadata": {},
   "outputs": [
    {
     "name": "stdout",
     "output_type": "stream",
     "text": [
      "[1] \"area under the posterior between 0.589 and 0.738 = 0.955\"\n"
     ]
    },
    {
     "data": {
      "image/png": "[encoded data removed]",
      "text/plain": [
       "Plot with title \"Posterior (Jeffrey's prior) = Gamma(alpha = 318.5, lambda = 480)\""
      ]
     },
     "metadata": {
      "image/png": {
       "height": 420,
       "width": 420
      }
     },
     "output_type": "display_data"
    }
   ],
   "source": [
    "m.j <- l.jeffrey.prior$mean; s.j <- sqrt(l.jeffrey.prior$var)\n",
    "a.j <- m.j - 2*s.j; b.j <- m.j + 2*s.j\n",
    "area.j <- integrate(posterior.jeffrey.prior, a.j, b.j)$value\n",
    "print(sprintf(\"area under the posterior between %.3f and %.3f = %.3f\", a.j, b.j, area.j))\n",
    "\n",
    "x <- seq(0, 1.4, length.out = 1000)\n",
    "plot(x, posterior.jeffrey.prior(x), type = \"l\", col = \"cornflowerblue\", lwd = 3, main = sprintf(\"Posterior (Jeffrey's prior) = Gamma(alpha = %.1f, lambda = %i)\", alpha.jeffrey, lambda.jeffrey), xlab = expression(mu), ylab = \"\")\n",
    "abline(v = m.j, col = \"deepskyblue\", lwd = 3)\n",
    "abline(v = a.j, col = \"red\", lwd = 3)\n",
    "abline(v = b.j, col = \"darkgreen\", lwd = 3)\n",
    "legend(x = 0.95, y = 11, legend = c(\"posterior\", \"mean\", \"mean - 2*sd\", \"mean + 2*sd\"), lty = rep(1, 4), lwd = rep(3, 4), col = c(\"cornflowerblue\", \"deepskyblue\", \"red\", \"darkgreen\"))"
   ]
  },
  {
   "cell_type": "markdown",
   "id": "1a1f6996-fa88-47aa-aad7-ac6b9980e451",
   "metadata": {},
   "source": [
    "## Ex. 3: water quality\n",
    "Similarly to the first exercise we can assume that $y$ (the number of observed bacteria in a sample) is a random variable sampled from a binomial distribution parametrized by a certain $p$; $p$ is unknown but fixed in the frequentist approach, and a random variable distributed according to a certain posterior in the bayesian one.\n",
    "### 3.1: frequentist estimator for $p$\n",
    "Exactly like in ex. 1 an unbiased estimator for the bias of a binomial likelihood is the ratio of observed successes/n. of samples, i.e. $y/n$."
   ]
  },
  {
   "cell_type": "code",
   "execution_count": 19,
   "id": "95739f51-484d-466d-b23a-b04aace1d707",
   "metadata": {},
   "outputs": [
    {
     "name": "stdout",
     "output_type": "stream",
     "text": [
      "[1] \"frequentist estimator for p: 0.0948275862068965\"\n"
     ]
    }
   ],
   "source": [
    "y  <- 11; n <- 116 # cfr problem text\n",
    "pf <- y/n\n",
    "print(paste(\"frequentist estimator for p:\", pf))"
   ]
  },
  {
   "cell_type": "markdown",
   "id": "a1989356-35d8-4c96-b421-967126fd46f9",
   "metadata": {},
   "source": [
    "### 3.2 & 3.3: Bayesian inference of $p$\n",
    "As in ex. 1 to tackle this problem from a bayesian point of view we need to compute the posterior, which is easily done if we choose a beta prior (since this family of distribution is conjugate to the binomial likelihood, as already mentioned); using the simple update rules we obtain that the posterior is a beta distribution with $\\alpha' = \\alpha + y$, $\\beta' = \\beta + n - y$."
   ]
  },
  {
   "cell_type": "code",
   "execution_count": 20,
   "id": "aaf3e8d8-6001-46a6-9708-99c6f39f43f7",
   "metadata": {},
   "outputs": [
    {
     "name": "stdout",
     "output_type": "stream",
     "text": [
      "[1] \"prior alpha, beta parameters =  1 and 10\"\n",
      "[1] \"posterior alpha, beta parameters =  12 and 115\"\n"
     ]
    }
   ],
   "source": [
    "alpha.prior <- 1; beta.prior <- 10\n",
    "alpha.posterior <- alpha.prior + y; beta.posterior <- beta.prior + n - y\n",
    "\n",
    "print(paste(\"prior alpha, beta parameters = \", alpha.prior, \"and\", beta.prior))\n",
    "print(paste(\"posterior alpha, beta parameters = \", alpha.posterior, \"and\", beta.posterior))"
   ]
  },
  {
   "cell_type": "code",
   "execution_count": 21,
   "id": "b67185b6-205e-4356-aac3-917a0f28d548",
   "metadata": {},
   "outputs": [
    {
     "name": "stdout",
     "output_type": "stream",
     "text": [
      "[1] \"most probable value for p (MAP estimator i.e. posterior mode) = 0.088\"\n",
      "[1] \"posterior mean = 0.094, posterior var = 0.001\"\n"
     ]
    },
    {
     "data": {
      "image/png": "[encoded data removed]",
      "text/plain": [
       "Plot with title \"beta prior & posterior\""
      ]
     },
     "metadata": {
      "image/png": {
       "height": 420,
       "width": 420
      }
     },
     "output_type": "display_data"
    }
   ],
   "source": [
    "prior <- function(p) dbeta(x = p, shape1 = alpha.prior, shape2 = beta.prior)\n",
    "posterior <- function(p) dbeta(x = p, shape1 = alpha.posterior, shape2 = beta.posterior)\n",
    "mode.posterior <- (alpha.posterior - 1)/(alpha.posterior + beta.posterior -2) # this time we use the analytical formula instead of a numerical estimation using which.max\n",
    "print(sprintf(\"most probable value for p (MAP estimator i.e. posterior mode) = %.3f\", mode.posterior))\n",
    "\n",
    "# we can compute mean and variance exactly using the formulae of the beta distribution\n",
    "mean.posterior <- alpha.posterior/(alpha.posterior + beta.posterior)\n",
    "var.posterior  <- alpha.posterior*beta.posterior/((alpha.posterior + beta.posterior)^2*(alpha.posterior + beta.posterior + 1))\n",
    "print(sprintf(\"posterior mean = %.3f, posterior var = %.3f\", mean.posterior, var.posterior))\n",
    "\n",
    "p.vector <- seq(0, 0.4, length.out = 1000) # in theory this should be seq(0, 1, ...), but since for p > 0.5 everything is basically 0 I'm cutting that part out so one can see more clearly. cfr ex. 1\n",
    "plot(p.vector, prior(p.vector), type = \"l\", lwd = 3, col = \"darkgreen\", ylim = c(0, 16), main = \"beta prior & posterior\", xlab = \"p\", ylab = \"\")\n",
    "lines(p.vector, posterior(p.vector), lwd = 3, col = \"deepskyblue\")\n",
    "abline(v = mode.posterior, col = \"red\", lwd = 2.5)\n",
    "abline(v = mean.posterior, col = \"black\", lwd = 2.5)\n",
    "\n",
    "# use x = 0.5 if p.vector is seq(0, 1, ...)\n",
    "legend(x = 0.2, y = 16, legend = c(sprintf(\"prior = beta(%i, %i)\", alpha.prior, beta.prior), sprintf(\"posterior = beta(%i, %i)\", alpha.posterior, beta.posterior), sprintf(\"posterior mode = %.3f\", mode.posterior), sprintf(\"posterior mean = %.3f\", mean.posterior)), lty = rep(1, times = 4), lwd = c(3, 3, 2.5, 2.5), col = c(\"darkgreen\", \"deepskyblue\", \"red\", \"black\"))"
   ]
  },
  {
   "cell_type": "code",
   "execution_count": 22,
   "id": "057e1ef9-bee8-4168-bc04-b212d647797c",
   "metadata": {},
   "outputs": [
    {
     "name": "stdout",
     "output_type": "stream",
     "text": [
      "[1] \"the ratio between the frequentist estimator and the posterior mean is 1.00359195402299\"\n",
      "[1] \"this means the frequentist and bayesian estimators are basically identical\"\n"
     ]
    }
   ],
   "source": [
    "print(paste(\"the ratio between the frequentist estimator and the posterior mean is\", pf/mean.posterior))\n",
    "print(\"this means the frequentist and bayesian estimators are basically identical\")"
   ]
  },
  {
   "cell_type": "code",
   "execution_count": 23,
   "id": "325ac08a-198d-4ebd-bb56-04bba7b3b30e",
   "metadata": {},
   "outputs": [
    {
     "name": "stdout",
     "output_type": "stream",
     "text": [
      "[1] \"area under the posterior between 0.043 and 0.146 = 0.958\"\n"
     ]
    },
    {
     "data": {
      "image/png": "[encoded data removed]",
      "text/plain": [
       "Plot with title \"posterior 95% c.i.\""
      ]
     },
     "metadata": {
      "image/png": {
       "height": 420,
       "width": 420
      }
     },
     "output_type": "display_data"
    }
   ],
   "source": [
    "# credibility interval: once again we can exploit a 2 sigma gaussian approximation\n",
    "\n",
    "m <- mean.posterior; s <- sqrt(var.posterior)\n",
    "a <- m - 2*s; b <- m + 2*s\n",
    "\n",
    "area <- integrate(posterior, a, b)$value\n",
    "print(sprintf(\"area under the posterior between %.3f and %.3f = %.3f\", a, b, area))\n",
    "\n",
    "x <- seq(0, 0.3, length.out = 1000)\n",
    "plot(x, posterior(x), type = \"l\", col = \"cornflowerblue\", lwd = 3, main = \"posterior 95% c.i.\", xlab = \"p\", ylab = \"\")\n",
    "abline(v = m, col = \"red\", lwd = 2.5)\n",
    "abline(v = m - 2*s, col = \"aquamarine2\", lwd = 2.5)\n",
    "abline(v = m + 2*s, col = \"coral1\", lwd = 2.5)\n",
    "\n",
    "legend(x = 0.155, y = 15, legend = c(sprintf(\"posterior = beta(%i, %i)\", alpha.posterior, beta.posterior), sprintf(\"posterior mean = %.3f\", mean.posterior), sprintf(\"mean - 2*sd = %.3f\", m - 2*s), sprintf(\"mean + 2*sd = %.3f\", m + 2*s)), lty = rep(1, 4), lwd = c(3, 2.5, 2.5, 2.5), col = c(\"cornflowerblue\", \"red\", \"aquamarine2\", \"coral1\"))"
   ]
  },
  {
   "cell_type": "markdown",
   "id": "387e15ac-c051-46bb-8fd8-971a2517f274",
   "metadata": {},
   "source": [
    "### 3.4: frequentist vs bayesian hypothesis testing with $\\alpha = 5\\%$\n",
    "In both cases we need to accept/reject the null hypothesis $H_0: p = 0.1$.            \n",
    "*Bayesian approach*: we already computed the $95\\% = 1-\\alpha$ area under the posterior, which corresponds to the interval $[0.043, 0.146]$; this is the acceptance region, where with probability $1-\\alpha$ we can be confident $p$ resides. If $p_0=0.1$ was outside this interval we could conclude that $P(H_0|y)\\leq 5\\%$, but since this is not the case we accept the null hypothesis.               \n",
    "*Frequentist approach*: we assume $H_0$ holds and by consequence that the data we observed was generated by a binomial likelihood with $p=0.1$; we then look for two *integer* values $k_1$ and $k_2$ such that the probability of observing $k$ outside the interval $[k_1, k_2]$ is as close as possible to $\\alpha = 5\\%$. The idea is that if our observed $k=y$ is outside the acceptance region then it means that it's too unlikely to observe the data we actually observed with this value of $p$, and therefore that $H_0$ is to be rejected. With some trial and error we find that with $k_1 = 6$ and $k_2 = 20$ the interval $[k_1, k_2]$ contains our observed $k=y=11$ and is such that the probability of observing a $k$ *outside* this range is $0.0538$ - which is *greater* than $\\alpha = 0.05$! This means that $p=0.1$ can still explain the data to the chosen confidence level; this value for the binomial bias isn't \"wrong\" enough to make the data we observed as unlikely as is needed to convince us to reject the null hypothesis, hence even in the frequentist setting we accept $H_0$."
   ]
  },
  {
   "cell_type": "code",
   "execution_count": 24,
   "id": "1a338d12-581a-4748-bc5e-81cf199c8299",
   "metadata": {},
   "outputs": [
    {
     "name": "stdout",
     "output_type": "stream",
     "text": [
      "[1] \"since 0.1 is inside [0.043, 0.146] we accept the null hypothesis\"\n"
     ]
    },
    {
     "data": {
      "image/png": "[encoded data removed]",
      "text/plain": [
       "Plot with title \"Bayesian HT\""
      ]
     },
     "metadata": {
      "image/png": {
       "height": 420,
       "width": 420
      }
     },
     "output_type": "display_data"
    }
   ],
   "source": [
    "# Bayesian H.T.\n",
    "\n",
    "p0 <- 0.1 # the value of p if H0 holds\n",
    "\n",
    "if ((p0 <= a) | (b <= p0)) {\n",
    "    print(sprintf(\"since %.1f is outside [%.3f, %.3f] we reject the null hypothesis\", p0, a, b))\n",
    "} else {\n",
    "    print(sprintf(\"since %.1f is inside [%.3f, %.3f] we accept the null hypothesis\", p0, a, b))\n",
    "}\n",
    "\n",
    "p.vector <- seq(0, 0.25, 0.001)\n",
    "plot(p.vector, posterior(p.vector), type = \"l\", lwd = 3, col = \"cornflowerblue\", ylim = c(0, 16), main = \"Bayesian HT\", xlab = \"p\", ylab = \"\")\n",
    "abline(v = 0.1, lwd = 2.5, col = \"red\")\n",
    "abline(v = mode.posterior, lwd = 2.5, col = \"coral\")\n",
    "abline(v = a, col = \"aquamarine3\", lwd = 2.5)\n",
    "abline(v = b, col = \"aquamarine3\", lwd = 2.5)\n",
    "\n",
    "polygon(x = c(0, p.vector[p.vector <= a], a, a), y = c(0, posterior(p.vector[p.vector <= a]), posterior(a), 0), col = \"aquamarine3\")\n",
    "polygon(x = c(b, b, p.vector[p.vector >= b], 0.25), y = c(0, posterior(b), posterior(p.vector[p.vector >= b]), 0), col = \"aquamarine3\")\n",
    "\n",
    "legend(x = 0.11, y = 16, legend = c(\"p = 0.1\", sprintf(\"most probable inferred p = %.3f\", mode.posterior), \"H0 rejection extrema/region\"), lty = rep(1, 3), lwd = rep(3, 3), col = c(\"red\", \"coral\", \"aquamarine3\"))"
   ]
  },
  {
   "cell_type": "code",
   "execution_count": 25,
   "id": "91ac1f19-d8c7-459f-9fa4-afc58fdd1a4e",
   "metadata": {},
   "outputs": [
    {
     "name": "stdout",
     "output_type": "stream",
     "text": [
      "[1] \"probability of observing y < 6 or > 20 with p = 0.1, n = 116: 0.0538\"\n",
      "[1] \"since 0.0538 is greater than or equal to 0.05 we accept the null hypothesis\"\n"
     ]
    }
   ],
   "source": [
    "# Frequentist H.T.\n",
    "\n",
    "k1 <- 6; k2 <- 20\n",
    "prob = pbinom(k2, size = n, prob = p0) - pbinom(k1, size = n, prob = p0) # P(k1 <= k <= k2) = P(k <= k2) - P(k <= k1)\n",
    "p.value = 1 - prob # p-value = the probability that the observed k = y lies outside the acceptance region if H0 holds\n",
    "# i.e. if the data comes from Binom(p = 0.1)\n",
    "\n",
    "print(sprintf(\"probability of observing y < %i or > %i with p = %.1f, n = %i: %.4f\", k1, k2, p0, n, p.value))\n",
    "\n",
    "significance <- 0.05\n",
    "if (p.value < significance) {\n",
    "    print(sprintf(\"since %.4f is less than %.2f we reject the null hypothesis\", p.value, significance))\n",
    "} else {\n",
    "    print(sprintf(\"since %.4f is greater than or equal to %.2f we accept the null hypothesis\", p.value, significance))\n",
    "}"
   ]
  },
  {
   "cell_type": "code",
   "execution_count": 26,
   "id": "e5eb879a-8f9a-4b0c-b4e4-610f75f309f0",
   "metadata": {},
   "outputs": [
    {
     "data": {
      "image/png": "[encoded data removed]",
      "text/plain": [
       "Plot with title \"F. HT; p-value = P(y<6 or y>20 | p = 0.1, n = 116) = 0.0538\""
      ]
     },
     "metadata": {
      "image/png": {
       "height": 420,
       "width": 420
      }
     },
     "output_type": "display_data"
    }
   ],
   "source": [
    "# this time we need to plot the likelihood, which means we need to plot y (not p) on the x-axis\n",
    "y.vector <- 1:30 # y can only take on integer values\n",
    "fht.vector <- dbinom(y.vector, size = n, prob = p0)\n",
    "\n",
    "plot(y.vector, fht.vector, type = \"b\", col = \"cornflowerblue\", lwd = 2, xlab = \"y\", ylab = \"\", main = sprintf(\"F. HT; p-value = P(y<%i or y>%i | p = %.1f, n = %i) = %.4f\", k1, k2, p0, n, p.value))\n",
    "\n",
    "abline(v = k1, col = \"aquamarine3\", lwd = 2.5); abline(v = k2, col = \"aquamarine3\", lwd = 2.5)\n",
    "abline(v = y, col = \"magenta\", lwd = 2.5)\n",
    "\n",
    "exp.val <- round(p0*n)\n",
    "abline(v = exp.val, col = \"red\", lwd = 2.5)\n",
    "\n",
    "polygon(x = c(0, y.vector[y.vector <= k1], k1), y = c(0, fht.vector[y.vector <= k1], 0), col = \"aquamarine3\")\n",
    "polygon(x = c(k2, y.vector[y.vector >= k2], 0), y = c(0, fht.vector[y.vector >= k2], 0), col = \"aquamarine3\")\n",
    "\n",
    "legend(x = 16, y = 0.12, legend = c(sprintf(\"Binom(p = %.1f) likelihood\", p0), sprintf(\"E[y] if p = p0: %i\", exp.val), sprintf(\"observed y = %i\", y), sprintf(\"k1 = %i\", k1), sprintf(\"k2 = %i\", k2)), lty = rep(1, 5), col = c(\"cornflowerblue\", \"red\", \"magenta\", rep(\"aquamarine3\", 2)))"
   ]
  },
  {
   "cell_type": "markdown",
   "id": "efc2c530-f5e0-40cc-beec-333b3d434dfc",
   "metadata": {},
   "source": [
    "To recap: in the bayesian approach we do a standard inference of $p$ and compute in which interval we can be $(1-\\alpha) \\cdot 100\\%$ confident $p$ lies; if $p_0$ is **not** in this interval it means that the probability $H_0$ holds is too low and we have to reject it. Since we found that $p_0$ is **not** outside the most probable interval it means that our data isn't \"extreme\" enough to force us to discard $H_0$.             \n",
    "In the frequentist approach we instead ask ourselves: if $H_0$ holds then how likeliy/unlikely is it to observe the data we actually observed? If we find that the probability of observing our data is too low (smaller than $\\alpha$) then it means that $H_0$ cannot satisfyingly explain the data, and therefore that $p_0$ is definitely wrong and that we have to reject the null hypothesis. Once again we found that the data isn't \"extreme\" enough to reject $H_0$.          \n",
    "\n",
    "These results are hardly surprising: the Bayesian (MAP) estimator for $p$ is $0.088$ i.e. very close to $0.1$, and the same is true for the frequentist (MLE) estimator since we observed $y=11$ - which is almost equal to $E[y] = np_0 = \\text{int}(11.6)=12$.\n",
    "                  \n",
    "Notice that in both setting we look for some probability distribution and investigate its tails, i.e. the most unlikely regions, and say that if our data-driven estimators lie there then the hypothesis is too unlikely to be true; the difference is whether this distribution is the posterior or the likelihood, i.e. whether we incorporate the prior or not."
   ]
  },
  {
   "cell_type": "markdown",
   "id": "f40bc247-83b9-45b4-b224-5b41c39a99d9",
   "metadata": {},
   "source": [
    "### 3.5-3.8: new data\n",
    "To conclude the exercise we recycle everything with the new values $y' = 9$, $n' = 165$."
   ]
  },
  {
   "cell_type": "markdown",
   "id": "ce8bd6c4-8a73-48cf-aa5c-dc68978d7f9c",
   "metadata": {},
   "source": [
    "### 3.5: frequentist estimator for $p$ (new data)"
   ]
  },
  {
   "cell_type": "code",
   "execution_count": 27,
   "id": "55f244b0-65c8-45d2-a721-71847aa566d1",
   "metadata": {},
   "outputs": [
    {
     "name": "stdout",
     "output_type": "stream",
     "text": [
      "[1] \"frequentist estimator for p: 0.0545454545454545\"\n"
     ]
    }
   ],
   "source": [
    "# frequentist estimator for p\n",
    "y  <- 9; n <- 165 # cfr problem text\n",
    "pf <- y/n\n",
    "print(paste(\"frequentist estimator for p:\", pf))"
   ]
  },
  {
   "cell_type": "markdown",
   "id": "802b6e6c-8d2c-439e-9270-64860cfd8b81",
   "metadata": {},
   "source": [
    "### 3.6 & 3.7: Bayesian inference of $p$"
   ]
  },
  {
   "cell_type": "code",
   "execution_count": 28,
   "id": "0b185122-a43d-4766-905d-a57ee3156362",
   "metadata": {},
   "outputs": [
    {
     "name": "stdout",
     "output_type": "stream",
     "text": [
      "[1] \"prior alpha, beta parameters =  1 and 10\"\n",
      "[1] \"posterior alpha, beta parameters =  10 and 166\"\n"
     ]
    }
   ],
   "source": [
    "alpha.prior <- 1; beta.prior <- 10\n",
    "alpha.posterior <- alpha.prior + y; beta.posterior <- beta.prior + n - y\n",
    "\n",
    "print(paste(\"prior alpha, beta parameters = \", alpha.prior, \"and\", beta.prior))\n",
    "print(paste(\"posterior alpha, beta parameters = \", alpha.posterior, \"and\", beta.posterior))"
   ]
  },
  {
   "cell_type": "code",
   "execution_count": 29,
   "id": "b0e2de98-28b9-41ad-a3e3-019b4fb9021e",
   "metadata": {},
   "outputs": [
    {
     "name": "stdout",
     "output_type": "stream",
     "text": [
      "[1] \"most probable value for p (MAP estimator i.e. posterior mode) = 0.052\"\n",
      "[1] \"posterior mean = 0.057, posterior var = 0.00030\"\n"
     ]
    },
    {
     "data": {
      "image/png": "[encoded data removed]",
      "text/plain": [
       "Plot with title \"beta prior & posterior\""
      ]
     },
     "metadata": {
      "image/png": {
       "height": 420,
       "width": 420
      }
     },
     "output_type": "display_data"
    }
   ],
   "source": [
    "prior <- function(p) dbeta(x = p, shape1 = alpha.prior, shape2 = beta.prior)\n",
    "posterior <- function(p) dbeta(x = p, shape1 = alpha.posterior, shape2 = beta.posterior)\n",
    "mode.posterior <- (alpha.posterior - 1)/(alpha.posterior + beta.posterior -2) # this time we use the analytical formula instead of a numerical estimation using which.max\n",
    "print(sprintf(\"most probable value for p (MAP estimator i.e. posterior mode) = %.3f\", mode.posterior))\n",
    "\n",
    "# we can compute mean and variance exactly using the formulae of the beta distribution\n",
    "mean.posterior <- alpha.posterior/(alpha.posterior + beta.posterior)\n",
    "var.posterior  <- alpha.posterior*beta.posterior/((alpha.posterior + beta.posterior)^2*(alpha.posterior + beta.posterior + 1))\n",
    "print(sprintf(\"posterior mean = %.3f, posterior var = %.5f\", mean.posterior, var.posterior))\n",
    "\n",
    "p.vector <- seq(0, 0.4, length.out = 1000) # in theory this should be seq(0, 1, ...), but since for p > 0.5 everything is basically 0 I'm cutting that part out so one can see more clearly. cfr ex. 1\n",
    "plot(p.vector, prior(p.vector), type = \"l\", lwd = 3, col = \"darkgreen\", ylim = c(0, 25), main = \"beta prior & posterior\", xlab = \"p\", ylab = \"\")\n",
    "lines(p.vector, posterior(p.vector), lwd = 3, col = \"deepskyblue\")\n",
    "abline(v = mode.posterior, col = \"red\", lwd = 2.5)\n",
    "abline(v = mean.posterior, col = \"black\", lwd = 2.5)\n",
    "\n",
    "# use x = 0.5 if p.vector is seq(0, 1, ...)\n",
    "legend(x = 0.2, y = 25, legend = c(sprintf(\"prior = beta(%i, %i)\", alpha.prior, beta.prior), sprintf(\"posterior = beta(%i, %i)\", alpha.posterior, beta.posterior), sprintf(\"posterior mode = %.3f\", mode.posterior), sprintf(\"posterior mean = %.3f\", mean.posterior)), lty = rep(1, times = 4), lwd = c(3, 3, 2.5, 2.5), col = c(\"darkgreen\", \"deepskyblue\", \"red\", \"black\"))"
   ]
  },
  {
   "cell_type": "code",
   "execution_count": 30,
   "id": "f356f860-ce61-4ee6-a707-f174cb59afa9",
   "metadata": {},
   "outputs": [
    {
     "name": "stdout",
     "output_type": "stream",
     "text": [
      "[1] \"the ratio between the frequentist estimator and the posterior mean is 0.96\"\n",
      "[1] \"this means the frequentist and bayesian estimators are basically identical\"\n"
     ]
    }
   ],
   "source": [
    "print(paste(\"the ratio between the frequentist estimator and the posterior mean is\", pf/mean.posterior))\n",
    "print(\"this means the frequentist and bayesian estimators are basically identical\")"
   ]
  },
  {
   "cell_type": "code",
   "execution_count": 31,
   "id": "68f95cb6-ad05-436b-b904-6637dbc4c7de",
   "metadata": {},
   "outputs": [
    {
     "name": "stdout",
     "output_type": "stream",
     "text": [
      "[1] \"area under the posterior between 0.022 and 0.092 = 0.958\"\n"
     ]
    },
    {
     "data": {
      "image/png": "[encoded data removed]",
      "text/plain": [
       "Plot with title \"posterior 95% c.i.\""
      ]
     },
     "metadata": {
      "image/png": {
       "height": 420,
       "width": 420
      }
     },
     "output_type": "display_data"
    }
   ],
   "source": [
    "# credibility interval: once again we can exploit a 2 sigma gaussian approximation\n",
    "\n",
    "m <- mean.posterior; s <- sqrt(var.posterior)\n",
    "a <- m - 2*s; b <- m + 2*s\n",
    "\n",
    "area <- integrate(posterior, a, b)$value\n",
    "print(sprintf(\"area under the posterior between %.3f and %.3f = %.3f\", a, b, area))\n",
    "\n",
    "x <- seq(0, 0.3, length.out = 1000)\n",
    "plot(x, posterior(x), type = \"l\", col = \"cornflowerblue\", lwd = 3, main = \"posterior 95% c.i.\", xlab = \"p\", ylab = \"\")\n",
    "abline(v = m, col = \"red\", lwd = 2.5)\n",
    "abline(v = m - 2*s, col = \"aquamarine2\", lwd = 2.5)\n",
    "abline(v = m + 2*s, col = \"coral1\", lwd = 2.5)\n",
    "\n",
    "legend(x = 0.155, y = 23, legend = c(sprintf(\"posterior = beta(%i, %i)\", alpha.posterior, beta.posterior), sprintf(\"posterior mean = %.3f\", mean.posterior), sprintf(\"mean - 2*sd = %.3f\", m - 2*s), sprintf(\"mean + 2*sd = %.3f\", m + 2*s)), lty = rep(1, 4), lwd = c(3, 2.5, 2.5, 2.5), col = c(\"cornflowerblue\", \"red\", \"aquamarine2\", \"coral1\"))"
   ]
  },
  {
   "cell_type": "markdown",
   "id": "81233734-74b8-4f2a-a6be-bded6b923908",
   "metadata": {},
   "source": [
    "### 3.8: frequentist vs bayesian hypothesis testing with $\\alpha = 5\\%$"
   ]
  },
  {
   "cell_type": "code",
   "execution_count": 32,
   "id": "472af3c5-87de-4484-859d-92ebcab67cc3",
   "metadata": {},
   "outputs": [
    {
     "name": "stdout",
     "output_type": "stream",
     "text": [
      "[1] \"since 0.1 is outside [0.022, 0.092] we reject the null hypothesis\"\n"
     ]
    },
    {
     "data": {
      "image/png": "[encoded data removed]",
      "text/plain": [
       "Plot with title \"Bayesian HT\""
      ]
     },
     "metadata": {
      "image/png": {
       "height": 420,
       "width": 420
      }
     },
     "output_type": "display_data"
    }
   ],
   "source": [
    "# Bayesian H.T.\n",
    "\n",
    "p0 <- 0.1 # the value of p if H0 holds\n",
    "\n",
    "if ((p0 <= a) | (b <= p0)) {\n",
    "    print(sprintf(\"since %.1f is outside [%.3f, %.3f] we reject the null hypothesis\", p0, a, b))\n",
    "} else {\n",
    "    print(sprintf(\"since %.1f is inside [%.3f, %.3f] we accept the null hypothesis\", p0, a, b))\n",
    "}\n",
    "\n",
    "p.vector <- seq(0, 0.25, 0.001)\n",
    "plot(p.vector, posterior(p.vector), type = \"l\", lwd = 3, col = \"cornflowerblue\", main = \"Bayesian HT\", xlab = \"p\", ylab = \"\")\n",
    "abline(v = 0.1, lwd = 2.5, col = \"red\")\n",
    "abline(v = mode.posterior, lwd = 2.5, col = \"coral\")\n",
    "abline(v = a, col = \"aquamarine3\", lwd = 2.5)\n",
    "abline(v = b, col = \"aquamarine3\", lwd = 2.5)\n",
    "\n",
    "polygon(x = c(0, p.vector[p.vector <= a], a, a), y = c(0, posterior(p.vector[p.vector <= a]), posterior(a), 0), col = \"aquamarine3\")\n",
    "polygon(x = c(b, b, p.vector[p.vector >= b], 0.25), y = c(0, posterior(b), posterior(p.vector[p.vector >= b]), 0), col = \"aquamarine3\")\n",
    "\n",
    "legend(x = 0.11, y = 16, legend = c(\"p = 0.1\", sprintf(\"most probable inferred p = %.3f\", mode.posterior), \"H0 rejection extrema/region\"), lty = rep(1, 3), lwd = rep(3, 3), col = c(\"red\", \"coral\", \"aquamarine3\"))"
   ]
  },
  {
   "cell_type": "code",
   "execution_count": 33,
   "id": "fb06e8a0-3cba-40a3-a8c5-a9dfd1e6b88f",
   "metadata": {},
   "outputs": [
    {
     "name": "stdout",
     "output_type": "stream",
     "text": [
      "[1] \"probability of observing y < 9 or > 25 with p = 0.1, n = 165: 0.0409\"\n",
      "[1] \"since 0.0409 is less than 0.05 we reject the null hypothesis\"\n"
     ]
    },
    {
     "data": {
      "image/png": "[encoded data removed]",
      "text/plain": [
       "Plot with title \"F. HT; p-value = P(y<9 or y>25 | p = 0.1, n = 165) = 0.0409\""
      ]
     },
     "metadata": {
      "image/png": {
       "height": 420,
       "width": 420
      }
     },
     "output_type": "display_data"
    }
   ],
   "source": [
    "# Frequentist H.T.\n",
    "\n",
    "exp.val <- round(p0*n)\n",
    "delta <- 8\n",
    "k1 <- exp.val - delta + 1; k2 <- exp.val + delta + 1\n",
    "prob = pbinom(k2, size = n, prob = p0) - pbinom(k1, size = n, prob = p0) # P(k1 <= k <= k2) = P(k <= k2) - P(k <= k1)\n",
    "p.value = 1 - prob # p-value = the probability that the observed k = y lies outside the acceptance region if H0 holds\n",
    "# i.e. if the data comes from Binom(p = 0.1)\n",
    "\n",
    "#print(abs(p.value - significance))\n",
    "\n",
    "print(sprintf(\"probability of observing y < %i or > %i with p = %.1f, n = %i: %.4f\", k1, k2, p0, n, p.value))\n",
    "\n",
    "significance <- 0.05\n",
    "if (p.value < significance) {\n",
    "    print(sprintf(\"since %.4f is less than %.2f we reject the null hypothesis\", p.value, significance))\n",
    "} else {\n",
    "    print(sprintf(\"since %.4f is greater than or equal to %.2f we accept the null hypothesis\", p.value, significance))\n",
    "}\n",
    "\n",
    "y.vector <- 1:30 \n",
    "fht.vector <- dbinom(y.vector, size = n, prob = p0)\n",
    "\n",
    "plot(y.vector, fht.vector, type = \"b\", col = \"cornflowerblue\", lwd = 2, xlab = \"y\", ylab = \"\", main = sprintf(\"F. HT; p-value = P(y<%i or y>%i | p = %.1f, n = %i) = %.4f\", k1, k2, p0, n, p.value))\n",
    "\n",
    "abline(v = k1, col = \"aquamarine3\", lwd = 2.5); abline(v = k2, col = \"aquamarine3\", lwd = 2.5)\n",
    "abline(v = y, col = \"magenta\", lwd = 2.5)\n",
    "\n",
    "abline(v = exp.val, col = \"red\", lwd = 2.5)\n",
    "\n",
    "polygon(x = c(0, y.vector[y.vector <= k1], k1), y = c(0, fht.vector[y.vector <= k1], 0), col = \"aquamarine3\")\n",
    "polygon(x = c(k2, y.vector[y.vector >= k2], 0), y = c(0, fht.vector[y.vector >= k2], 0), col = \"aquamarine3\")\n",
    "\n",
    "legend(x = 0, y = 0.105, legend = c(sprintf(\"Binom(p = %.1f) likelihood\", p0), sprintf(\"E[y] if p = p0: %i\", exp.val), sprintf(\"observed y = %i\", y), sprintf(\"k1 = %i\", k1), sprintf(\"k2 = %i\", k2)), lty = rep(1, 5), col = c(\"cornflowerblue\", \"red\", \"magenta\", rep(\"aquamarine3\", 2)))"
   ]
  },
  {
   "cell_type": "markdown",
   "id": "51672728-cc81-4fdc-9a90-76a39ac9f8f5",
   "metadata": {},
   "source": [
    "That this second time $H_0$ was rejected with both approaches is an intuitive result: this time we had a larger dataset and yet observed less successes, and this intuitively suggests a lower $p$."
   ]
  },
  {
   "cell_type": "markdown",
   "id": "efe97ec6-92ae-43b6-88b2-fd3e4728db95",
   "metadata": {},
   "source": [
    "Notice that hypothesis testing done this way is at least in part arbitrary; if for example in the above cell we change the right extremum from 25 to 24 the p-value jumps from 0.0409 to 0.511, hence *even with the same (arbitrary) significance the null hypothesis changes from rejected to accepted!*           \n",
    "This is inevitable; there is no unique \"best\" way to design the acceptance/rejection region, because there are multiple choices thereof such that the resulting p-value is slightly larger/smaller than $\\alpha$."
   ]
  }
 ],
 "metadata": {
  "kernelspec": {
   "display_name": "R",
   "language": "R",
   "name": "ir"
  },
  "language_info": {
   "codemirror_mode": "r",
   "file_extension": ".r",
   "mimetype": "text/x-r-source",
   "name": "R",
   "pygments_lexer": "r",
   "version": "4.0.5"
  }
 },
 "nbformat": 4,
 "nbformat_minor": 5
}
