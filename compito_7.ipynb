{
 "cells": [
  {
   "cell_type": "markdown",
   "id": "8e695fc4-bc01-4599-b946-f97c7e23f72d",
   "metadata": {},
   "source": [
    "## name: Marco Giunta\n",
    "### RLab07"
   ]
  },
  {
   "cell_type": "code",
   "execution_count": 3,
   "id": "826b0891-6669-4725-8921-04fa09bc4069",
   "metadata": {},
   "outputs": [
    {
     "name": "stderr",
     "output_type": "stream",
     "text": [
      "-- \u001b[1mAttaching packages\u001b[22m ------------------------------------------------------------------------------- tidyverse 1.3.1 --\n",
      "\n",
      "\u001b[32mv\u001b[39m \u001b[34mggplot2\u001b[39m 3.3.3     \u001b[32mv\u001b[39m \u001b[34mpurrr  \u001b[39m 0.3.4\n",
      "\u001b[32mv\u001b[39m \u001b[34mtibble \u001b[39m 3.1.0     \u001b[32mv\u001b[39m \u001b[34mdplyr  \u001b[39m 1.0.5\n",
      "\u001b[32mv\u001b[39m \u001b[34mtidyr  \u001b[39m 1.1.3     \u001b[32mv\u001b[39m \u001b[34mstringr\u001b[39m 1.4.0\n",
      "\u001b[32mv\u001b[39m \u001b[34mreadr  \u001b[39m 1.4.0     \u001b[32mv\u001b[39m \u001b[34mforcats\u001b[39m 0.5.1\n",
      "\n",
      "-- \u001b[1mConflicts\u001b[22m ---------------------------------------------------------------------------------- tidyverse_conflicts() --\n",
      "\u001b[31mx\u001b[39m \u001b[34mdplyr\u001b[39m::\u001b[32mfilter()\u001b[39m masks \u001b[34mstats\u001b[39m::filter()\n",
      "\u001b[31mx\u001b[39m \u001b[34mdplyr\u001b[39m::\u001b[32mlag()\u001b[39m    masks \u001b[34mstats\u001b[39m::lag()\n",
      "\n"
     ]
    }
   ],
   "source": [
    "library(\"tidyverse\")"
   ]
  },
  {
   "cell_type": "markdown",
   "id": "9091427c-20a6-4e66-81c7-5a05f8fa573c",
   "metadata": {},
   "source": [
    "## Ex. 1: blood test\n",
    "### 1.1: binomial likelihood\n",
    "If $y$ is the number of times the test fails to detect the disease in the patients then we can model $y$ as being sampled from a binomial likelihood, whose bias parameter $p$ is unknown to us initially and to be determined via inference.       \n",
    "### 1.2: frequentist estimate of $p$\n",
    "If we want to use a frequentist approach given the binomial likelihood it suffices to use the following equation:\n",
    "\\begin{equation}\n",
    "  p_f = \\frac{y}{n}\n",
    "\\end{equation}\n",
    "where $y/n=6/75$ is the number of ill patients whose disease wasn't noticed by the test (i.e. the fraction of false negatives).           \n",
    "This works because $y/n$ is an unbiased estimator of $p_{\\text{true}}$ in the frequentist setting, as can be easily shown:\n",
    "\\begin{equation}\n",
    "  \\mathbb{E} (p_f) = \\mathbb{E}\\left(\\frac{y}{n}\\right) = \\frac{\\mathbb{E}(y)}{n} = \\frac{np}{n} = p   \\implies |\\mathbb{E}(p_f) - p| = 0\n",
    "\\end{equation}\n",
    "where $p$ is the \"true\" unknown but fixed value whose existence is assumed in the frequentist setting.          \n",
    "Notice: the fact that $p$ can be estimated this way is an intuitive result if we consider that each test is essentially a Bernoulli trial and that probabilities in the frequentist approach are long run frequencies of the kind n. of successes/n. of attempts."
   ]
  },
  {
   "cell_type": "code",
   "execution_count": 2,
   "id": "28600351-4d17-4a21-ae8c-736baef905d3",
   "metadata": {},
   "outputs": [
    {
     "name": "stdout",
     "output_type": "stream",
     "text": [
      "[1] \"frequentist estimate of p: 0.08\"\n"
     ]
    }
   ],
   "source": [
    "y <- 6\n",
    "n <- 75\n",
    "pf <- y/n\n",
    "\n",
    "print(paste(\"frequentist estimate of p:\", pf))"
   ]
  },
  {
   "cell_type": "code",
   "execution_count": 90,
   "id": "19e6a726-8a0b-41ce-b667-036299258d0a",
   "metadata": {},
   "outputs": [
    {
     "data": {
      "image/png": "[encoded data removed]",
      "text/plain": [
       "Plot with title \"binomial likelihood (y = 6, n = 75)\""
      ]
     },
     "metadata": {
      "image/png": {
       "height": 420,
       "width": 420
      }
     },
     "output_type": "display_data"
    }
   ],
   "source": [
    "# notice that even if we didn't know the exact result mentioned above we could still obtain p_f\n",
    "# using the MLE frequentist approach as follows\n",
    "\n",
    "p.vector <- seq(0, 1, length.out = 1000)\n",
    "binomial.likelihood <- function(p, y = 6, n = 75) dbinom(x = y, size = n, prob = p)\n",
    "\n",
    "plot(p.vector, binomial.likelihood(p.vector), type = \"l\", col = \"cornflowerblue\", xlab = \"p\", ylab = \"\", main = \"binomial likelihood (y = 6, n = 75)\", lwd = 3)\n",
    "abline(v = pf, col = \"red\", lwd = 2.5)\n",
    "legend(x = 0.65, y = 0.16, legend = c(\"bin. likelihood\" , sprintf(\"p_f = y/n = %.2f\", pf)), lty = c(1,1), col = c(\"cornflowerblue\", \"red\"), lwd = c(3, 2.5))"
   ]
  },
  {
   "cell_type": "markdown",
   "id": "7b39f99a-d7db-4dd1-a230-e94c34004d15",
   "metadata": {},
   "source": [
    "Notice that the binomial unbiased estimator is none other than the argmax of the binomial likelihood."
   ]
  },
  {
   "cell_type": "markdown",
   "id": "97071e5f-5040-4476-b799-8dba65486602",
   "metadata": {},
   "source": [
    "### 1.3: Bayesian inference of $p$\n",
    "This time we use Bayes' theorem in the standard way using the prior defined in the exercise: a beta prior with mean 0.15 and sd 0.14 (we can compute the $\\alpha, \\beta$ parameters associated to this value using the formulae and code contained [here](https://stats.stackexchange.com/questions/12232/calculating-the-parameters-of-a-beta-distribution-using-the-mean-and-variance)).         \n",
    "Once we know the values of the prior's $\\alpha$ and $\\beta$ we can compute the posterior's parameters using the usual simple update rules, since a beta prior is conjugate to the binomial likelihood; this means the new $\\alpha', \\beta'$ are given by:\n",
    "\\begin{equation}\n",
    "  \\alpha' = \\alpha + y\n",
    "\\end{equation}\n",
    "\\begin{equation}\n",
    "  \\beta' = \\beta + n - y\n",
    "\\end{equation}"
   ]
  },
  {
   "cell_type": "code",
   "execution_count": 20,
   "id": "70e3b1c5-8319-4c44-9204-d0b75b402755",
   "metadata": {},
   "outputs": [
    {
     "name": "stdout",
     "output_type": "stream",
     "text": [
      "[1] \"prior alpha, beta parameters =  0.825765306122449 and 4.67933673469388\"\n"
     ]
    }
   ],
   "source": [
    "estBetaParams <- function(mu, var) {\n",
    "  alpha <- ((1 - mu) / var - 1 / mu) * mu ^ 2\n",
    "  beta <- alpha * (1 / mu - 1)\n",
    "  return(params = list(alpha = alpha, beta = beta))\n",
    "}\n",
    "\n",
    "prior.params <- estBetaParams(mu = 0.15, var = 0.14^2)\n",
    "alpha.prior <- prior.params$alpha; beta.prior <- prior.params$beta\n",
    "print(paste(\"prior alpha, beta parameters = \", alpha.prior, \"and\", beta.prior))"
   ]
  },
  {
   "cell_type": "code",
   "execution_count": 22,
   "id": "74a48cd8-a5d8-4b1d-97ad-0cfa30baa11d",
   "metadata": {},
   "outputs": [
    {
     "name": "stdout",
     "output_type": "stream",
     "text": [
      "[1] \"posterior alpha, beta parameters =  6.82576530612245 and 73.6793367346939\"\n"
     ]
    }
   ],
   "source": [
    "alpha.posterior <- alpha.prior + y; beta.posterior <- beta.prior + n - y\n",
    "print(paste(\"posterior alpha, beta parameters = \", alpha.posterior, \"and\", beta.posterior))"
   ]
  },
  {
   "cell_type": "code",
   "execution_count": 81,
   "id": "2ebaf0a4-76c0-4e05-942f-b8a818807883",
   "metadata": {},
   "outputs": [
    {
     "name": "stdout",
     "output_type": "stream",
     "text": [
      "[1] \"most probable value for p (MAP estimator) = 0.0740740740740741\"\n"
     ]
    },
    {
     "data": {
      "image/png": "[encoded data removed]",
      "text/plain": [
       "Plot with title \"prior & posterior\""
      ]
     },
     "metadata": {
      "image/png": {
       "height": 420,
       "width": 420
      }
     },
     "output_type": "display_data"
    }
   ],
   "source": [
    "prior <- function(p) dbeta(x = p, shape1 = alpha.prior, shape2 = beta.prior)\n",
    "posterior <- function(p) dbeta(x = p, shape1 = alpha.posterior, shape2 = beta.posterior)\n",
    "mode.posterior <- p.vector[which.max(posterior(p.vector))]\n",
    "print(paste(\"most probable value for p (MAP estimator) =\", mode.posterior))\n",
    "\n",
    "plot(p.vector, prior(p.vector), type = \"l\", lwd = 3, col = \"darkgreen\", ylim = c(0, 14), main = \"prior & posterior\", xlab = \"p\", ylab = \"\")\n",
    "lines(p.vector, posterior(p.vector), lwd = 3, col = \"deepskyblue\")\n",
    "abline(v = mode.posterior, col = \"red\", lwd = 2.5)\n",
    "\n",
    "legend(x = 0.5, y = 14, legend = c(\"prior\", \"posterior\", sprintf(\"posterior mode = %.3f\", mode.posterior)), lty = rep(1, times = 3), lwd = c(3, 3, 2.5), col = c(\"darkgreen\", \"deepskyblue\", \"red\"))"
   ]
  },
  {
   "cell_type": "markdown",
   "id": "a3d2d8b0-451a-4650-bd93-f2eb9b6ed49b",
   "metadata": {},
   "source": [
    "### 1.4: bayesian hypothesis testing\n",
    "To perform an hypothesis testing in the bayesian way we first need to define a null hypothesis to test; in our case we set:\n",
    "- Null hypothesis $H_0$: $p \\geq p_0$, where $p$ and $p_0$ are the failure probabilities of the new and old tests respectively. If $H_0$ is accepted then the new test isn't better than the old one.\n",
    "- Alternative hypothesis $H_1$: $p < p_0$, i.e. the new test is better than the old one.        \n",
    "In a bayesian setting we can easily compute the probability that $p\\geq p_0$ using the integral of the posterior; in order to prove/disprove the null hypothesis to a given significance $\\alpha$, then, it suffices to compare $\\alpha$ with\n",
    "\\begin{equation}\n",
    "  P(H_0: p\\geq p_0) = \\int_{p_0}^1 P(p | y) \\ \\mathrm{d}p\n",
    "\\end{equation}\n",
    "where $P(p | y) = P(\\text{model} | \\text{data})$ is the beta posterior computed above."
   ]
  },
  {
   "cell_type": "code",
   "execution_count": 96,
   "id": "c6683b7f-7aee-471d-80d1-7c4985da43b6",
   "metadata": {},
   "outputs": [
    {
     "name": "stdout",
     "output_type": "stream",
     "text": [
      "[1] \"P(p >= p_0) = 0.0312793302979552\"\n",
      "[1] \"since 0.031 is less than  0.150 we reject the null hypothesis\"\n"
     ]
    }
   ],
   "source": [
    "# we set alpha = 5%\n",
    "significance <- 0.05 # I use this variable name to avoid confusion with the alpha par. of the beta dist.\n",
    "p0 <- 0.15 # see problem text for the values of p_0 and of the significance\n",
    "\n",
    "prob.hyp.testing <- integrate(posterior, p0, 1)$value\n",
    "print(paste(\"P(p >= p_0) =\", prob.hyp.testing))\n",
    "test <- prob.hyp.testing >= p0\n",
    "\n",
    "if (test) {\n",
    "    print(sprintf(\"since %.3f is greater than or equal to %.3f we accept the null hypothesis\", prob.hyp.testing, p0))\n",
    "    } else {\n",
    "        print(sprintf(\"since %.3f is less than  %.3f we reject the null hypothesis\", prob.hyp.testing, p0))\n",
    "}\n",
    "    "
   ]
  },
  {
   "cell_type": "code",
   "execution_count": 74,
   "id": "ad7e2d19-9130-4444-a912-d2a3c0b1bfcd",
   "metadata": {},
   "outputs": [
    {
     "data": {
      "image/png": "[encoded data removed]",
      "text/plain": [
       "Plot with title \"B. HT plot; Prob. the data can be explained by pure chance = 0.031\""
      ]
     },
     "metadata": {
      "image/png": {
       "height": 420,
       "width": 420
      }
     },
     "output_type": "display_data"
    }
   ],
   "source": [
    "plot(p.vector, posterior(p.vector), type = \"l\", col = \"deepskyblue3\", lwd = 3, xlab = \"p\", ylab = \"\", main = sprintf(\"B. HT plot; Prob. the data can be explained by pure chance = %.3f\", prob.hyp.testing))\n",
    "abline(v = p0, col = \"black\", lwd = 2)\n",
    "polygon(x = c(p0, p0, p.vector[p.vector >= p0]), y = c(0, posterior(p0), posterior(p.vector[p.vector >= p0])), col = \"deepskyblue\")\n",
    "\n",
    "legend(x = 0.75, y = 14, legend = c(\"posterior\", sprintf(\"p0 = %.2f\", p0), \"P(p >= p0)\"), lty = rep(1, times = 3), lwd = c(3, 3, 2), col = c(\"deepskyblue3\", \"black\", \"deepskyblue\"))"
   ]
  },
  {
   "cell_type": "markdown",
   "id": "1bbce7fc-9609-431d-b02f-46656835e3b5",
   "metadata": {},
   "source": [
    "### 1.5 frequentist hypothesis testing\n",
    "Once again we compare a certain probability with the chosen significance, but this time we rely on the likelihood rather than on the posterior. In the frequentist setting in this case the null hypothesis $H_0$ is \"the data is generated by the binomial likelihood with $p=p_0$\"; if this likelihood predicts that the probability of observing the data we actually observed/something more extreme ($y/n \\leq 6/75$) is smaller than the significance then $H_0$ is rejected.       \n",
    "To recap: we reject the null hypothesis (i.e. the new test is better to the chosen significance level) if\n",
    "\\begin{equation}\n",
    "  \\text{p-value} = P_{\\text{binom}}(y \\leq 6 | p = p_0 = 0.15, N = n = 75) = \\sum_{i = 0}^6 P_{\\text{binom}}(i | p = p_0, N = n) < \\alpha\n",
    "\\end{equation}\n",
    "Note: in practice there's no need to actually perform the sum of `dbinom` since `pbinom` takes care of this for us."
   ]
  },
  {
   "cell_type": "code",
   "execution_count": 120,
   "id": "5235b267-3f05-4179-a299-1f880ae085af",
   "metadata": {},
   "outputs": [
    {
     "name": "stdout",
     "output_type": "stream",
     "text": [
      "[1] \"p value = 0.0543533033542315\"\n",
      "[1] \"since 0.054353 is greater than or equal to 0.050000 we accept the null hypothesis\"\n"
     ]
    }
   ],
   "source": [
    "p.value <- pbinom(6, size = n, prob = p0)\n",
    "# p.value <- sum(dbinom(0:6, size = n, prob = p0)) # if we want to be explicit\n",
    "print(paste(\"p value =\", p.value))\n",
    "\n",
    "if (p.value < significance) {\n",
    "    print(sprintf(\"since %f is less than %f we reject the null hypothesis\", p.value, significance))\n",
    "} else {\n",
    "    print(sprintf(\"since %f is greater than or equal to %f we accept the null hypothesis\", p.value, significance))\n",
    "}"
   ]
  },
  {
   "cell_type": "code",
   "execution_count": 166,
   "id": "f1cfb85c-824c-4e4e-b42f-fecb57f415e3",
   "metadata": {},
   "outputs": [
    {
     "data": {
      "image/png": "[encoded data removed]",
      "text/plain": [
       "Plot with title \"F. HT; p-value = 0.054353\""
      ]
     },
     "metadata": {
      "image/png": {
       "height": 420,
       "width": 420
      }
     },
     "output_type": "display_data"
    }
   ],
   "source": [
    "y.vector <- 1:30 # y can only have integer values\n",
    "fht.vector <- dbinom(y.vector, size = n, prob = p0)\n",
    "\n",
    "plot(y.vector, fht.vector, type = \"b\", col = \"darkblue\", lwd = 2, xlab = \"y\", ylab = \"\", main = sprintf(\"F. HT; p-value = %f\", p.value))\n",
    "abline(v = y, col = \"black\", lwd = 2)\n",
    "polygon(x = c(0, y.vector[y.vector <= y], y), y = c(0, fht.vector[y.vector <= y], 0), col = \"deepskyblue\")\n",
    "\n",
    "legend(x = 13, y = 0.134, legend = c(sprintf(\"bin. likelihood (n = %i, p = %.2f)\", n, p0), sprintf(\"y = %i\", y), sprintf(\"P(y <= %i | n = %i, p = %.2f) = %.3f\", y, n, p0, p.value)), lty = rep(1, times = 3), col = c(\"darkblue\", \"black\", \"deepskyblue\"), lwd = rep(2.5, times = 3))"
   ]
  },
  {
   "cell_type": "markdown",
   "id": "e49d6d00-1569-42e4-970d-4b42dc6ef3db",
   "metadata": {},
   "source": [
    "## Ex.2: Poisson distribution"
   ]
  },
  {
   "cell_type": "code",
   "execution_count": null,
   "id": "173b6f31-4f70-44ab-a1b4-80509729aaa1",
   "metadata": {},
   "outputs": [],
   "source": []
  },
  {
   "cell_type": "markdown",
   "id": "1a1f6996-fa88-47aa-aad7-ac6b9980e451",
   "metadata": {},
   "source": [
    "## Ex. 3: water quality"
   ]
  },
  {
   "cell_type": "code",
   "execution_count": null,
   "id": "95739f51-484d-466d-b23a-b04aace1d707",
   "metadata": {},
   "outputs": [],
   "source": []
  }
 ],
 "metadata": {
  "kernelspec": {
   "display_name": "R",
   "language": "R",
   "name": "ir"
  },
  "language_info": {
   "codemirror_mode": "r",
   "file_extension": ".r",
   "mimetype": "text/x-r-source",
   "name": "R",
   "pygments_lexer": "r",
   "version": "4.0.5"
  }
 },
 "nbformat": 4,
 "nbformat_minor": 5
}
